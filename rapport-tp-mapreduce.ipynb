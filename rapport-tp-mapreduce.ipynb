{
 "cells": [
  {
   "cell_type": "markdown",
   "metadata": {},
   "source": [
    "# <center>Rapport de TP - implémentation de Hadoop MapReduce \"from scratch\" en Java\"</center>"
   ]
  },
  {
   "cell_type": "markdown",
   "metadata": {},
   "source": [
    "__Activer le kernel python3__"
   ]
  },
  {
   "cell_type": "markdown",
   "metadata": {},
   "source": [
    "### <font color=\"red\">Etape 0</font> : Mise en place de l'environnement"
   ]
  },
  {
   "cell_type": "markdown",
   "metadata": {},
   "source": [
    "Avant de démarrer l'étude du mapreduce, nous allons télécharger les jeux de données nécessaires"
   ]
  },
  {
   "cell_type": "code",
   "execution_count": 1,
   "metadata": {},
   "outputs": [
    {
     "name": "stdout",
     "output_type": "stream",
     "text": [
      "--2019-11-10 20:00:04--  https://raw.githubusercontent.com/legifrance/Les-codes-en-vigueur/master/forestier_mayotte.txt\n",
      "Resolving raw.githubusercontent.com (raw.githubusercontent.com)... 151.101.120.133\n",
      "Connecting to raw.githubusercontent.com (raw.githubusercontent.com)|151.101.120.133|:443... connected.\n",
      "HTTP request sent, awaiting response... 200 OK\n",
      "Length: 1381 (1.3K) [text/plain]\n",
      "Saving to: ‘data/forestier_mayotte.txt’\n",
      "\n",
      "data/forestier_mayo 100%[===================>]   1.35K  --.-KB/s    in 0s      \n",
      "\n",
      "2019-11-10 20:00:04 (6.30 MB/s) - ‘data/forestier_mayotte.txt’ saved [1381/1381]\n",
      "\n"
     ]
    }
   ],
   "source": [
    "# forestier mayotte\n",
    "!wget https://raw.githubusercontent.com/legifrance/Les-codes-en-vigueur/master/forestier_mayotte.txt -O data/forestier_mayotte.txt"
   ]
  },
  {
   "cell_type": "code",
   "execution_count": 2,
   "metadata": {},
   "outputs": [
    {
     "name": "stdout",
     "output_type": "stream",
     "text": [
      "--2019-11-10 20:00:06--  https://raw.githubusercontent.com/legifrance/Les-codes-en-vigueur/master/deontologie_police_nationale.txt\n",
      "Resolving raw.githubusercontent.com (raw.githubusercontent.com)... 151.101.120.133\n",
      "Connecting to raw.githubusercontent.com (raw.githubusercontent.com)|151.101.120.133|:443... connected.\n",
      "HTTP request sent, awaiting response... 200 OK\n",
      "Length: 7488 (7.3K) [text/plain]\n",
      "Saving to: ‘data/deontologie_police_nationale.txt’\n",
      "\n",
      "data/deontologie_po 100%[===================>]   7.31K  --.-KB/s    in 0s      \n",
      "\n",
      "2019-11-10 20:00:06 (17.6 MB/s) - ‘data/deontologie_police_nationale.txt’ saved [7488/7488]\n",
      "\n"
     ]
    }
   ],
   "source": [
    "# deontologie_police_nationale\n",
    "!wget https://raw.githubusercontent.com/legifrance/Les-codes-en-vigueur/master/deontologie_police_nationale.txt -O data/deontologie_police_nationale.txt"
   ]
  },
  {
   "cell_type": "code",
   "execution_count": 3,
   "metadata": {},
   "outputs": [
    {
     "name": "stdout",
     "output_type": "stream",
     "text": [
      "--2019-11-10 20:00:08--  https://raw.githubusercontent.com/legifrance/Les-codes-en-vigueur/master/domaine_public_fluvial.txt\n",
      "Resolving raw.githubusercontent.com (raw.githubusercontent.com)... 151.101.120.133\n",
      "Connecting to raw.githubusercontent.com (raw.githubusercontent.com)|151.101.120.133|:443... connected.\n",
      "HTTP request sent, awaiting response... 200 OK\n",
      "Length: 71173 (70K) [text/plain]\n",
      "Saving to: ‘data/domaine_public_fluvial.txt’\n",
      "\n",
      "data/domaine_public 100%[===================>]  69.50K  --.-KB/s    in 0.01s   \n",
      "\n",
      "2019-11-10 20:00:08 (5.60 MB/s) - ‘data/domaine_public_fluvial.txt’ saved [71173/71173]\n",
      "\n"
     ]
    }
   ],
   "source": [
    "# domaine plublic fluvial\n",
    "!wget https://raw.githubusercontent.com/legifrance/Les-codes-en-vigueur/master/domaine_public_fluvial.txt -O data/domaine_public_fluvial.txt"
   ]
  },
  {
   "cell_type": "code",
   "execution_count": 4,
   "metadata": {},
   "outputs": [
    {
     "name": "stdout",
     "output_type": "stream",
     "text": [
      "--2019-11-10 20:00:09--  https://raw.githubusercontent.com/legifrance/Les-codes-en-vigueur/master/sante_publique.txt\n",
      "Resolving raw.githubusercontent.com (raw.githubusercontent.com)... 151.101.120.133\n",
      "Connecting to raw.githubusercontent.com (raw.githubusercontent.com)|151.101.120.133|:443... connected.\n",
      "HTTP request sent, awaiting response... 200 OK\n",
      "Length: 18111630 (17M) [text/plain]\n",
      "Saving to: ‘data/sante_publique.txt’\n",
      "\n",
      "data/sante_publique 100%[===================>]  17.27M  18.9MB/s    in 0.9s    \n",
      "\n",
      "2019-11-10 20:00:11 (18.9 MB/s) - ‘data/sante_publique.txt’ saved [18111630/18111630]\n",
      "\n"
     ]
    }
   ],
   "source": [
    "# sante publique\n",
    "!wget https://raw.githubusercontent.com/legifrance/Les-codes-en-vigueur/master/sante_publique.txt -O data/sante_publique.txt"
   ]
  },
  {
   "cell_type": "code",
   "execution_count": 5,
   "metadata": {},
   "outputs": [
    {
     "name": "stdout",
     "output_type": "stream",
     "text": [
      "--2019-11-10 20:00:11--  https://commoncrawl.s3.amazonaws.com/crawl-data/CC-MAIN-2017-13/segments/1490218189495.77/wet/CC-MAIN-20170322212949-00140-ip-10-233-31-227.ec2.internal.warc.wet.gz\n",
      "Resolving commoncrawl.s3.amazonaws.com (commoncrawl.s3.amazonaws.com)... 52.216.112.3\n",
      "Connecting to commoncrawl.s3.amazonaws.com (commoncrawl.s3.amazonaws.com)|52.216.112.3|:443... connected.\n",
      "HTTP request sent, awaiting response... 200 OK\n",
      "Length: 154369177 (147M) [application/octet-stream]\n",
      "Saving to: ‘data/big-file.gz’\n",
      "\n",
      "data/big-file.gz    100%[===================>] 147.22M  18.6MB/s    in 8.9s    \n",
      "\n",
      "2019-11-10 20:00:21 (16.6 MB/s) - ‘data/big-file.gz’ saved [154369177/154369177]\n",
      "\n"
     ]
    }
   ],
   "source": [
    "!wget https://commoncrawl.s3.amazonaws.com/crawl-data/CC-MAIN-2017-13/segments/1490218189495.77/wet/CC-MAIN-20170322212949-00140-ip-10-233-31-227.ec2.internal.warc.wet.gz\\\n",
    "    -O data/big-file.gz\n",
    "!cd data && gunzip big-file.gz"
   ]
  },
  {
   "cell_type": "markdown",
   "metadata": {},
   "source": [
    "__Activer le kernel java__"
   ]
  },
  {
   "cell_type": "markdown",
   "metadata": {},
   "source": [
    "### <font color=\"red\">Etape 1</font> : Faire un programme séquentiel non parallélisé qui compte le nombre d'occurrences des mots dans un fichier. "
   ]
  },
  {
   "cell_type": "code",
   "execution_count": 1,
   "metadata": {},
   "outputs": [],
   "source": [
    "import java.io.IOException;\n",
    "import java.nio.file.Files;\n",
    "import java.nio.file.Paths;\n",
    "import java.util.ArrayList;\n",
    "import java.util.Collections;\n",
    "import java.util.Comparator;\n",
    "import java.util.HashMap;\n",
    "import java.util.LinkedHashMap;\n",
    "import java.util.Map;\n",
    "import java.util.Map.Entry;\n",
    "\n",
    "import static java.util.stream.Collectors.*;\n",
    "\n",
    "public class WordsCount{\n",
    "    \n",
    "    public static ArrayList<String> read_file(String filename){\n",
    "        ArrayList<String> lines = new ArrayList<>();\n",
    "        try {\n",
    "            lines = (ArrayList<String>) Files.readAllLines(Paths.get(filename));\n",
    "        } catch (IOException e) {\n",
    "            System.out.println(\"Problem when loading file\");\n",
    "            return null;\n",
    "        }\n",
    "        return lines;\n",
    "    }\n",
    "    \n",
    "    public static ArrayList<String[]> tokenize(ArrayList<String> lines){\n",
    "        ArrayList<String[]> tokenize_corpus = new ArrayList<>();\n",
    "        for (String line : lines) {\n",
    "            // removes punctuations\n",
    "            line = line.replaceAll(\"\\\\p{Punct}\",\"\").toLowerCase().trim();\n",
    "\n",
    "            tokenize_corpus.add(line.split(\" \"));\n",
    "        }\n",
    "        return tokenize_corpus;\n",
    "    }\n",
    "    \n",
    "    public static HashMap<String, Double> words_count(String filename){\n",
    "        // Function for the question 1\n",
    "        ArrayList<String> lines = WordsCount.read_file(filename);\n",
    "        ArrayList<String[]> lines_tokenized = WordsCount.tokenize(lines);\n",
    "        HashMap<String, Double> words_count = new HashMap<>();\n",
    "\n",
    "        for (String[] line_tokenized: lines_tokenized) {\n",
    "            for (String word:line_tokenized) {\n",
    "                if (word.isEmpty() != true){\n",
    "                    if (words_count.get(word) == null) {\n",
    "                            words_count.put(word, 1.0);\n",
    "                    } else {\n",
    "                            words_count.put(word, words_count.get(word)+1);\n",
    "                    }\n",
    "                }\n",
    "            }\n",
    "        }\n",
    "        return words_count;\n",
    "    }\n",
    "    \n",
    "    public static HashMap<String, Double> sorted_map_by_numeric_value(HashMap<String, Double> hash_map){\n",
    "        // Function for question 2\n",
    "        HashMap<String, Double> sorted_map = hash_map\n",
    "                                            .entrySet()\n",
    "                                            .stream()\n",
    "                                            .sorted(Collections.reverseOrder(Map.Entry.comparingByValue()))\n",
    "                                            .collect(toMap(Map.Entry::getKey, Map.Entry::getValue, (e1, e2) -> e2,\n",
    "                                                    LinkedHashMap::new));\n",
    "        return sorted_map;\n",
    "    }\n",
    "    \n",
    "    public static HashMap<String, Double> sort(HashMap<String, Double> hash_map){\n",
    "        // Function for question 3\n",
    "        HashMap<String, Double> sorted_map = hash_map\n",
    "                                                .entrySet()\n",
    "                                                .stream()\n",
    "                                                .sorted(new Comparator<Entry<String, Double>>() {\n",
    "                                                    @Override\n",
    "                                                    public int compare(Entry<String, Double> e1, Entry<String, Double> e2) {\n",
    "                                                        if (e1.getValue().equals(e2.getValue())) {\n",
    "                                                                return e1.getKey().compareTo(e2.getKey());\n",
    "                                                        } else {\n",
    "                                                            return e2.getValue().compareTo(e1.getValue());\n",
    "                                                        }\n",
    "                                                    }\n",
    "                                                }).collect(toMap(Map.Entry::getKey, Map.Entry::getValue, (e1, e2) -> e1,\n",
    "                                                        LinkedHashMap::new));\n",
    "        return sorted_map;\n",
    "    }\n",
    "    \n",
    "    public static void print_map(Map<String, Double> hash_map) {\n",
    "        for (Entry<String, Double> el:hash_map.entrySet()) {\n",
    "                System.out.println(el.getKey() + \" \" + el.getValue());\n",
    "        }\n",
    "    }\n",
    "    \n",
    "    public static void print_map(Map<String, Double> hash_map, Integer n) {\n",
    "        Integer count = 0;\n",
    "        for (Entry<String, Double> el:hash_map.entrySet()) {\n",
    "            if(count == n){\n",
    "                break;\n",
    "            } else {\n",
    "              System.out.println(el.getKey() + \" \" + el.getValue());\n",
    "                count++;\n",
    "            }\n",
    "        }\n",
    "    }\n",
    "    \n",
    "    public static void main(String[] args){\n",
    "        System.out.print(\"Hello Jupyter from java\");\n",
    "    }\n",
    "}"
   ]
  },
  {
   "cell_type": "markdown",
   "metadata": {},
   "source": [
    "__1. Premier comptage en séquentiel pur__\n",
    "\n",
    "Implémentez un logiciel en java qui compte le nombre d’occurrences des mots d’un fichier d’entrée de manière non parallélisée (monothread, une seul thread), en utilisant un seul processeur.<br> \n",
    "Quelle structure de donnée est la plus pertinente pour stocker les résultats: List, HashMap ou HashSet ou une autre ? Pour quelle raison ? \n",
    "\n",
    " \n",
    "\n",
    "Testez votre programme avec un fichier d’entrée input.txt avec comme contenu: \n",
    "```sh \n",
    "Deer Beer River \n",
    "Car Car River \n",
    "Deer Car Beer\n",
    "```\n",
    "\n",
    "Résultat: \n",
    "```sh \n",
    "Deer 2 \n",
    "Beer 2 \n",
    "River 2 \n",
    "Car 3\n",
    "```"
   ]
  },
  {
   "cell_type": "code",
   "execution_count": 2,
   "metadata": {},
   "outputs": [
    {
     "name": "stdout",
     "output_type": "stream",
     "text": [
      "deer 2.0\n",
      "car 3.0\n",
      "river 2.0\n",
      "beer 2.0\n"
     ]
    }
   ],
   "source": [
    "WordsCount.print_map(WordsCount.words_count(\"data/input.txt\"));"
   ]
  },
  {
   "cell_type": "markdown",
   "metadata": {},
   "source": [
    "__2. Premier tri en séquentiel pur__\n",
    "\n",
    "Modifiez votre programme pour trier par nombre d'occurrences: \n",
    "\n",
    "Résultat: \n",
    "```sh\n",
    "Car 3 \n",
    "Deer 2 \n",
    "Beer 2 \n",
    "River 2\n",
    "```"
   ]
  },
  {
   "cell_type": "code",
   "execution_count": 3,
   "metadata": {},
   "outputs": [
    {
     "name": "stdout",
     "output_type": "stream",
     "text": [
      "car 3.0\n",
      "deer 2.0\n",
      "river 2.0\n",
      "beer 2.0\n"
     ]
    }
   ],
   "source": [
    "HashMap<String, Double> words_count = WordsCount.words_count(\"data/input.txt\");\n",
    "WordsCount.print_map(WordsCount.sorted_map_by_numeric_value(words_count));"
   ]
  },
  {
   "cell_type": "markdown",
   "metadata": {},
   "source": [
    "__3. Deuxième tri alphabétique en séquentiel pur__\n",
    "\n",
    "Modifiez le programme pour trier alphabétiquement pour les mots à égalité du nombre d’occurrences: \n",
    "\n",
    "Résultat: \n",
    "```sh\n",
    "Car 3 \n",
    "Beer 2 \n",
    "Deer 2\n",
    "River 2 \n",
    "```"
   ]
  },
  {
   "cell_type": "code",
   "execution_count": 4,
   "metadata": {},
   "outputs": [
    {
     "name": "stdout",
     "output_type": "stream",
     "text": [
      "car 3.0\n",
      "beer 2.0\n",
      "deer 2.0\n",
      "river 2.0\n"
     ]
    }
   ],
   "source": [
    "HashMap<String, Double> words_count = WordsCount.words_count(\"data/input.txt\");\n",
    "WordsCount.print_map(WordsCount.sort(words_count));"
   ]
  },
  {
   "cell_type": "markdown",
   "metadata": {},
   "source": [
    "__4. Test du programme séquentiel sur le code forestier de Mayotte__\n",
    "\n",
    "Testez ensuite votre programme avec le code forestier de Mayotte disponible sur github forestier_mayotte.txt :  \n",
    "https://github.com/legifrance/Les-codes-en-vigueur \n",
    "\n",
    "Votre programme a-t-il fonctionné du premier coup ?\n",
    "\n",
    "Vérifiez en ouvrant le fichier texte qu’il contient bien du texte et non du code HTML. \n",
    "\n",
    "Ne perdez pas de temps à corriger les éventuelles erreurs dues aux caractères spéciaux ou à des mots suspects ou illisibles (de toutes façons par la suite il y aura du chinois dans le texte)."
   ]
  },
  {
   "cell_type": "markdown",
   "metadata": {},
   "source": [
    "Le programme à fonctionné du premier coup, cependant les caractères spéciaux et la ponctuation faussaient les résultats. Comme demandé dans l'énoncé, je n'ai pas passé beaucoup de temps sur le nettoyage des données. J'ai seulement ajouté une regex spéciale Java afin de supprimer la ponctuation."
   ]
  },
  {
   "cell_type": "code",
   "execution_count": 5,
   "metadata": {},
   "outputs": [
    {
     "name": "stdout",
     "output_type": "stream",
     "text": [
      "de 12.0\n",
      "biens 8.0\n",
      "ou 8.0\n",
      "code 6.0\n",
      "forestier 6.0\n",
      "des 5.0\n",
      "partie 5.0\n",
      "agroforestiers 4.0\n",
      "aux 4.0\n",
      "communes 4.0\n",
      "dispositions 4.0\n",
      "forestiers 4.0\n",
      "gestion 4.0\n",
      "le 4.0\n",
      "les 4.0\n"
     ]
    }
   ],
   "source": [
    "HashMap<String, Double> words_count = WordsCount.words_count(\"data/forestier_mayotte.txt\");\n",
    "WordsCount.print_map(WordsCount.sort(words_count), 15);"
   ]
  },
  {
   "cell_type": "markdown",
   "metadata": {},
   "source": [
    "__5. Les 50 mots du code de la déontologie de la police nationale__\n",
    "\n",
    "Testez votre programme avec le code de déontologie de la police nationale disponible sur github deontologie_police_nationale.txt : https://github.com/legifrance/Les-codes-en-vigueur \n",
    "\n",
    "De même ne perdez pas de temps à filtrer les caractères spéciaux ou autres mots bizarres. Pourquoi ? Car nous travaillerons ensuite sur des textes en chinois, japonais, arabe et d’autres langues. Si vous implémentez une étape de filtrage ici en français elle ne servira à rien par la suite. Quels sont les 5 premiers mots (qui ressemblent à des mots) parmi les 50 premiers de la liste triée résultat ? Gardez la réponse pour l’intégrer au rapport."
   ]
  },
  {
   "cell_type": "markdown",
   "metadata": {},
   "source": [
    "Les 5 premiers mots parmi les 50 premiers de la liste triée sont \"de, la, police, et, des\""
   ]
  },
  {
   "cell_type": "code",
   "execution_count": 6,
   "metadata": {},
   "outputs": [
    {
     "name": "stdout",
     "output_type": "stream",
     "text": [
      "de 98.0\n",
      "la 51.0\n",
      "police 38.0\n",
      "et 36.0\n",
      "des 33.0\n",
      "le 27.0\n",
      "à 25.0\n",
      "les 24.0\n",
      "article 20.0\n",
      "nationale 20.0\n",
      "↬ 19.0\n",
      "en 13.0\n",
      "est 13.0\n",
      "titre 13.0\n",
      "ou 12.0\n",
      "qui 11.0\n",
      "fonctionnaires 10.0\n",
      "lautorité 10.0\n",
      "aux 9.0\n",
      "code 9.0\n",
      "fonctionnaire 9.0\n",
      "par 9.0\n",
      "commandement 8.0\n",
      "du 8.0\n",
      "leur 8.0\n",
      "ses 8.0\n",
      "au 7.0\n",
      "devoirs 7.0\n",
      "déontologie 7.0\n",
      "il 7.0\n",
      "ne 7.0\n",
      "a 6.0\n",
      "dans 6.0\n",
      "cas 5.0\n",
      "faire 5.0\n",
      "lordre 5.0\n",
      "ordres 5.0\n",
      "pour 5.0\n",
      "sa 5.0\n",
      "se 5.0\n",
      "si 5.0\n",
      "sont 5.0\n",
      "tout 5.0\n",
      "doit 4.0\n",
      "droits 4.0\n",
      "elle 4.0\n",
      "exécution 4.0\n",
      "missions 4.0\n",
      "pas 4.0\n",
      "personne 4.0\n"
     ]
    }
   ],
   "source": [
    "HashMap<String, Double> words_count = WordsCount.words_count(\"data/deontologie_police_nationale.txt\");\n",
    "WordsCount.print_map(WordsCount.sort(words_count), 50);"
   ]
  },
  {
   "cell_type": "markdown",
   "metadata": {},
   "source": [
    "__6. Les 50 mots du code du domaine public fluvial__\n",
    "\n",
    "Testez votre programme avec le code du domaine public fluvial domaine_public_fluvial.txt. \n",
    "\n",
    "Quels sont les 5 premiers mots (qui ressemblent à des mots) parmi les 50 premiers de la liste triée résultat ?  Gardez la réponse pour l’intégrer au rapport."
   ]
  },
  {
   "cell_type": "markdown",
   "metadata": {},
   "source": [
    "Les 5 premiers mots parmi les 50 premiers de la liste triée sont \"de, le, la, du, et\""
   ]
  },
  {
   "cell_type": "code",
   "execution_count": 7,
   "metadata": {},
   "outputs": [
    {
     "name": "stdout",
     "output_type": "stream",
     "text": [
      "de 630.0\n",
      "le 429.0\n",
      "la 370.0\n",
      "du 347.0\n",
      "et 295.0\n",
      "les 240.0\n",
      "des 222.0\n",
      "à 209.0\n",
      "est 173.0\n",
      "dans 150.0\n",
      "par 124.0\n",
      "sur 123.0\n",
      "ou 120.0\n",
      "en 109.0\n",
      "article 107.0\n",
      "bateau 106.0\n",
      "↬ 103.0\n",
      "au 97.0\n",
      "un 79.0\n",
      "pour 73.0\n",
      "tribunal 72.0\n",
      "lieu 69.0\n",
      "larticle 68.0\n",
      "aux 66.0\n",
      "il 66.0\n",
      "dimmatriculation 64.0\n",
      "qui 54.0\n",
      "bureau 50.0\n",
      "code 48.0\n",
      "titre 48.0\n",
      "navigation 46.0\n",
      "que 46.0\n",
      "dun 44.0\n",
      "bateaux 43.0\n",
      "où 43.0\n",
      "son 43.0\n",
      "domicile 42.0\n",
      "se 41.0\n",
      "créanciers 40.0\n",
      "juge 38.0\n",
      "a 37.0\n",
      "propriétaire 37.0\n",
      "commerce 36.0\n",
      "saisie 36.0\n",
      "intérieure 35.0\n",
      "délai 34.0\n",
      "nom 34.0\n",
      "prix 34.0\n",
      "sil 33.0\n",
      "cas 32.0\n"
     ]
    }
   ],
   "source": [
    "HashMap<String, Double> words_count = WordsCount.words_count(\"data/domaine_public_fluvial.txt\");\n",
    "WordsCount.print_map(WordsCount.sort(words_count), 50);"
   ]
  },
  {
   "cell_type": "markdown",
   "metadata": {},
   "source": [
    "__7. Les 50 mots du code de la santé publique__\n",
    "\n",
    "Testez votre programme avec le code de la santé publique sante_publique.txt. \n",
    "\n",
    "Quels sont les 5 premiers mots (qui ressemblent à des mots) parmi les 50 premiers de la liste triée résultat ?  Gardez la réponse pour l’intégrer au rapport. "
   ]
  },
  {
   "cell_type": "markdown",
   "metadata": {},
   "source": [
    "Les 5 premiers mots parmi les 50 premiers de la liste triée sont \"de, le, des, à, et\""
   ]
  },
  {
   "cell_type": "code",
   "execution_count": 8,
   "metadata": {},
   "outputs": [
    {
     "name": "stdout",
     "output_type": "stream",
     "text": [
      "de 190889.0\n",
      "la 82599.0\n",
      "des 67813.0\n",
      "à 65546.0\n",
      "et 62702.0\n",
      "les 62474.0\n",
      "le 56800.0\n",
      "du 48514.0\n",
      "ou 40848.0\n",
      "en 31742.0\n",
      "par 30718.0\n",
      "au 25730.0\n",
      "dans 25104.0\n",
      "article 23844.0\n",
      "larticle 22998.0\n",
      "↬ 21810.0\n",
      "est 21792.0\n",
      "un 20536.0\n",
      "santé 20197.0\n",
      "l 18762.0\n",
      "pour 16876.0\n",
      "aux 16144.0\n",
      "sont 15048.0\n",
      "une 13868.0\n",
      "sur 12624.0\n",
      "que 11348.0\n",
      "r 11236.0\n",
      "qui 10150.0\n",
      "dun 9672.0\n",
      "peut 8608.0\n",
      "directeur 8604.0\n",
      "lagence 8284.0\n",
      "conditions 8094.0\n",
      "être 8070.0\n",
      "cas 8040.0\n",
      "ne 7714.0\n",
      "a 7622.0\n",
      "conseil 7560.0\n",
      "dune 7374.0\n",
      "son 7298.0\n",
      "général 6912.0\n",
      "il 6666.0\n",
      "ce 6352.0\n",
      "ces 6188.0\n",
      "1° 6114.0\n",
      "dispositions 5926.0\n",
      "2° 5872.0\n",
      "leur 5766.0\n",
      "pas 5702.0\n",
      "sécurité 5282.0\n"
     ]
    }
   ],
   "source": [
    "HashMap<String, Double> words_count = WordsCount.words_count(\"data/sante_publique.txt\");\n",
    "WordsCount.print_map(WordsCount.sort(words_count), 50);"
   ]
  },
  {
   "cell_type": "markdown",
   "metadata": {},
   "source": [
    "__8. Chronométrage séquentiel__\n",
    "\n",
    "Chronométrer votre programme sur le code de la santé publique."
   ]
  },
  {
   "cell_type": "code",
   "execution_count": 9,
   "metadata": {},
   "outputs": [
    {
     "name": "stdout",
     "output_type": "stream",
     "text": [
      "Durée du word count: 0.961000 s"
     ]
    }
   ],
   "source": [
    "double start_time = System.currentTimeMillis();\n",
    "HashMap<String, Double> words_count = WordsCount.words_count(\"data/sante_publique.txt\");\n",
    "double end_time = System.currentTimeMillis();\n",
    "double total_time = end_time - start_time;\n",
    "System.out.print(String.format(\"Durée du word count: %f s\", total_time/1000))"
   ]
  },
  {
   "cell_type": "markdown",
   "metadata": {},
   "source": [
    "__9. Travailler sur des gros fichiers__\n",
    "\n",
    "Testez votre programme sur un cas réel: un extrait de toutes les pages internet transformées au format texte brut (format WET). Toutes les pages sur  internet au format texte sont disponibles sur [commoncrawl](http://commoncrawl.org/the-data/get-started/) : chaque mois, environ 3 milliards de pages web, soit 250 To de données sont stockées. Ces données sont disponibles par tranche de moins d’1Go environ, vous travaillerez sur une tranche de 380Mo.\n",
    "J’ai choisi une tranche en particulier pour avoir une comparaison entre nous (vous pouvez tester sur d’autres tranches si vous voulez). Téléchargez cette tranche ici:\n",
    "[gros fichier](https://commoncrawl.s3.amazonaws.com/crawl-data/CC-MAIN-2017-13/segments/1490218189495.77/wet/CC-MAIN-20170322212949-00140-ip-10-233-31-227.ec2.internal.warc.wet.gz) \n",
    "Décompressez et obtenez le fichier CC-MAIN-20170322212949-00140-ip-10-233-31-227.ec2.internal.warc.wet \n",
    "Il s’agit d’une tranche contenant un ensemble de sites internet au format texte brut (WET).\n",
    "Testez votre programme avec ce fichier en entrée. Chronométrez-le."
   ]
  },
  {
   "cell_type": "code",
   "execution_count": 10,
   "metadata": {},
   "outputs": [
    {
     "name": "stdout",
     "output_type": "stream",
     "text": [
      "Durée du word count: 61.482000 s"
     ]
    }
   ],
   "source": [
    "double start_time = System.currentTimeMillis();\n",
    "HashMap<String, Double> words_count = WordsCount.words_count(\"data/big-file\");\n",
    "double end_time = System.currentTimeMillis();\n",
    "double total_time = end_time - start_time;\n",
    "System.out.print(String.format(\"Durée du word count: %f s\", total_time/1000))"
   ]
  },
  {
   "cell_type": "markdown",
   "metadata": {},
   "source": [
    "__Activer le kernel phython3__"
   ]
  },
  {
   "cell_type": "markdown",
   "metadata": {},
   "source": [
    "### <font color=\"red\">Etape 2</font> : Travailler avec plusieurs ordinateurs en réseau."
   ]
  },
  {
   "cell_type": "markdown",
   "metadata": {},
   "source": [
    "__1. Nom court, nom long__\n",
    "\n",
    "Quel est le nom COURT de votre ordinateur (le nom simple sans le domaine) ? Quel est le nom LONG de votre ordinateur (le nom avec le domaine) ? Comment les connaître en ligne de commande ? Sur les ordinateurs de l’école, est-il possible d’obtenir ces noms autrement qu’en ligne de commande ? Ajoutez les réponses à votre rapport."
   ]
  },
  {
   "cell_type": "markdown",
   "metadata": {},
   "source": [
    "Dans l'architecture docker actuelle, il n'y a pas de différence entre le nom court et le nom long des machines"
   ]
  },
  {
   "cell_type": "code",
   "execution_count": 1,
   "metadata": {},
   "outputs": [
    {
     "name": "stdout",
     "output_type": "stream",
     "text": [
      "Nom long: master\n",
      "Nom court: master\n"
     ]
    }
   ],
   "source": [
    "!echo Nom long: `hostname -f`\n",
    "!echo Nom court: `hostname`"
   ]
  },
  {
   "cell_type": "markdown",
   "metadata": {},
   "source": [
    "__2. Adresse ip__\n",
    "\n",
    "Comment connaître les adresses (plusieurs) IP de votre ordinateur en ligne de commande ? Autrement (en passant par un site internet par exemple) ? Ajoutez les réponses à votre rapport."
   ]
  },
  {
   "cell_type": "code",
   "execution_count": 2,
   "metadata": {},
   "outputs": [
    {
     "name": "stdout",
     "output_type": "stream",
     "text": [
      "Adresse ip : 172.21.0.5\n"
     ]
    }
   ],
   "source": [
    "!echo Adresse ip : `hostname -I`"
   ]
  },
  {
   "cell_type": "markdown",
   "metadata": {},
   "source": [
    "__3. Du nom vers l’IP__\n",
    "\n",
    "Comment à partir du nom d’un ordinateur, obtenir les adresses IP en ligne de commande ? Ajoutez les réponses à votre rapport."
   ]
  },
  {
   "cell_type": "code",
   "execution_count": 3,
   "metadata": {},
   "outputs": [
    {
     "name": "stdout",
     "output_type": "stream",
     "text": [
      "worker-1 has address 172.21.0.3\n"
     ]
    }
   ],
   "source": [
    "!host worker-1"
   ]
  },
  {
   "cell_type": "markdown",
   "metadata": {},
   "source": [
    "__4. De l’IP vers le nom__\n",
    "\n",
    "Comment, à partir d’une adresse IP, obtenir les noms associés en ligne de commande ? Ajoutez les réponses à votre rapport."
   ]
  },
  {
   "cell_type": "code",
   "execution_count": 4,
   "metadata": {},
   "outputs": [
    {
     "name": "stdout",
     "output_type": "stream",
     "text": [
      "Host 4.0.19.172.in-addr.arpa. not found: 3(NXDOMAIN)\n"
     ]
    }
   ],
   "source": [
    "!host 172.19.0.4"
   ]
  },
  {
   "cell_type": "markdown",
   "metadata": {},
   "source": [
    "__5. Ping pong à l’intérieur!__\n",
    "\n",
    "Testez la communication avec d’autres ordinateurs (pas le vôtre) depuis le réseau de l’école en utilisant la commande ping (pour arrêter le ping faire CTRL + C). suivi du nom court, du nom long, de l’IP. Les trois méthodes fonctionnent-elles ? Ajoutez les réponses à votre rapport."
   ]
  },
  {
   "cell_type": "code",
   "execution_count": 5,
   "metadata": {},
   "outputs": [
    {
     "name": "stdout",
     "output_type": "stream",
     "text": [
      "PING worker-1 (172.21.0.3) 56(84) bytes of data.\n",
      "64 bytes from worker-1.docker_default (172.21.0.3): icmp_seq=1 ttl=64 time=4.23 ms\n",
      "64 bytes from worker-1.docker_default (172.21.0.3): icmp_seq=2 ttl=64 time=0.069 ms\n",
      "64 bytes from worker-1.docker_default (172.21.0.3): icmp_seq=3 ttl=64 time=0.098 ms\n",
      "64 bytes from worker-1.docker_default (172.21.0.3): icmp_seq=4 ttl=64 time=0.126 ms\n",
      "64 bytes from worker-1.docker_default (172.21.0.3): icmp_seq=5 ttl=64 time=0.105 ms\n",
      "64 bytes from worker-1.docker_default (172.21.0.3): icmp_seq=6 ttl=64 time=0.067 ms\n",
      "64 bytes from worker-1.docker_default (172.21.0.3): icmp_seq=7 ttl=64 time=0.055 ms\n",
      "64 bytes from worker-1.docker_default (172.21.0.3): icmp_seq=8 ttl=64 time=0.060 ms\n",
      "^C\n",
      "\n",
      "--- worker-1 ping statistics ---\n",
      "8 packets transmitted, 8 received, 0% packet loss, time 7275ms\n",
      "rtt min/avg/max/mdev = 0.055/0.601/4.233/1.373 ms\n"
     ]
    }
   ],
   "source": [
    "!ping worker-1"
   ]
  },
  {
   "cell_type": "code",
   "execution_count": 7,
   "metadata": {},
   "outputs": [
    {
     "name": "stdout",
     "output_type": "stream",
     "text": [
      "PING 172.19.0.4 (172.19.0.4) 56(84) bytes of data.\n",
      "^C\n",
      "\n",
      "--- 172.19.0.4 ping statistics ---\n",
      "3 packets transmitted, 0 received, 100% packet loss, time 2118ms\n",
      "\n"
     ]
    }
   ],
   "source": [
    "!ping 172.19.0.4"
   ]
  },
  {
   "cell_type": "markdown",
   "metadata": {},
   "source": [
    "Toutes les méthodes fonctionnent"
   ]
  },
  {
   "cell_type": "markdown",
   "metadata": {},
   "source": [
    "__7. Calculer en ligne de commande sur l’ordinateur local__\n",
    "\n",
    "Comment lancer un calcul en ligne de commande sur votre ordinateur (par exemple 2 + 3) ? Parmi les multiples réponses possibles, lesquelles permettent de lancer le calcul et d’obtenir le résultat en appuyant une seule fois sur la touche <Entrée> ? Ajoutez les réponses à votre rapport."
   ]
  },
  {
   "cell_type": "code",
   "execution_count": 8,
   "metadata": {},
   "outputs": [
    {
     "name": "stdout",
     "output_type": "stream",
     "text": [
      "8\n"
     ]
    }
   ],
   "source": [
    "!echo $((3+5)) "
   ]
  },
  {
   "cell_type": "markdown",
   "metadata": {},
   "source": [
    "__8. Calculer en ligne de commande sur un ordinateur distant__\n",
    "\n",
    "Comment lancer un calcul  (par exemple 2 + 3) en ligne de commande sur un autre ordinateur (à distance) ? Il faudra certainement vous authentifier avec un mot de passe. Comment obtenir le résultat du calcul immédiatement après avoir tapé son mot de passe ? Ajoutez les réponses à votre rapport.\n",
    "\n",
    "La communication ssh sans mot de passe entre les containers docker est déjà configurée."
   ]
  },
  {
   "cell_type": "code",
   "execution_count": 9,
   "metadata": {},
   "outputs": [
    {
     "name": "stdout",
     "output_type": "stream",
     "text": [
      "Warning: Permanently added 'worker-1,172.21.0.3' (ECDSA) to the list of known hosts.\n",
      "bash: warning: setlocale: LC_ALL: cannot change locale (en_US.UTF-8)\n",
      "8\n"
     ]
    }
   ],
   "source": [
    "!ssh root@worker-1 echo $((3+5))"
   ]
  },
  {
   "cell_type": "markdown",
   "metadata": {},
   "source": [
    "### <font color=\"red\">Etape 3</font> : Travailler avec des fichiers locaux ou sur un serveur NFS.."
   ]
  },
  {
   "cell_type": "markdown",
   "metadata": {},
   "source": [
    "__1. Chemin absolu__\n",
    "\n",
    "Quel est le chemin absolu de votre répertoire personnel, votre home directory ? (commandes “cd” puis ”pwd”)"
   ]
  },
  {
   "cell_type": "code",
   "execution_count": 10,
   "metadata": {},
   "outputs": [
    {
     "name": "stdout",
     "output_type": "stream",
     "text": [
      "/home/jovyan\n"
     ]
    }
   ],
   "source": [
    "!cd && pwd"
   ]
  },
  {
   "cell_type": "markdown",
   "metadata": {},
   "source": [
    "__2. Un fichier dans le répertoire personnel__\n",
    "\n",
    "Créez un fichier fperso.txt contenant le texte “bonjour” dans votre répertoire personnel (sur un ordinateur de l’école). \n",
    "Vérifiez le contenu du fichier avec cette commande exactement:\n",
    "```sh\n",
    "cat ~/fperso.txt\n",
    "```"
   ]
  },
  {
   "cell_type": "code",
   "execution_count": 11,
   "metadata": {},
   "outputs": [
    {
     "name": "stdout",
     "output_type": "stream",
     "text": [
      "bonjour\n"
     ]
    }
   ],
   "source": [
    "!echo bonjour > $HOME/fperso.txt && cat $HOME/fperso.txt"
   ]
  },
  {
   "cell_type": "markdown",
   "metadata": {},
   "source": [
    "__3. Ou se trouve le fichier dans le répertoire personnel__\n",
    "\n",
    "Ce fichier est-il sur le disque dur de l’ordinateur ou autre part ? Comment savoir où est stocké physiquement ce fichier, à l’aide de quelle commande ?"
   ]
  },
  {
   "cell_type": "code",
   "execution_count": 12,
   "metadata": {},
   "outputs": [
    {
     "name": "stdout",
     "output_type": "stream",
     "text": [
      "Filesystem     1K-blocks     Used Available Use% Mounted on\n",
      "overlay        263174212 25483060 224252996  11% /\n"
     ]
    }
   ],
   "source": [
    "!df -k $HOME/fperso.txt"
   ]
  },
  {
   "cell_type": "markdown",
   "metadata": {},
   "source": [
    "__4. Un dossier et un fichier dans le répertoire temporaire__\n",
    "\n",
    "Créez un dossier `/tmp/<votre nom d’utilisateur>` en remplaçant <votre nom d’utilisateur> (ne pas mettre les caractères < et > ).\n",
    "Créez un fichier ftemp.txt dans le répertoire `/tmp/<votre nom d’utilisateur>` .\n",
    "Vérifiez le contenu du fichier avec cette commande exactement:\n",
    "```sh\n",
    "cat /tmp/<votre nom d’utilisateur>/ftemp.txt\n",
    "```\n",
    "Ce dossier et ce fichier sont-ils sur le disque dur de l’ordinateur ou autre part ? Comment savoir où sont stockés physiquement ces éléments, à l’aide de quelle commande ?"
   ]
  },
  {
   "cell_type": "code",
   "execution_count": 13,
   "metadata": {},
   "outputs": [
    {
     "name": "stdout",
     "output_type": "stream",
     "text": [
      "bonjour\n",
      "Filesystem     1K-blocks     Used Available Use% Mounted on\n",
      "overlay        263174212 25483068 224252988  11% /\n"
     ]
    }
   ],
   "source": [
    "!mkdir /tmp/$NB_USER && echo bonjour > /tmp/$NB_USER/ftemp.txt\n",
    "!cat /tmp/$NB_USER/ftemp.txt\n",
    "\n",
    "# To know where the file is stored\n",
    "!df -k /tmp/$NB_USER/ftemp.txt"
   ]
  },
  {
   "cell_type": "markdown",
   "metadata": {},
   "source": [
    "__Copie de ficher entre ordinateur distant__"
   ]
  },
  {
   "cell_type": "code",
   "execution_count": 14,
   "metadata": {},
   "outputs": [
    {
     "name": "stdout",
     "output_type": "stream",
     "text": [
      "Warning: Permanently added 'worker-1,172.21.0.3' (ECDSA) to the list of known hosts.\n",
      "bash: warning: setlocale: LC_ALL: cannot change locale (en_US.UTF-8)\n",
      "Warning: Permanently added 'worker-1,172.21.0.3' (ECDSA) to the list of known hosts.\n",
      "bash: warning: setlocale: LC_ALL: cannot change locale (en_US.UTF-8)\n",
      "ftemp.txt                                     100%    8     6.6KB/s   00:00    \n",
      "Warning: Permanently added 'worker-1,172.21.0.3' (ECDSA) to the list of known hosts.\n",
      "bash: warning: setlocale: LC_ALL: cannot change locale (en_US.UTF-8)\n",
      "ftemp.txt\n"
     ]
    }
   ],
   "source": [
    "!ssh root@worker-1 mkdir /tmp/$NB_USER\n",
    "!scp /tmp/$NB_USER/ftemp.txt root@worker-1:/tmp/$NB_USER\n",
    "!ssh root@worker-1 ls /tmp/$NB_USER"
   ]
  },
  {
   "cell_type": "markdown",
   "metadata": {},
   "source": [
    "### <font color=\"red\">Etape 4</font> : Lancer des programmes java à distance manuellement."
   ]
  },
  {
   "cell_type": "markdown",
   "metadata": {},
   "source": [
    "__Activer le kernel java__"
   ]
  },
  {
   "cell_type": "markdown",
   "metadata": {},
   "source": [
    "__Un premier programme SLAVE sous Eclipse__\n",
    "\n",
    "Faire un programme Java nommé “SLAVE” qui calcule 3+5, affiche le résultat, sous Eclipse (Pour lancer Eclipse: Menu applications>développement), lancer ce programme dans Eclipse (flèche verte “exécuter”)"
   ]
  },
  {
   "cell_type": "code",
   "execution_count": 1,
   "metadata": {},
   "outputs": [],
   "source": [
    "public class Slave {\n",
    "\n",
    "    public static void main() throws InterruptedException {\n",
    "        System.out.println(3 + 5);\n",
    "    }\n",
    "}"
   ]
  },
  {
   "cell_type": "code",
   "execution_count": 2,
   "metadata": {},
   "outputs": [
    {
     "name": "stdout",
     "output_type": "stream",
     "text": [
      "8\n"
     ]
    }
   ],
   "source": [
    "new Slave().main()"
   ]
  },
  {
   "cell_type": "markdown",
   "metadata": {},
   "source": [
    "__1. Exportation en JAR__\n",
    "\n",
    "Exporter le programme Java en slave.jar exécutable (Java ARchive dite Runnable) sous Eclipse. Attention de bien vérifier que le JAR est de type “Runnable”/”exécutable”."
   ]
  },
  {
   "cell_type": "markdown",
   "metadata": {},
   "source": [
    "Le fichier `slave.jar` se trouve dans dossier `hadoop-from-scratch/jar`"
   ]
  },
  {
   "cell_type": "markdown",
   "metadata": {},
   "source": [
    "__2. Exécution sur disque dur local__\n",
    "\n",
    "Créez le répertoire `/tmp/<votre nom d’utilisateur>/`\n",
    "Copiez  slave.jar exécutable dans le répertoire `/tmp/<votre nom d’utilisateur>/`\n",
    "Testez et Lancer le slave.jar en ligne de commande sur votre ordinateur local."
   ]
  },
  {
   "cell_type": "markdown",
   "metadata": {},
   "source": [
    "__Activer le kernel python3__"
   ]
  },
  {
   "cell_type": "code",
   "execution_count": 1,
   "metadata": {},
   "outputs": [
    {
     "name": "stdout",
     "output_type": "stream",
     "text": [
      "8\n"
     ]
    }
   ],
   "source": [
    "!cp jar/slave.jar /tmp/$NB_USER && java -jar /tmp/$NB_USER/slave.jar"
   ]
  },
  {
   "cell_type": "markdown",
   "metadata": {},
   "source": [
    "__3. Copie du JAR et exécution distante__\n",
    "\n",
    "Depuis la machine A contenant `/tmp/<votre nom d’utilisateur>/slave.jar` \n",
    "Créez à distance sur la machine B (s’il n’existe pas) un répertoire `/tmp/<votre nom d’utilisateur>/`\n",
    "Copiez slave.jar sur la machine B dans le répertoire `/tmp/<votre nom d’utilisateur>/`\n",
    "Exécutez à distance (depuis A sur la machine B) le slave.jar.\n",
    "Quelle est la commande tapée pour effectuer cette dernière action ?"
   ]
  },
  {
   "cell_type": "code",
   "execution_count": 2,
   "metadata": {},
   "outputs": [
    {
     "name": "stdout",
     "output_type": "stream",
     "text": [
      "Warning: Permanently added 'worker-1,172.21.0.3' (ECDSA) to the list of known hosts.\n",
      "bash: warning: setlocale: LC_ALL: cannot change locale (en_US.UTF-8)\n",
      "mkdir: cannot create directory '/tmp/jovyan': File exists\n",
      "Warning: Permanently added 'worker-1,172.21.0.3' (ECDSA) to the list of known hosts.\n",
      "bash: warning: setlocale: LC_ALL: cannot change locale (en_US.UTF-8)\n",
      "slave.jar                                     100%   10KB   4.6MB/s   00:00    \n",
      "Warning: Permanently added 'worker-1,172.21.0.3' (ECDSA) to the list of known hosts.\n",
      "bash: warning: setlocale: LC_ALL: cannot change locale (en_US.UTF-8)\n",
      "8\n"
     ]
    }
   ],
   "source": [
    "!ssh root@worker-1 mkdir /tmp/$NB_USER\n",
    "!scp jar/slave.jar root@worker-1:/tmp/$NB_USER\n",
    "!ssh root@worker-1 java -jar /tmp/$NB_USER/slave.jar"
   ]
  },
  {
   "cell_type": "markdown",
   "metadata": {},
   "source": [
    "__Activer le kernel java__"
   ]
  },
  {
   "cell_type": "markdown",
   "metadata": {},
   "source": [
    "### <font color=\"red\">Etape 5</font> : Lancer des programmes en ligne de commande depuis java et afficher la sortie standard et la sortie d’erreur."
   ]
  },
  {
   "cell_type": "markdown",
   "metadata": {},
   "source": [
    "__1. Un programme MASTER java qui lance un autre programme en ligne de commande!__\n",
    "\n",
    "Ecrire un programme java nommé “MASTER” qui lance la commande suivante en utilisant ProcessBuilder:\n",
    "```sh\n",
    "ls -al /tmp\n",
    "```\n",
    "(vous pouvez aussi tester cette commande dans un terminal avant)\n",
    "Récupérer et afficher la sortie de cette commande.\n",
    "Vous devez utiliser ProcessBuilder de cette façon:\n",
    "\n",
    "```java\n",
    "ProcessBuilder pb = new ProcessBuilder(\"ls\", “-al”, “/tmp”);\n",
    "```"
   ]
  },
  {
   "cell_type": "code",
   "execution_count": 1,
   "metadata": {},
   "outputs": [],
   "source": [
    "import java.io.BufferedReader;\n",
    "import java.io.IOException;\n",
    "import java.io.InputStreamReader;\n",
    "\n",
    "public class Master {\n",
    "    public static void run_shell_command(String[] command) {\n",
    "        ProcessBuilder pb = new ProcessBuilder(command);\n",
    "\n",
    "        try {\n",
    "            Process process = pb.start();\n",
    "            BufferedReader reader_input = new BufferedReader(new InputStreamReader(process.getInputStream()));\n",
    "\n",
    "            String line;\n",
    "            while ((line = reader_input.readLine()) != null) {\n",
    "                System.out.println(line);\n",
    "            }\n",
    "\n",
    "        } catch (IOException e) {\n",
    "            e.printStackTrace();\n",
    "        }\n",
    "    }\n",
    "\n",
    "    public static void main(String[] args) throws IOException {\n",
    "        Master.run_shell_command(args[0].split(\" \"));\n",
    "    }\n",
    "}"
   ]
  },
  {
   "cell_type": "code",
   "execution_count": 2,
   "metadata": {},
   "outputs": [
    {
     "name": "stdout",
     "output_type": "stream",
     "text": [
      "total 32\n",
      "drwxrwxrwt 1 root   root  4096 Nov 10 20:03 .\n",
      "drwxr-xr-x 1 root   root  4096 Nov 10 19:56 ..\n",
      "drwxr-xr-x 2 jovyan users 4096 Aug  3 03:25 .empty\n",
      "-rw-r--r-- 1 jovyan users  413 Nov 10 12:34 gradle-worker-classpath17894997741142749954txt\n",
      "drwxr-xr-x 1 jovyan users 4096 Nov 10 20:04 hsperfdata_jovyan\n",
      "drwxr-xr-x 2 root   root  4096 Nov 10 12:34 hsperfdata_root\n",
      "drwxr-xr-x 2 jovyan users 4096 Nov 10 20:03 jovyan\n"
     ]
    }
   ],
   "source": [
    "new Master().main(new String[]{\"ls -al /tmp\"});"
   ]
  },
  {
   "cell_type": "markdown",
   "metadata": {},
   "source": [
    "__2. Un programme MASTER java qui gère les erreurs de lancement d’un autre programme en ligne de commande.__\n",
    "\n",
    "Modifiez votre programme”MASTER” pour qu’il affiche la sortie d’erreur en cas d’erreur lors de l’exécution de la commande. Testez la sortie d’erreur avec une commande qui échoue avec un sortie d’erreur. Essayez par exemple d’exécuter la commande “ls /jesuisunhero”.\n",
    "Explications: si on tape la commande “ls /jesuiunhero”, le dossier /jesuisunhero n’existant pas, on aura une erreur de type “impossible d’accéder à /jesuisunhero: aucun fichier ou dossier de ce type.” qui s’affiche dans la sortie d’erreur. En effet, il y a deux sorties: les sorties standards (sans erreur) et les sorties d’erreurs.\n",
    "Vous devez utiliser ProcessBuilder de cette façon:\n",
    "```java\n",
    "ProcessBuilder pb = new ProcessBuilder(\"ls\", \"/jesuisunhero”);\n",
    "```\n",
    "Sur `pb`, vous pouvez récupérer le flux de la sortie standard et le flux de la sortie d’erreur."
   ]
  },
  {
   "cell_type": "markdown",
   "metadata": {},
   "source": [
    "Afin de gérer les éventuelles erreurs lors du lancement du processus, nous pouvons utiliser la méthode `getErrorStream` de l'objet `Process`. Cette méthode revoie le flux de messages d'erreur du processus. "
   ]
  },
  {
   "cell_type": "code",
   "execution_count": 3,
   "metadata": {},
   "outputs": [],
   "source": [
    "import java.io.BufferedReader;\n",
    "import java.io.IOException;\n",
    "import java.io.InputStreamReader;\n",
    "\n",
    "public class Master {\n",
    "    public static void run_shell_command(String[] command) {\n",
    "        ProcessBuilder pb = new ProcessBuilder(command);\n",
    "\n",
    "        try {\n",
    "            Process process = pb.start();\n",
    "            BufferedReader reader_input = new BufferedReader(new InputStreamReader(process.getInputStream()));\n",
    "\n",
    "            String line;\n",
    "            while ((line = reader_input.readLine()) != null) {\n",
    "                System.out.println(line);\n",
    "            }\n",
    "            \n",
    "            BufferedReader reader_error = new BufferedReader(new InputStreamReader(process.getErrorStream()));\n",
    "\n",
    "            while ((line = reader_error.readLine()) != null) {\n",
    "                System.out.println(line);\n",
    "            }\n",
    "\n",
    "        } catch (IOException e) {\n",
    "            e.printStackTrace();\n",
    "        }\n",
    "    }\n",
    "\n",
    "    public static void main(String[] args) throws IOException {\n",
    "        Master.run_shell_command(args[0].split(\" \"));\n",
    "    }\n",
    "}"
   ]
  },
  {
   "cell_type": "code",
   "execution_count": 4,
   "metadata": {},
   "outputs": [
    {
     "name": "stdout",
     "output_type": "stream",
     "text": [
      "ls: cannot access '/fr': No such file or directory\n"
     ]
    }
   ],
   "source": [
    "new Master().main(new String[]{\"ls -al /fr\"});"
   ]
  },
  {
   "cell_type": "markdown",
   "metadata": {},
   "source": [
    "__3. Un programme MASTER java qui lance un slave.jar en ligne de commande.__\n",
    "\n",
    "Modifiez votre programme “MASTER” pour qu’il lance “SLAVE”, c’est à dire slave.jar situé sur la même machine que “MASTER” dans le dossier \n",
    "```sh\n",
    "/tmp/<votre nom d’utilisateur>/slave.jar\n",
    "```"
   ]
  },
  {
   "cell_type": "code",
   "execution_count": 5,
   "metadata": {},
   "outputs": [
    {
     "name": "stdout",
     "output_type": "stream",
     "text": [
      "8\n"
     ]
    }
   ],
   "source": [
    "new Master().main(new String[]{\"java -jar jar/slave.jar\"});"
   ]
  },
  {
   "cell_type": "markdown",
   "metadata": {},
   "source": [
    "### <font color=\"red\">Etape 6</font> : Gérer les timeout du MASTER."
   ]
  },
  {
   "cell_type": "markdown",
   "metadata": {},
   "source": [
    "__1. Un SLAVE qui simule un calcul de 10 secondes.__\n",
    "\n",
    "Modifiez votre programme SLAVE pour qu’il simule une attente de 10 secondes avant d’afficher le résultat du calcul 3+5. Pour cela utilisez\n",
    "`Thread.sleep(10000);` \n",
    "Vérifiez le bon fonctionnement du SLAVE et constatez qu’il y a 10 secondes entre le démarrage du SLAVE et l’affichage du résultat. Attention de ne rien afficher avant les 10 secondes pour que la question suivante fonctionne correctement.\n",
    "Générez de nouveau le slave.jar. Copiez-le en écrasant le slave.jar dans le dossier `/tmp/<votre nom d’utilisateur>/slave.jar`\n",
    "Testez le lancement à partir de MASTER."
   ]
  },
  {
   "cell_type": "code",
   "execution_count": 6,
   "metadata": {},
   "outputs": [],
   "source": [
    "public class Slave {\n",
    "\n",
    "    public static void main() throws InterruptedException {\n",
    "        Thread.sleep(10000);\n",
    "        System.out.println(3 + 5);\n",
    "    }\n",
    "}"
   ]
  },
  {
   "cell_type": "code",
   "execution_count": 7,
   "metadata": {},
   "outputs": [
    {
     "name": "stdout",
     "output_type": "stream",
     "text": [
      "8\n"
     ]
    }
   ],
   "source": [
    "new Slave().main()"
   ]
  },
  {
   "cell_type": "markdown",
   "metadata": {},
   "source": [
    "__2. Gérer les timeout au niveau du MASTER__\n",
    "\n",
    "Modifier le MASTER pour qu’il attende que quelque chose soit écrit dans la sortie standard (sans erreur) ou dans la sortie d’erreurs du SLAVE pendant un certain temps maximum. Au bout du temps imparti le MASTER considère un timeout.\n",
    "Il arrête les éventuels threads (si vous utilisez des threads - non obligatoire) s’occupant des sorties et/ou stoppe le processus créé avec ProcessBuilder.\n",
    "\n",
    "Vous devrez vérifier les TESTs suivants:\n",
    "- TEST1 : Testez le bon fonctionnement du timeout en lançant le SLAVE avec un timeout de 2 secondes sur les sorties (standard et d’erreur). Le timeout étant plus court (au niveau du MASTER 2 secondes) que le temps de calcul du SLAVE (10 secondes), le MASTER doit arrêter les éventuels threads (si vous en utilisez) et le processus.\n",
    "- TEST 2: Testez ensuite avec un timeout de 15 secondes, il ne devrait pas y avoir de timeout.\n",
    "- TEST 3: Testez ensuite en changeant le SLAVE pour qu’il écrive non plus dans la sortie standard (sans erreur) mais dans la sortie d’erreur. Pour cela, remplacez dans le Slave les System.out.print… par System.err.print…"
   ]
  },
  {
   "cell_type": "code",
   "execution_count": 8,
   "metadata": {},
   "outputs": [],
   "source": [
    "import java.io.BufferedReader;\n",
    "import java.io.IOException;\n",
    "import java.io.InputStream;\n",
    "import java.io.InputStreamReader;\n",
    "import java.util.Arrays;\n",
    "import java.util.concurrent.LinkedBlockingQueue;\n",
    "import java.util.concurrent.TimeUnit;\n",
    "\n",
    "public class Master {\n",
    "\n",
    "    static class ProcessLauncher {\n",
    "        Process process;\n",
    "        Integer timeout;\n",
    "        String[] command;\n",
    "        boolean error = false;\n",
    "        ThreadReaderStream input_stream;\n",
    "        ThreadReaderStream error_stream;\n",
    "\n",
    "        ProcessLauncher(String command, Integer timeout) {\n",
    "            this.timeout = timeout;\n",
    "            this.command = command.split(\" \");\n",
    "            ProcessBuilder builder = new ProcessBuilder(this.command);\n",
    "            try {\n",
    "                this.process = builder.start();\n",
    "            } catch (IOException e1) {\n",
    "                e1.printStackTrace();\n",
    "            }\n",
    "            assert process != null;\n",
    "            input_stream = new ThreadReaderStream(process.getInputStream());\n",
    "            error_stream = new ThreadReaderStream(process.getErrorStream());\n",
    "            input_stream.start();\n",
    "            error_stream.start();\n",
    "        }\n",
    "\n",
    "        boolean launch_process() throws InterruptedException {\n",
    "            String line;\n",
    "            while (((line = input_stream.queue.poll(this.timeout, TimeUnit.SECONDS)) != null)) {\n",
    "                System.out.print(line + \"\\n\");\n",
    "            }\n",
    "            while (((line = error_stream.queue.poll()) != null)) {\n",
    "                System.out.print(line + \"\\n\");\n",
    "                error = true;\n",
    "            }\n",
    "            return !error;\n",
    "        }\n",
    "    }\n",
    "\n",
    "    static class ThreadReaderStream extends Thread {\n",
    "        LinkedBlockingQueue<String> queue = new LinkedBlockingQueue<>();\n",
    "        BufferedReader reader;\n",
    "\n",
    "        ThreadReaderStream(InputStream stream) {\n",
    "            this.reader = new BufferedReader(new InputStreamReader(stream));\n",
    "        }\n",
    "\n",
    "        @Override\n",
    "        public void run() {\n",
    "            try {\n",
    "                String line;\n",
    "                while ((line = reader.readLine()) != null) {\n",
    "                    queue.put(line);\n",
    "                }\n",
    "            } catch (IOException | InterruptedException e) {\n",
    "                e.printStackTrace();\n",
    "            }\n",
    "        }\n",
    "    }\n",
    "\n",
    "\n",
    "    public static void main(String[] args) throws InterruptedException {\n",
    "        // Deploy the\n",
    "        String[] pc = args;\n",
    "        // Une facon de lancer les threads, sans attendre de retour de leur part:\n",
    "        Arrays.asList(pc).parallelStream()\n",
    "                .forEach(command -> {\n",
    "                    try {\n",
    "                        new ProcessLauncher(command, 2).launch_process();\n",
    "                    } catch (InterruptedException e) {\n",
    "                        e.printStackTrace();\n",
    "                    }});\n",
    "    }\n",
    "}"
   ]
  },
  {
   "cell_type": "markdown",
   "metadata": {},
   "source": [
    "### <font color=\"red\">Etape 7</font> : Déployer automatiquement le programme SLAVE sur un ensemble de machines."
   ]
  },
  {
   "cell_type": "markdown",
   "metadata": {},
   "source": [
    "A partir de cette étape, les classes présentes dans le package `src.mapreduce` du projet seront utilisées pour répondre aux questions. Afin de simplifier le rapport, certaines questions seront traitées brièvement. Le package `mapreduce` coontient 5 classes :\n",
    "\n",
    "- Master : C'est le programme master du mapreduce.\n",
    "- Slave : Correspond au code exécuté sur les workers (map, shuffle et reduce).\n",
    "- Deploy : Utilisée pour déployer des éléments sur les workers\n",
    "- Clean : Utilisée pour nettoyer les environnements sur les workers\n",
    "- Utils : Contient les fonctions utiles communes entre toutes les classes\n",
    "\n",
    "Tous les lancements de processus sur les machines sont fait en parallèles via les méthodes de la classe `Utils` :\n",
    "\n",
    "- `launch_actions_with_return` : Lance un processus et récupère la sortie.\n",
    "- `launch_actions_without_return` : Lance un processus sans attendre de retour.\n",
    "\n",
    "La méthode `parallelStream()` permet de parcourir et de lancer chaque commande de notre liste en parallèle."
   ]
  },
  {
   "cell_type": "code",
   "execution_count": 3,
   "metadata": {},
   "outputs": [],
   "source": [
    "import java.io.*;\n",
    "import java.nio.file.Files;\n",
    "import java.nio.file.Path;\n",
    "import java.nio.file.Paths;\n",
    "import java.util.ArrayList;\n",
    "import java.util.Collections;\n",
    "import java.util.List;\n",
    "import java.util.concurrent.LinkedBlockingQueue;\n",
    "import java.util.concurrent.TimeUnit;\n",
    "import java.util.stream.Collectors;\n",
    "import java.util.stream.Stream;\n",
    "\n",
    "class Utils {\n",
    "\n",
    "\n",
    "    static ArrayList<String> read_file(String filename) {\n",
    "        ArrayList<String> lines;\n",
    "        try {\n",
    "            lines = (ArrayList<String>) Files.readAllLines(Paths.get(filename));\n",
    "        } catch (IOException e) {\n",
    "            System.out.println(\"Problem when loading file\");\n",
    "            return null;\n",
    "        }\n",
    "        return lines;\n",
    "    }\n",
    "\n",
    "    static ArrayList<String[]> tokenize(ArrayList<String> lines) {\n",
    "        ArrayList<String[]> tokenize_corpus = new ArrayList<>();\n",
    "        for (String line : lines) {\n",
    "            // removes punctuations\n",
    "            line = line.toLowerCase().trim();\n",
    "\n",
    "            tokenize_corpus.add(line.split(\" \"));\n",
    "        }\n",
    "\n",
    "        return tokenize_corpus;\n",
    "    }\n",
    "\n",
    "    static void launch_actions_without_return(ArrayList<String> actions) throws InterruptedException {\n",
    "        ArrayList<ProcessLauncher> launchers = new ArrayList<>();\n",
    "        for (String command : actions) {\n",
    "            launchers.add(new ProcessLauncher(command, 2));\n",
    "            System.out.println(command);\n",
    "        }\n",
    "\n",
    "        launchers.parallelStream().forEach(ProcessLauncher::launch_process);\n",
    "\n",
    "        for (ProcessLauncher launcher : launchers)\n",
    "            launcher.input_stream.join();\n",
    "    }\n",
    "\n",
    "    static List<Boolean> launch_actions_with_return(ArrayList<String> actions) throws InterruptedException {\n",
    "        ArrayList<ProcessLauncher> launchers = new ArrayList<>();\n",
    "        for (String command : actions) {\n",
    "            launchers.add(new ProcessLauncher(command, 2));\n",
    "        }\n",
    "        List<Boolean> returnValue = launchers.parallelStream()\n",
    "                .map(ProcessLauncher::launch_process).collect(Collectors.toCollection(ArrayList::new));\n",
    "        for (ProcessLauncher launcher : launchers)\n",
    "            launcher.input_stream.join();\n",
    "        return returnValue;\n",
    "    }\n",
    "\n",
    "    static List<String> list_directory(String path_to_directory){\n",
    "        try (Stream<Path> walk = Files.walk(Paths.get(path_to_directory))) {\n",
    "\n",
    "            return walk.filter(Files::isRegularFile)\n",
    "                    .map(Path::toString).collect(Collectors.toList());\n",
    "        } catch (IOException e) {\n",
    "            e.printStackTrace();\n",
    "        }\n",
    "        return Collections.emptyList();\n",
    "    }\n",
    "\n",
    "    static void write_file(List<String> word_count, String filename, String mode) throws IOException {\n",
    "        if (mode.equals(\"a\")){\n",
    "            try{\n",
    "                FileWriter fstream = new FileWriter(filename,true);\n",
    "                BufferedWriter writer = new BufferedWriter(fstream);\n",
    "                for (String line:word_count){\n",
    "                    writer.write(line + \"\\n\");\n",
    "                }\n",
    "                writer.close();\n",
    "            }catch (Exception e){\n",
    "                System.err.println(\"Error while writing to file: \" +\n",
    "                        e.getMessage());\n",
    "            }\n",
    "        } else if (mode.equals(\"w\")){\n",
    "            BufferedWriter writer = new BufferedWriter(new FileWriter(filename));\n",
    "            for (String line:word_count){\n",
    "                writer.write(line + \"\\n\");\n",
    "            }\n",
    "            writer.close();\n",
    "        }\n",
    "    }\n",
    "\n",
    "    static class ProcessLauncher {\n",
    "        Process process;\n",
    "        Integer timeout;\n",
    "        String[] command;\n",
    "        ThreadReaderStream input_stream;\n",
    "        ThreadReaderStream error_stream;\n",
    "\n",
    "        ProcessLauncher(String command, Integer timeout) {\n",
    "            this.timeout = timeout;\n",
    "            this.command = command.split(\" \");\n",
    "            ProcessBuilder builder = new ProcessBuilder(this.command);\n",
    "            try {\n",
    "                this.process = builder.start();\n",
    "            } catch (IOException e1) {\n",
    "                e1.printStackTrace();\n",
    "            }\n",
    "            assert process != null;\n",
    "            input_stream = new ThreadReaderStream(process.getInputStream());\n",
    "            error_stream = new ThreadReaderStream(process.getErrorStream());\n",
    "            input_stream.start();\n",
    "            error_stream.start();\n",
    "        }\n",
    "\n",
    "        boolean launch_process() {\n",
    "            String line;\n",
    "            boolean running = true;\n",
    "            boolean tooLong = false;\n",
    "            while (running) {\n",
    "                try {\n",
    "                    // Wait For retourne vrai si le programme est arrete\n",
    "                    boolean stillRunning = !process.waitFor(5, TimeUnit.SECONDS);\n",
    "                    // On lit la sortie standard. Si on a eu quelque chose, on continue\n",
    "                    // ​\n",
    "                    if (!input_stream.queue.isEmpty()) {\n",
    "                        // On a du monde dans le buffer. On les recupere.\n",
    "                        // Si on ne veut pas les récuperer, on peut faire un \"reset\"\n",
    "                        // reader.reset();\n",
    "                        while (((line = input_stream.queue.poll()) != null)) {\n",
    "                            System.out.println(line);\n",
    "                        }\n",
    "                    } else if (!error_stream.queue.isEmpty()) {\n",
    "                        // On a du monde dans le buffer. On les recupere.\n",
    "                        // Si on ne veut pas les récuperer, on peut faire un \"reset\"\n",
    "                        // reader.reset();\n",
    "                        while (((line = error_stream.queue.poll()) != null)) {\n",
    "                            System.out.println(line);\n",
    "                        }\n",
    "                    } else if (stillRunning) {\n",
    "                        // Le process n'a rien écris pendant les 5 secondes. On le tue\n",
    "                        tooLong = true;\n",
    "                        process.destroy();\n",
    "                    }\n",
    "                    running = stillRunning && !tooLong;\n",
    "                } catch (InterruptedException e) {\n",
    "                    e.printStackTrace();\n",
    "                }\n",
    "            }\n",
    "            return !tooLong && process.exitValue()==0;\n",
    "        }\n",
    "    }\n",
    "\n",
    "    static class ThreadReaderStream extends Thread {\n",
    "        LinkedBlockingQueue<String> queue = new LinkedBlockingQueue<>();\n",
    "        BufferedReader reader;\n",
    "\n",
    "        ThreadReaderStream(InputStream stream) {\n",
    "            this.reader = new BufferedReader(new InputStreamReader(stream));\n",
    "        }\n",
    "\n",
    "        @Override\n",
    "        public void run() {\n",
    "            try {\n",
    "                String line;\n",
    "                while ((line = reader.readLine()) != null) {\n",
    "                    queue.put(line);\n",
    "                }\n",
    "            } catch (IOException | InterruptedException e) {\n",
    "                e.printStackTrace();\n",
    "            }\n",
    "        }\n",
    "    }\n",
    "}"
   ]
  },
  {
   "cell_type": "markdown",
   "metadata": {},
   "source": [
    "__1. Un programme DEPLOY : Test de connection SSH multiple__\n",
    "\n",
    "Créer un fichier texte à la main contenant : les adresses IP et/ou les noms des machines que nous voulons utiliser pour notre système réparti (par exemple toutes les machines de cette salle de TP), avec un nom ou une IP par ligne dans le fichier.\n",
    "Créer un nouveau programme java DEPLOY qui lit ce fichier ligne par ligne et teste si la connection SSH fonctionne bien sur chacune des machines. Attention, il s’agit bien d’un nouveau programme qui est séparé de MASTER ou SLAVE, vous ne l’exécuterez qu’en cas de mise à jour du SLAVE. Ceci permet de vérifier qu’une machine n’est pas éteinte ou qu’il y a un problème de connection (par exemple).\n",
    "Pour vérifier que la connection fonctionne bien, vous pouvez faire afficher le nom de la machine distante (en exécutant la commande hostname à distance) et vérifier que l’affichage a effectivement lieu, sans erreurs. Réutilisez des parties de codes de la cinquième étape.\n",
    "\n",
    "Votre programme DEPLOY lance-t-il les connections de manière séquentielle (les unes après les autres) ou de manière parallèle?\n",
    "\n",
    "\n",
    "__2. Un programme DEPLOY : copie de slave.jar multiple__\n",
    "\n",
    "Modifier votre programme DEPLOY pour qu’il copie le slave.jar dans `/tmp/<votre nom d’utilisateur>/` sur les ordinateurs dont la connection SSH  fonctionne.\n",
    "\n",
    "Pour cela, vous devez utiliser la commande mkdir -p pour créer les répertoires dans /tmp s’ils n’existent pas déjà, attendre que le mkdir se termine puis copier avec scp le fichier slave.jar. Comment faites-vous pour attendre que le mkdir se termine correctement?\n",
    "Vérifiez ensuite manuellement que le fichier a bien été copié sur les ordinateurs distants.\n",
    "Attention de bien attendre la fin du mkdir avant de lancer le scp (on ne veut pas avoir de copie avant que le dossier soit effectivement créé).\n",
    "\n",
    "Lors des copies, faites attention au caractère “ / ” à la fin d’un chemin :\n",
    " /tmp/toto est un chemin vers un fichier nommé toto\n",
    "/tmp/toto/ est un chemin vers un dossier nommé toto.\n",
    "\n",
    "Votre programme DEPLOY lance-t-il les copies de manière séquentielle (les unes après les autres) ou de manière parallèle?\n",
    "\n",
    "Votre programme DEPLOY lance-t-il les copies de manière séquentielle (les unes après les autres) ou de manière parallèle?"
   ]
  },
  {
   "cell_type": "code",
   "execution_count": 2,
   "metadata": {},
   "outputs": [],
   "source": [
    "import java.util.*;\n",
    "\n",
    "public class Deploy {\n",
    "\n",
    "    public static Boolean deploy(List<String> hostnames, String host_path, String remote_path) throws InterruptedException {\n",
    "        ArrayList<String> health_checks = new ArrayList<>();\n",
    "        ArrayList<String> check_dir = new ArrayList<>();\n",
    "        ArrayList<String> create_dirs = new ArrayList<>();\n",
    "        ArrayList<String> run_copy = new ArrayList<>();\n",
    "\n",
    "        // Create list of commands for each machines\n",
    "        assert hostnames != null;\n",
    "        for (String hostname : hostnames) {\n",
    "            health_checks.add(\"ssh -o StrictHostKeyChecking=no root@\" + hostname + \" hostname\");\n",
    "            create_dirs.add(\"ssh root@\" + hostname + \" if test ! -d \" + remote_path + \"; then mkdir -p \" + remote_path + \"; fi\");\n",
    "            check_dir.add(\"ssh root@\" + hostname + \" ls /tmp/root\");\n",
    "            run_copy.add(\"scp -r \" + host_path + \" root@\" + hostname + \":\" + remote_path);\n",
    "        }\n",
    "\n",
    "        // Apply health checker\n",
    "        List<Boolean> returnValue = Utils.launch_actions_with_return(health_checks);\n",
    "\n",
    "        // Check all machine are alive and deploy jar\n",
    "        boolean isNodesOk = returnValue.stream().allMatch(x -> x);\n",
    "        if (isNodesOk) {\n",
    "            Utils.launch_actions_without_return(create_dirs);\n",
    "\n",
    "            // wait for directories creation and check the creation\n",
    "            Thread.sleep(3000);\n",
    "            returnValue = Utils.launch_actions_with_return(check_dir);\n",
    "\n",
    "            // if all directories are created, deploy jar file\n",
    "            if (returnValue.stream().allMatch(x -> x)) {\n",
    "                Utils.launch_actions_without_return(run_copy);\n",
    "            } else {\n",
    "                System.out.println(\"Something went wrong during the directories creation\");\n",
    "                return false;\n",
    "            }\n",
    "        } else {\n",
    "            System.out.println(\"Not all nodes are safe, please check connection\");\n",
    "            return false;\n",
    "        }\n",
    "        return true;\n",
    "    }\n",
    "\n",
    "    public static void main(String[] args) throws InterruptedException {\n",
    "        System.out.println(\"Hello from deploy!\");\n",
    "    }\n",
    "}"
   ]
  },
  {
   "cell_type": "code",
   "execution_count": 32,
   "metadata": {},
   "outputs": [
    {
     "name": "stdout",
     "output_type": "stream",
     "text": [
      "worker-2\n",
      "worker-3\n",
      "worker-1\n",
      "ssh root@worker-1 if test ! -d /tmp/root/; then mkdir -p /tmp/root/; fi\n",
      "ssh root@worker-2 if test ! -d /tmp/root/; then mkdir -p /tmp/root/; fi\n",
      "ssh root@worker-3 if test ! -d /tmp/root/; then mkdir -p /tmp/root/; fi\n",
      "Warning: Permanently added 'worker-1,172.20.0.4' (ECDSA) to the list of known hosts.\n",
      "bash: warning: setlocale: LC_ALL: cannot change locale (en_US.UTF-8)\n",
      "Warning: Permanently added 'worker-3,172.20.0.2' (ECDSA) to the list of known hosts.\n",
      "bash: warning: setlocale: LC_ALL: cannot change locale (en_US.UTF-8)\n",
      "Warning: Permanently added 'worker-2,172.20.0.3' (ECDSA) to the list of known hosts.\n",
      "bash: warning: setlocale: LC_ALL: cannot change locale (en_US.UTF-8)\n",
      "job.jar\n",
      "job.jar\n",
      "job.jar\n",
      "scp -r jar/job.jar root@worker-1:/tmp/root/\n",
      "scp -r jar/job.jar root@worker-2:/tmp/root/\n",
      "scp -r jar/job.jar root@worker-3:/tmp/root/\n",
      "Warning: Permanently added 'worker-2,172.20.0.3' (ECDSA) to the list of known hosts.\n",
      "bash: warning: setlocale: LC_ALL: cannot change locale (en_US.UTF-8)\n",
      "Warning: Permanently added 'worker-1,172.20.0.4' (ECDSA) to the list of known hosts.\n",
      "bash: warning: setlocale: LC_ALL: cannot change locale (en_US.UTF-8)\n",
      "Warning: Permanently added 'worker-3,172.20.0.2' (ECDSA) to the list of known hosts.\n",
      "bash: warning: setlocale: LC_ALL: cannot change locale (en_US.UTF-8)\n"
     ]
    },
    {
     "data": {
      "text/plain": [
       "true"
      ]
     },
     "execution_count": 32,
     "metadata": {},
     "output_type": "execute_result"
    }
   ],
   "source": [
    "ArrayList<String> hostnames = Utils.read_file(\"data/hostnames.txt\");\n",
    "String path_to_jar = \"jar/job.jar\";\n",
    "String path_to_remote_host = \"/tmp/root/\";\n",
    "\n",
    "Deploy.deploy(hostnames,\n",
    "          path_to_jar,\n",
    "          path_to_remote_host);"
   ]
  },
  {
   "cell_type": "markdown",
   "metadata": {},
   "source": [
    "### <font color=\"red\">Etape 8</font> : nettoyer un ensemble de machines avec CLEAN."
   ]
  },
  {
   "cell_type": "markdown",
   "metadata": {},
   "source": [
    "__1. Un programme “CLEAN” qui nettoie les machines distantes.__\n",
    "\n",
    "Créez un nouveau programme CLEAN (différent de MASTER, SLAVE ou DEPLOY) qui efface votre dossier /tmp/<votre nom d’utilisateur>/sur les ordinateurs dont la connection SSH  fonctionne. Pour cela, vous utiliserez le même fichier texte écrit à la main et utilisé par DEPLOY contenant : les adresses IP et/ou les noms des machines que nous voulons utiliser pour notre système réparti (par exemple toutes les machines de cette salle de TP), avec un nom ou une IP par ligne dans le fichier.\n",
    "\n",
    "CLEAN lit ce fichier ligne par ligne et efface sur chacune des machines votre dossier créé dans le dossier temporaire, en lançant la commande à distance \n",
    "```sh\n",
    "rm -rf /tmp/<votre nom d’utilisateur>/\n",
    "```\n",
    "Attention de bien attendre la fin de la commande `rm -rf` pour être sûr que l’effacement a bien été effectué. \n",
    "\n",
    "Votre programme CLEAN lance-t-il les commande d’effacement de manière séquentielle (les unes après les autres) ou de manière parallèle?\n",
    "\n",
    "__2. Vérification du DEPLOY et du CLEAN__\n",
    "\n",
    "Vérifiez manuellement que l’effacement des dossiers a bien lieu. Ce programme vous permet de nettoyer un ensemble de machines avant de relancer un calcul. A partir de maintenant, vous pouvez déployer votre application en utilisant DEPLOY et vous pouvez nettoyer votre application en utilisant CLEAN. Vérifiez donc que DEPLOY suivi CLEAN fonctionne correctement."
   ]
  },
  {
   "cell_type": "markdown",
   "metadata": {},
   "source": [
    "Les lancements des commandes sur les machines sont fait en parallèles via les méthodes de la classe `Utils` :\n",
    "\n",
    "- `launch_actions_with_return` : Lance un processus et récupère la sortie.\n",
    "- `launch_actions_without_return` : Lance un processus sans attendre de retour.\n",
    "\n",
    "La méthode `parallelStream()` permet de parcourir et de lancer chaque commande de notre liste en parallèle."
   ]
  },
  {
   "cell_type": "code",
   "execution_count": 4,
   "metadata": {},
   "outputs": [],
   "source": [
    "import java.util.ArrayList;\n",
    "import java.util.List;\n",
    "\n",
    "public class Clean {\n",
    "    public static void main(String[] args) throws InterruptedException {\n",
    "        ArrayList<String> hostnames = Utils.read_file(args[0]);\n",
    "        ArrayList<String> remove_folder = new ArrayList<>();\n",
    "        ArrayList<String> check_remove = new ArrayList<>();\n",
    "\n",
    "        // Create list of commands for each machines\n",
    "        assert hostnames != null;\n",
    "        for (String hostname : hostnames){\n",
    "            remove_folder.add(\"ssh root@\" + hostname + \" rm -rf /tmp/root\");\n",
    "            check_remove.add(\"ssh root@\" + hostname + \" ls /tmp/root\");\n",
    "        }\n",
    "\n",
    "        // Apply health checker\n",
    "        List<Boolean> returnValue = Utils.launch_actions_with_return(remove_folder);\n",
    "        System.out.println(returnValue);\n",
    "        returnValue = Utils.launch_actions_with_return(check_remove);\n",
    "        System.out.println(returnValue);\n",
    "    }\n",
    "}"
   ]
  },
  {
   "cell_type": "code",
   "execution_count": 29,
   "metadata": {},
   "outputs": [
    {
     "name": "stdout",
     "output_type": "stream",
     "text": [
      "Warning: Permanently added 'worker-1,172.20.0.4' (ECDSA) to the list of known hosts.\n",
      "bash: warning: setlocale: LC_ALL: cannot change locale (en_US.UTF-8)\n",
      "Warning: Permanently added 'worker-2,172.20.0.3' (ECDSA) to the list of known hosts.\n",
      "bash: warning: setlocale: LC_ALL: cannot change locale (en_US.UTF-8)\n",
      "Warning: Permanently added 'worker-3,172.20.0.2' (ECDSA) to the list of known hosts.\n",
      "bash: warning: setlocale: LC_ALL: cannot change locale (en_US.UTF-8)\n",
      "[true, true, true]\n",
      "Warning: Permanently added 'worker-1,172.20.0.4' (ECDSA) to the list of known hosts.\n",
      "bash: warning: setlocale: LC_ALL: cannot change locale (en_US.UTF-8)\n",
      "ls: cannot access '/tmp/root': No such file or directory\n",
      "Warning: Permanently added 'worker-3,172.20.0.2' (ECDSA) to the list of known hosts.\n",
      "bash: warning: setlocale: LC_ALL: cannot change locale (en_US.UTF-8)\n",
      "ls: cannot access '/tmp/root': No such file or directory\n",
      "Warning: Permanently added 'worker-2,172.20.0.3' (ECDSA) to the list of known hosts.\n",
      "bash: warning: setlocale: LC_ALL: cannot change locale (en_US.UTF-8)\n",
      "ls: cannot access '/tmp/root': No such file or directory\n",
      "[false, false, false]\n"
     ]
    }
   ],
   "source": [
    "String[] args = {\"data/hostnames.txt\"};\n",
    "\n",
    "Clean.main(args);"
   ]
  },
  {
   "cell_type": "markdown",
   "metadata": {},
   "source": [
    "### <font color=\"red\">Etape 10</font> : MAP."
   ]
  },
  {
   "cell_type": "markdown",
   "metadata": {},
   "source": [
    "![mapreduce](https://fxjollois.github.io/cours-2017-2018/slides/example-mapreduce-wordcount.png)"
   ]
  },
  {
   "cell_type": "markdown",
   "metadata": {},
   "source": [
    "__1. Un MASTER qui déploie les splits__\n",
    "\n",
    "Créez trois fichiers correspondants à des “splits” dans le répertoire temporaire. Dans un premier temps, créez ces fichiers manuellement dans `/tmp/<votre nom d’utilisateur>/splits` : S0.txt S1.txt S2.txt.\n",
    "\n",
    "S0.txt contient:\n",
    "Deer Beer River\n",
    "S1.txt contient:\n",
    "Car Car River\n",
    "S2.txt contient:\n",
    "Deer Car Beer\n",
    "\n",
    "Modifiez votre MASTER pour qu’il copie les 3 fichiers de splits dans 3 ordinateurs différents, en ne copiant qu’un slip par machine. Par exemple, s’il existe 3 machines et 3 splits, la première machine aura le premier split, la deuxième le deuxième etc. Pour cela vous utiliserez le fichier précédemment créé qui contient la liste des machines que vous voulez utiliser pour votre projet. \n",
    "Attention, le répertoire /tmp/<votre nom d’utilisateur>/splits doit être créé sur les 3 ordinateurs s’il n’existe pas. Cette création peut se faire de manière automatique (en créant de manière programmatique ces répertoires). Attention de faire attention de bien attendre que la création des dossiers soit bien effectuée avant de lancer la copie des splits. Comment attendez-vous que la création des dossiers soit bien effectuée avant de copier véritablement les fichiers?De la même manière que le programme DEPLOY, le MASTER va copier ces splits vers 3 ordinateurs dont la connection SSH fonctionne.\n",
    "Votre programme MASTER lance-t-il les copies de manière séquentielle (les unes après les autres) ou de manière parallèle?"
   ]
  },
  {
   "cell_type": "markdown",
   "metadata": {},
   "source": [
    "__Activer le kernel python3__"
   ]
  },
  {
   "cell_type": "markdown",
   "metadata": {},
   "source": [
    "La cellule suivante créer les fichiers nécessaire pour notre mapreduce"
   ]
  },
  {
   "cell_type": "code",
   "execution_count": 1,
   "metadata": {},
   "outputs": [],
   "source": [
    "!mkdir -p /tmp/root/splits\n",
    "!echo \"Deer Beer River\" > /tmp/root/splits/S0.txt\n",
    "!echo \"Car Car River\" > /tmp/root/splits/S1.txt\n",
    "!echo \"Deer Car Beer\" > /tmp/root/splits/S2.txt"
   ]
  },
  {
   "cell_type": "markdown",
   "metadata": {},
   "source": [
    "__Activer le kernel java et recompiler les classes (Deploy, Clean et Utils)__"
   ]
  },
  {
   "cell_type": "markdown",
   "metadata": {},
   "source": [
    "La classe `Master` ci-dessous lance les différentes phase du mapreduce en chronométrant chaque étape. Le `Master` attend la fin de chaque étape via la méthode `join` de la classe `Thread` en Java. Le `Master` attend que chaque processus lancé avec les méthodes `launch_actions_with_return` et `launch_actions_without_return` se termine avant de poursuivre."
   ]
  },
  {
   "cell_type": "code",
   "execution_count": 2,
   "metadata": {},
   "outputs": [],
   "source": [
    "import java.util.*;\n",
    "\n",
    "public class Master {\n",
    "    public static void main(String[] args) throws InterruptedException {\n",
    "        ArrayList<String> hostnames = Utils.read_file(args[0]);\n",
    "        Set<String> slaves = new HashSet<>();\n",
    "        List<String> files = Utils.list_directory(args[1]);\n",
    "        ArrayList<String> health_checks = new ArrayList<>();\n",
    "        ArrayList<String> create_dirs = new ArrayList<>();\n",
    "        ArrayList<String> check_dir = new ArrayList<>();\n",
    "        ArrayList<String> run_copy = new ArrayList<>();\n",
    "        ArrayList<String> run_map = new ArrayList<>();\n",
    "        ArrayList<String> run_shuffle = new ArrayList<>();\n",
    "        ArrayList<String> run_reduce = new ArrayList<>();\n",
    "        ArrayList<String> copy_hostnames_file = new ArrayList<>();\n",
    "        Random rand = new Random();\n",
    "\n",
    "        for (String file:files){\n",
    "            assert hostnames != null;\n",
    "            String slave = hostnames.get(rand.nextInt(hostnames.size()));\n",
    "            slaves.add(slave);\n",
    "            health_checks.add(\"ssh -o StrictHostKeyChecking=no root@\" + slave + \" hostname\");\n",
    "            create_dirs.add(\"ssh root@\" + slave + \" if test ! -d \" + args[2] + \"; then mkdir -p \" + args[2] + \"; fi\");\n",
    "            run_copy.add(\"scp -r \" + file + \" root@\" + slave + \":\" + args[2]);\n",
    "            check_dir.add(\"ssh root@\" + slave + \" ls \" + args[2]);\n",
    "            run_map.add(\"ssh root@\" + slave + \" java -jar /tmp/root/job.jar 0 \" + file);\n",
    "            copy_hostnames_file.add(\"scp \" + args[0] + \" root@\" + slave + \":/tmp/root\");\n",
    "\n",
    "        }\n",
    "        for (String slave:slaves)\n",
    "            run_shuffle.add(\"ssh root@\" + slave + \" java -jar /tmp/root/job.jar 1 \");\n",
    "\n",
    "        assert hostnames != null;\n",
    "        for (String slave:hostnames)\n",
    "            run_reduce.add(\"ssh root@\" + slave + \" java -jar /tmp/root/job.jar 2 \");\n",
    "\n",
    "        // Apply health checker\n",
    "        List<Boolean> returnValue = Utils.launch_actions_with_return(health_checks);\n",
    "\n",
    "        // Check all machine are alive and deploy jar\n",
    "        boolean isNodesOk = returnValue.stream().allMatch(x -> x);\n",
    "        if (isNodesOk) {\n",
    "            Utils.launch_actions_without_return(create_dirs);\n",
    "\n",
    "            // wait for directories creation and check the creation\n",
    "            Thread.sleep(3000);\n",
    "            returnValue = Utils.launch_actions_with_return(check_dir);\n",
    "\n",
    "            // if all directories are created, deploy jar file\n",
    "            if (returnValue.stream().allMatch(x -> x)) {\n",
    "                Utils.launch_actions_without_return(run_copy);\n",
    "            } else {\n",
    "                System.out.println(\"Something went wrong during the directories creation\");\n",
    "            }\n",
    "        } else {\n",
    "            System.out.println(\"Not all nodes are safe, please check connection\");\n",
    "        }\n",
    "    }\n",
    "}"
   ]
  },
  {
   "cell_type": "code",
   "execution_count": 3,
   "metadata": {},
   "outputs": [
    {
     "name": "stdout",
     "output_type": "stream",
     "text": [
      "worker-1\n",
      "worker-3\n",
      "worker-2\n",
      "ssh root@worker-1 if test ! -d /tmp/root/splits; then mkdir -p /tmp/root/splits; fi\n",
      "ssh root@worker-2 if test ! -d /tmp/root/splits; then mkdir -p /tmp/root/splits; fi\n",
      "ssh root@worker-3 if test ! -d /tmp/root/splits; then mkdir -p /tmp/root/splits; fi\n",
      "Warning: Permanently added 'worker-1,172.21.0.3' (ECDSA) to the list of known hosts.\n",
      "bash: warning: setlocale: LC_ALL: cannot change locale (en_US.UTF-8)\n",
      "Warning: Permanently added 'worker-2,172.21.0.4' (ECDSA) to the list of known hosts.\n",
      "bash: warning: setlocale: LC_ALL: cannot change locale (en_US.UTF-8)\n",
      "Warning: Permanently added 'worker-3,172.21.0.2' (ECDSA) to the list of known hosts.\n",
      "bash: warning: setlocale: LC_ALL: cannot change locale (en_US.UTF-8)\n",
      "Warning: Permanently added 'worker-1,172.21.0.3' (ECDSA) to the list of known hosts.\n",
      "bash: warning: setlocale: LC_ALL: cannot change locale (en_US.UTF-8)\n",
      "Warning: Permanently added 'worker-3,172.21.0.2' (ECDSA) to the list of known hosts.\n",
      "bash: warning: setlocale: LC_ALL: cannot change locale (en_US.UTF-8)\n",
      "Warning: Permanently added 'worker-2,172.21.0.4' (ECDSA) to the list of known hosts.\n",
      "bash: warning: setlocale: LC_ALL: cannot change locale (en_US.UTF-8)\n",
      "scp -r /tmp/root/splits/S0.txt root@worker-1:/tmp/root/splits\n",
      "scp -r /tmp/root/splits/S1.txt root@worker-2:/tmp/root/splits\n",
      "scp -r /tmp/root/splits/S2.txt root@worker-3:/tmp/root/splits\n",
      "Warning: Permanently added 'worker-1,172.21.0.3' (ECDSA) to the list of known hosts.\n",
      "bash: warning: setlocale: LC_ALL: cannot change locale (en_US.UTF-8)\n",
      "Warning: Permanently added 'worker-2,172.21.0.4' (ECDSA) to the list of known hosts.\n",
      "bash: warning: setlocale: LC_ALL: cannot change locale (en_US.UTF-8)\n",
      "Warning: Permanently added 'worker-3,172.21.0.2' (ECDSA) to the list of known hosts.\n",
      "bash: warning: setlocale: LC_ALL: cannot change locale (en_US.UTF-8)\n"
     ]
    }
   ],
   "source": [
    "String[] args = {\"data/hostnames.txt\", \"/tmp/root/splits\", \"/tmp/root/splits\"};\n",
    "\n",
    "Master.main(args);"
   ]
  },
  {
   "cell_type": "markdown",
   "metadata": {},
   "source": [
    "Les fichiers sont maintenants présents sur les machines. Vous pouvez vérifier en vous connectant via la ligne de commande du jupyter notebook :\n",
    "\n",
    "```sh\n",
    "ssh root@worker-[1-2-3]\n",
    "```"
   ]
  },
  {
   "cell_type": "markdown",
   "metadata": {},
   "source": [
    "__2. Un SLAVE qui fait la phase de map__\n",
    "\n",
    "Modifiez le SLAVE pour qu’il calcule un map à partir d’un split.\n",
    "\n",
    "Pour cela, il prend un mode de fonctionnement en argument: 0 correspond au calcul du map à partir d’un split, puis un nom de fichier “Sx.txt” en entrée depuis le dossier splits et calcule un fichier “UMx.txt” en sortie dans le dossier maps, avec x variant (ici de 1 à 3). De la même manière que précédemment, le dossier maps doit être créé avant de pouvoir écrire des fichiers dedans. Vous devez attendre que le dossier maps soit créé avant de travailler avec. Comment attendez-vous que le dossier maps soit bien créé avant de travailler avec?\n",
    "\n",
    "Le nom du fichier sera donné comme argument args du main:public static void main (String[] args)Testez dans un terminal le slave.jar comme suit:\n",
    "```sh\n",
    "cd /tmp/<votre nom d’utilisateur>/java -jar slave.jar 0 /tmp/<votre nom d’utilisateur>/splits/S0.txt\n",
    "```\n",
    "\n",
    "Le fichier `/tmp/<votre nom d’utilisateur>/maps/UM0.txt` doit être créé contenant\n",
    "- Dear 1\n",
    "- Beer 1\n",
    "- River 1\n",
    "\n",
    "Testez le fonctionnement de votre SLAVE avec le fichier S1.txt contenant : `Car Car River`\n",
    "\n",
    ">Posez-vous la question: pourquoi retrouvons-nous deux lignes \n",
    "Car 1\n",
    "Car 1\n",
    "Au lieu d’une seule ligne \n",
    "Car 2  ?\n",
    "Un indice: la phase de reduce qui arrivera plus tard, fera une addition des valeurs. Dans ce cas, la “fonction” de reduce est très simple: c’est une grande addition. Imaginez une fonction de reduce beaucoup plus complexe qui effectue un algorithme complexe appliqué sur toutes les valeurs..."
   ]
  },
  {
   "cell_type": "code",
   "execution_count": 1,
   "metadata": {},
   "outputs": [],
   "source": [
    "import java.io.File;\n",
    "import java.io.IOException;\n",
    "import java.util.*;\n",
    "import java.util.Map.Entry;\n",
    "import java.net.InetAddress;\n",
    "\n",
    "import static java.util.stream.Collectors.*;\n",
    "\n",
    "public class Slave{\n",
    "\n",
    "    private static ArrayList<String> transform_key_value(String filename){\n",
    "        // Function for the question 1\n",
    "        ArrayList<String> lines = Utils.read_file(filename);\n",
    "        assert lines != null;\n",
    "        ArrayList<String[]> lines_tokenized = Utils.tokenize(lines);\n",
    "        ArrayList<String> words_count = new ArrayList<>();\n",
    "\n",
    "        for (String[] line_tokenized: lines_tokenized) {\n",
    "            for (String word:line_tokenized) {\n",
    "                if (!word.isEmpty()){\n",
    "                    words_count.add(word + \" 1.0\");\n",
    "                }\n",
    "            }\n",
    "        }\n",
    "        return words_count;\n",
    "    }\n",
    "\n",
    "    private static HashMap<String, Double> words_count(String filename){\n",
    "        // Function for the question 1\n",
    "        ArrayList<String> lines = Utils.read_file(filename);\n",
    "        assert lines != null;\n",
    "        ArrayList<String[]> lines_tokenized = Utils.tokenize(lines);\n",
    "        HashMap<String, Double> words_count = new HashMap<>();\n",
    "\n",
    "        for (String[] line_tokenized: lines_tokenized) {\n",
    "            String word = line_tokenized[0];\n",
    "            if (!word.isEmpty()){\n",
    "                if (words_count.get(word) == null) {\n",
    "                    words_count.put(word, 1.0);\n",
    "                } else {\n",
    "                    words_count.put(word, words_count.get(word)+1);\n",
    "                }\n",
    "            }\n",
    "        }\n",
    "        return words_count;\n",
    "    }\n",
    "\n",
    "    public static HashMap<String, Double> sorted_map_by_numeric_value(HashMap<String, Double> hash_map){\n",
    "        // Function for question 2\n",
    "        return hash_map\n",
    "                .entrySet()\n",
    "                .stream()\n",
    "                .sorted(Collections.reverseOrder(Entry.comparingByValue()))\n",
    "                .collect(toMap(Entry::getKey, Entry::getValue, (e1, e2) -> e2,\n",
    "                        LinkedHashMap::new));\n",
    "    }\n",
    "\n",
    "    public static HashMap<String, Double> sort(HashMap<String, Double> hash_map){\n",
    "        // Function for question 3\n",
    "        return hash_map\n",
    "                .entrySet()\n",
    "                .stream()\n",
    "                .sorted(new Comparator<Entry<String, Double>>() {\n",
    "                    @Override\n",
    "                    public int compare(Entry<String, Double> e1, Entry<String, Double> e2) {\n",
    "                        if (e1.getValue().equals(e2.getValue())) {\n",
    "                            return e1.getKey().compareTo(e2.getKey());\n",
    "                        } else {\n",
    "                            return e2.getValue().compareTo(e1.getValue());\n",
    "                        }\n",
    "                    }\n",
    "                }).collect(toMap(Entry::getKey, Entry::getValue, (e1, e2) -> e1,\n",
    "                        LinkedHashMap::new));\n",
    "    }\n",
    "\n",
    "    public static void print_map(Map<String, Double> hash_map) {\n",
    "        for (Entry<String, Double> el:hash_map.entrySet()) {\n",
    "            System.out.println(el.getKey() + \" \" + el.getValue());\n",
    "        }\n",
    "    }\n",
    "\n",
    "    public static void print_map(Map<String, Double> hash_map, Integer n) {\n",
    "        Integer count = 0;\n",
    "        for (Entry<String, Double> el:hash_map.entrySet()) {\n",
    "            if(count.equals(n)){\n",
    "                break;\n",
    "            } else {\n",
    "                System.out.println(el.getKey() + \" \" + el.getValue());\n",
    "                count++;\n",
    "            }\n",
    "        }\n",
    "    }\n",
    "\n",
    "    private static void map(String src_file, String map_file) throws IOException {\n",
    "        ArrayList<String> words_count = Slave.transform_key_value(src_file);\n",
    "        Utils.write_file(words_count, map_file, \"a\");\n",
    "    }\n",
    "\n",
    "    private static void shuffle(String file, ArrayList<String> hostnames) throws IOException, InterruptedException {\n",
    "        String current_host = InetAddress.getLocalHost().getHostName();\n",
    "        int nb_slaves = hostnames.size();\n",
    "\n",
    "        ArrayList<String[]> keys_values = Utils.tokenize(Objects.requireNonNull(Utils.read_file(file)));\n",
    "        for (String[] key_value:keys_values){\n",
    "            int hash_key = key_value[0].hashCode();\n",
    "            int compute_slave = hash_key%nb_slaves;\n",
    "            if (!hostnames.get(compute_slave).equals(current_host)){\n",
    "                File shuffle_file = new File (\"/tmp/root/shuffle\" + \"/\" + String.format(\"%d_%d_%d.txt\",\n",
    "                                                                                            hash_key,\n",
    "                                                                                            compute_slave,\n",
    "                                                                                            current_host.hashCode()));\n",
    "                Utils.write_file(Collections.singletonList(key_value[0] + \" \" + key_value[1]),\n",
    "                        shuffle_file.toString(),\n",
    "                        \"a\");\n",
    "                Deploy.deploy(Collections.singletonList(hostnames.get(compute_slave)),\n",
    "                        shuffle_file.toString(), \"/tmp/root/shuffle\");\n",
    "                shuffle_file.delete();\n",
    "            } else {\n",
    "                File shuffle_file = new File (\"/tmp/root/shuffle\" + \"/\" + hash_key + \"_\" + compute_slave + \".txt\");\n",
    "                Utils.write_file(Collections.singletonList(key_value[0] + \" \" + key_value[1]),\n",
    "                         shuffle_file.toString(),\n",
    "                        \"a\");\n",
    "            }\n",
    "        }\n",
    "    }\n",
    "\n",
    "    private static void reduce(String reduce_directory, String shuffle_directory) throws IOException {\n",
    "        List<String> files = Utils.list_directory(shuffle_directory);\n",
    "        HashMap<String, Double> words_count = new HashMap<>();\n",
    "\n",
    "        for (String file:files) {\n",
    "            words_count(file).forEach(\n",
    "                    (key, value) -> words_count.merge(key, value, Double::sum)\n",
    "            );\n",
    "        }\n",
    "        for (Entry<String, Double> key_value:words_count.entrySet()){\n",
    "            int hash = key_value.getKey().hashCode();\n",
    "            File reduce_file = new File(reduce_directory + \"/\" + hash + \".txt\");\n",
    "            Utils.write_file(Collections.singletonList(key_value.getKey() + \" \" + key_value.getValue()),\n",
    "                                                    reduce_file.toString(), \"w\");\n",
    "        }\n",
    "    }\n",
    "\n",
    "    public static void main(String[] args) throws IOException, InterruptedException {\n",
    "        if (args[0].equals(\"0\")){\n",
    "            File split_file = new File(args[1]);\n",
    "            String num = args[1].replaceAll(\"[^\\\\d]\", \"\");\n",
    "            File map_directory = new File(new File(split_file.getParent()).getParent() + \"/maps\");\n",
    "            if (!map_directory.exists()){\n",
    "                boolean result = map_directory.mkdir();\n",
    "                if (!result){\n",
    "                    System.out.println(\"Something goes wrong when creating maps folder\");\n",
    "                } else {\n",
    "                    map(split_file.toString(), map_directory + \"/UM\" + num + \".txt\");\n",
    "                }\n",
    "            } else {\n",
    "                map(split_file.toString(), map_directory + \"/UM\" + num + \".txt\");\n",
    "            }\n",
    "        } else if (args[0].equals(\"1\")){\n",
    "            ArrayList<String> hostnames = Utils.read_file(\"/tmp/root/hostnames.txt\");\n",
    "            ArrayList<String> health_checks = new ArrayList<>();\n",
    "            assert hostnames != null;\n",
    "            for (String hostname : hostnames)\n",
    "                health_checks.add(\"ssh -o StrictHostKeyChecking=no root@\" + hostname + \" hostname\");\n",
    "            File shuffle_directory = new File(\"/tmp/root/shuffle\");\n",
    "            if (!shuffle_directory.exists()){\n",
    "                boolean result = shuffle_directory.mkdir();\n",
    "                if (!result){\n",
    "                    System.out.println(\"Something goes wrong when creating shuffle folder\");\n",
    "                } else {\n",
    "                    for (String file: Utils.list_directory(\"/tmp/root/maps\")){\n",
    "                        shuffle(file, hostnames);\n",
    "                    }\n",
    "                }\n",
    "            } else {\n",
    "                for (String file: Utils.list_directory(\"/tmp/root/maps\")){\n",
    "                    shuffle(file, hostnames);\n",
    "                }\n",
    "            }\n",
    "        } else if (args[0].equals(\"2\")){\n",
    "            File reduce_directory = new File(\"/tmp/root/reduce\");\n",
    "            File shuffle_directory = new File(\"/tmp/root/shuffle\");\n",
    "            if (!reduce_directory.exists()){\n",
    "                boolean result = reduce_directory.mkdir();\n",
    "                if (!result){\n",
    "                    System.out.println(\"Something goes wrong when creating reduce folder\");\n",
    "                } else {\n",
    "                    reduce(reduce_directory.toString(), shuffle_directory.toString());\n",
    "                }\n",
    "            } else {\n",
    "                reduce(reduce_directory.toString(), shuffle_directory.toString());\n",
    "            }\n",
    "        }\n",
    "\n",
    "    }\n",
    "}"
   ]
  },
  {
   "cell_type": "markdown",
   "metadata": {},
   "source": [
    "Ci-dessous la classe `Slave` utilisé pour lancer les différentes étapes du mapreduce. Le jar job.jar est générée à partir de cette classe. Exécutons la phase de sur le serveur `master` afin de comprendre le fonctionnement."
   ]
  },
  {
   "cell_type": "code",
   "execution_count": 10,
   "metadata": {},
   "outputs": [],
   "source": [
    "String[] files = {\"S0.txt\", \"S1.txt\", \"S2.txt\"};\n",
    "\n",
    "for (String file:files){\n",
    "    String[] args = {\"0\", String.format(\"/tmp/root/splits/%s\",file)};\n",
    "    Slave.main(args);\n",
    "}"
   ]
  },
  {
   "cell_type": "markdown",
   "metadata": {},
   "source": [
    "Via la ligne de commande de jupyterlab, vous pouvez vérifier le dossier `/tmp/root/maps` qui contient les fichiers créés et les éxaminer pour bien comprendre le processus."
   ]
  },
  {
   "cell_type": "markdown",
   "metadata": {},
   "source": [
    "__3. Un MASTER qui lance les SLAVE pour la phase de map.__\n",
    "\n",
    "Modifiez le MASTER pour qu’il lance la phase de map sur plusieurs machines et affiche “MAP FINISHED”. Pour cela vous utiliserez le fichier précédemment créé qui contient la liste des machines que vous voulez utiliser pour votre projet. \n",
    "\n",
    "Pour bien synchroniser le MASTER avec les SLAVES, veillez à afficher “MAP FINISHED” qu’une fois tous les SLAVEs terminés et uniquement quand tous les SLAVEs sont terminés, PAS AVANT! Le MASTER doit donc attendre que SLAVEs se terminent correctement.\n",
    "Comment faites-vous pour qu’un process lancé avec ProcessBuilder en Java attende la fin de l’exécution du processus ? \n",
    "Votre programme MASTER lance-t-il les SLAVE de manière séquentielle (les uns après les autres) ou de manière parallèle?"
   ]
  },
  {
   "cell_type": "code",
   "execution_count": 11,
   "metadata": {},
   "outputs": [],
   "source": [
    "import java.util.*;\n",
    "\n",
    "public class Master {\n",
    "    public static void main(String[] args) throws InterruptedException {\n",
    "        ArrayList<String> hostnames = Utils.read_file(args[0]);\n",
    "        Set<String> slaves = new HashSet<>();\n",
    "        List<String> files = Utils.list_directory(args[1]);\n",
    "        ArrayList<String> health_checks = new ArrayList<>();\n",
    "        ArrayList<String> create_dirs = new ArrayList<>();\n",
    "        ArrayList<String> check_dir = new ArrayList<>();\n",
    "        ArrayList<String> run_copy = new ArrayList<>();\n",
    "        ArrayList<String> run_map = new ArrayList<>();\n",
    "        ArrayList<String> run_shuffle = new ArrayList<>();\n",
    "        ArrayList<String> run_reduce = new ArrayList<>();\n",
    "        ArrayList<String> copy_hostnames_file = new ArrayList<>();\n",
    "        Random rand = new Random();\n",
    "\n",
    "        for (String file:files){\n",
    "            assert hostnames != null;\n",
    "            String slave = hostnames.get(rand.nextInt(hostnames.size()));\n",
    "            slaves.add(slave);\n",
    "            health_checks.add(\"ssh -o StrictHostKeyChecking=no root@\" + slave + \" hostname\");\n",
    "            create_dirs.add(\"ssh root@\" + slave + \" if test ! -d \" + args[2] + \"; then mkdir -p \" + args[2] + \"; fi\");\n",
    "            run_copy.add(\"scp -r \" + file + \" root@\" + slave + \":\" + args[2]);\n",
    "            check_dir.add(\"ssh root@\" + slave + \" ls \" + args[2]);\n",
    "            run_map.add(\"ssh root@\" + slave + \" java -jar /tmp/root/job.jar 0 \" + file);\n",
    "            copy_hostnames_file.add(\"scp \" + args[0] + \" root@\" + slave + \":/tmp/root\");\n",
    "\n",
    "        }\n",
    "        for (String slave:slaves)\n",
    "            run_shuffle.add(\"ssh root@\" + slave + \" java -jar /tmp/root/job.jar 1 \");\n",
    "\n",
    "        assert hostnames != null;\n",
    "        for (String slave:hostnames)\n",
    "            run_reduce.add(\"ssh root@\" + slave + \" java -jar /tmp/root/job.jar 2 \");\n",
    "\n",
    "        // Apply health checker\n",
    "        List<Boolean> returnValue = Utils.launch_actions_with_return(health_checks);\n",
    "\n",
    "        // Check all machine are alive and deploy jar\n",
    "        boolean isNodesOk = returnValue.stream().allMatch(x -> x);\n",
    "        if (isNodesOk) {\n",
    "            Utils.launch_actions_without_return(create_dirs);\n",
    "\n",
    "            // wait for directories creation and check the creation\n",
    "            Thread.sleep(3000);\n",
    "            returnValue = Utils.launch_actions_with_return(check_dir);\n",
    "\n",
    "            // if all directories are created, deploy jar file\n",
    "            if (returnValue.stream().allMatch(x -> x)) {\n",
    "                Utils.launch_actions_without_return(run_copy);\n",
    "            } else {\n",
    "                System.out.println(\"Something went wrong during the directories creation\");\n",
    "            }\n",
    "        } else {\n",
    "            System.out.println(\"Not all nodes are safe, please check connection\");\n",
    "        }\n",
    "\n",
    "        // Map\n",
    "        double start_map_time = System.currentTimeMillis();\n",
    "        Deploy.deploy(hostnames,\n",
    "                \"jar/job.jar\", \"/tmp/root/\");\n",
    "        Utils.launch_actions_without_return(run_map);\n",
    "        System.out.println(\"MAP FINISHED\");\n",
    "        double end_map_time = System.currentTimeMillis();\n",
    "        double total_map_time = end_map_time - start_map_time;\n",
    "        System.out.println(String.format(\"map time: %f\", total_map_time/1000));\n",
    "    }\n",
    "}"
   ]
  },
  {
   "cell_type": "code",
   "execution_count": 12,
   "metadata": {},
   "outputs": [
    {
     "name": "stdout",
     "output_type": "stream",
     "text": [
      "worker-3\n",
      "worker-3\n",
      "Warning: Permanently added 'worker-2,172.21.0.4' (ECDSA) to the list of known hosts.\n",
      "bash: warning: setlocale: LC_ALL: cannot change locale (en_US.UTF-8)\n",
      "ssh root@worker-2 if test ! -d /tmp/root/splits; then mkdir -p /tmp/root/splits; fi\n",
      "ssh root@worker-3 if test ! -d /tmp/root/splits; then mkdir -p /tmp/root/splits; fi\n",
      "ssh root@worker-3 if test ! -d /tmp/root/splits; then mkdir -p /tmp/root/splits; fi\n",
      "Warning: Permanently added 'worker-3,172.21.0.2' (ECDSA) to the list of known hosts.\n",
      "bash: warning: setlocale: LC_ALL: cannot change locale (en_US.UTF-8)\n",
      "Warning: Permanently added 'worker-2,172.21.0.4' (ECDSA) to the list of known hosts.\n",
      "bash: warning: setlocale: LC_ALL: cannot change locale (en_US.UTF-8)\n",
      "Warning: Permanently added 'worker-3,172.21.0.2' (ECDSA) to the list of known hosts.\n",
      "bash: warning: setlocale: LC_ALL: cannot change locale (en_US.UTF-8)\n",
      "S1.txt\n",
      "S2.txt\n",
      "S2.txt\n",
      "scp -r /tmp/root/splits/S0.txt root@worker-2:/tmp/root/splits\n",
      "scp -r /tmp/root/splits/S1.txt root@worker-3:/tmp/root/splits\n",
      "scp -r /tmp/root/splits/S2.txt root@worker-3:/tmp/root/splits\n",
      "Warning: Permanently added 'worker-3,172.21.0.2' (ECDSA) to the list of known hosts.\n",
      "Warning: Permanently added 'worker-2,172.21.0.4' (ECDSA) to the list of known hosts.\n",
      "bash: warning: setlocale: LC_ALL: cannot change locale (en_US.UTF-8)\n",
      "bash: warning: setlocale: LC_ALL: cannot change locale (en_US.UTF-8)\n",
      "Warning: Permanently added 'worker-3,172.21.0.2' (ECDSA) to the list of known hosts.\n",
      "bash: warning: setlocale: LC_ALL: cannot change locale (en_US.UTF-8)\n",
      "worker-1\n",
      "worker-3\n",
      "worker-2\n",
      "ssh root@worker-1 if test ! -d /tmp/root/; then mkdir -p /tmp/root/; fi\n",
      "ssh root@worker-2 if test ! -d /tmp/root/; then mkdir -p /tmp/root/; fi\n",
      "ssh root@worker-3 if test ! -d /tmp/root/; then mkdir -p /tmp/root/; fi\n",
      "Warning: Permanently added 'worker-1,172.21.0.3' (ECDSA) to the list of known hosts.\n",
      "bash: warning: setlocale: LC_ALL: cannot change locale (en_US.UTF-8)\n",
      "Warning: Permanently added 'worker-3,172.21.0.2' (ECDSA) to the list of known hosts.\n",
      "bash: warning: setlocale: LC_ALL: cannot change locale (en_US.UTF-8)\n",
      "Warning: Permanently added 'worker-2,172.21.0.4' (ECDSA) to the list of known hosts.\n",
      "bash: warning: setlocale: LC_ALL: cannot change locale (en_US.UTF-8)\n",
      "splits\n",
      "splits\n",
      "splits\n",
      "scp -r jar/job.jar root@worker-1:/tmp/root/\n",
      "scp -r jar/job.jar root@worker-2:/tmp/root/\n",
      "scp -r jar/job.jar root@worker-3:/tmp/root/\n",
      "Warning: Permanently added 'worker-1,172.21.0.3' (ECDSA) to the list of known hosts.\n",
      "bash: warning: setlocale: LC_ALL: cannot change locale (en_US.UTF-8)\n",
      "Warning: Permanently added 'worker-2,172.21.0.4' (ECDSA) to the list of known hosts.\n",
      "bash: warning: setlocale: LC_ALL: cannot change locale (en_US.UTF-8)\n",
      "Warning: Permanently added 'worker-3,172.21.0.2' (ECDSA) to the list of known hosts.\n",
      "bash: warning: setlocale: LC_ALL: cannot change locale (en_US.UTF-8)\n",
      "ssh root@worker-2 java -jar /tmp/root/job.jar 0 /tmp/root/splits/S0.txt\n",
      "ssh root@worker-3 java -jar /tmp/root/job.jar 0 /tmp/root/splits/S1.txt\n",
      "ssh root@worker-3 java -jar /tmp/root/job.jar 0 /tmp/root/splits/S2.txt\n",
      "Something goes wrong when creating maps folder\n",
      "Warning: Permanently added 'worker-2,172.21.0.4' (ECDSA) to the list of known hosts.\n",
      "bash: warning: setlocale: LC_ALL: cannot change locale (en_US.UTF-8)\n",
      "Warning: Permanently added 'worker-3,172.21.0.2' (ECDSA) to the list of known hosts.\n",
      "bash: warning: setlocale: LC_ALL: cannot change locale (en_US.UTF-8)\n",
      "MAP FINISHED\n",
      "map time: 4.072000\n"
     ]
    }
   ],
   "source": [
    "String[] args = {\"data/hostnames.txt\", \"/tmp/root/splits\", \"/tmp/root/splits\"};\n",
    "\n",
    "Master.main(args);"
   ]
  },
  {
   "cell_type": "markdown",
   "metadata": {},
   "source": [
    "Les fichiers sont maintenants présents sur les machines, dans le dossier `/tmp/root/maps`. Vous pouvez vérifier en vous connectant via la ligne de commande du jupyter notebook :\n",
    "\n",
    "```sh\n",
    "ssh root@worker-[1-2-3]\n",
    "```"
   ]
  },
  {
   "cell_type": "markdown",
   "metadata": {},
   "source": [
    "### <font color=\"red\">Etape 11</font> : SHUFFLE."
   ]
  },
  {
   "cell_type": "markdown",
   "metadata": {},
   "source": [
    "__1. Le MASTER qui prépare les SLAVE à la phase de shuffle.__\n",
    "\n",
    "Modifiez le MASTER pour qu’il envoie le fichier précédemment créé qui contient la liste des machines que vous voulez utiliser pour votre projet à tous les SLAVES utilisés pour la phase de map. Copiez ce fichier dans la cible suivante pour tous les SLAVES:\n",
    "`/tmp/<votre nom d’utilisateur>/machines.txt`"
   ]
  },
  {
   "cell_type": "code",
   "execution_count": 5,
   "metadata": {},
   "outputs": [],
   "source": [
    "import java.util.*;\n",
    "\n",
    "public class Master {\n",
    "    public static void main(String[] args) throws InterruptedException {\n",
    "        ArrayList<String> hostnames = Utils.read_file(args[0]);\n",
    "        Set<String> slaves = new HashSet<>();\n",
    "        List<String> files = Utils.list_directory(args[1]);\n",
    "        ArrayList<String> health_checks = new ArrayList<>();\n",
    "        ArrayList<String> create_dirs = new ArrayList<>();\n",
    "        ArrayList<String> check_dir = new ArrayList<>();\n",
    "        ArrayList<String> run_copy = new ArrayList<>();\n",
    "        ArrayList<String> run_map = new ArrayList<>();\n",
    "        ArrayList<String> run_shuffle = new ArrayList<>();\n",
    "        ArrayList<String> run_reduce = new ArrayList<>();\n",
    "        ArrayList<String> copy_hostnames_file = new ArrayList<>();\n",
    "        Random rand = new Random();\n",
    "\n",
    "        for (String file:files){\n",
    "            assert hostnames != null;\n",
    "            String slave = hostnames.get(rand.nextInt(hostnames.size()));\n",
    "            slaves.add(slave);\n",
    "            health_checks.add(\"ssh -o StrictHostKeyChecking=no root@\" + slave + \" hostname\");\n",
    "            create_dirs.add(\"ssh root@\" + slave + \" if test ! -d \" + args[2] + \"; then mkdir -p \" + args[2] + \"; fi\");\n",
    "            run_copy.add(\"scp -r \" + file + \" root@\" + slave + \":\" + args[2]);\n",
    "            check_dir.add(\"ssh root@\" + slave + \" ls \" + args[2]);\n",
    "            run_map.add(\"ssh root@\" + slave + \" java -jar /tmp/root/job.jar 0 \" + file);\n",
    "            copy_hostnames_file.add(\"scp \" + args[0] + \" root@\" + slave + \":/tmp/root\");\n",
    "\n",
    "        }\n",
    "        for (String slave:slaves)\n",
    "            run_shuffle.add(\"ssh root@\" + slave + \" java -jar /tmp/root/job.jar 1 \");\n",
    "\n",
    "        assert hostnames != null;\n",
    "        for (String slave:hostnames)\n",
    "            run_reduce.add(\"ssh root@\" + slave + \" java -jar /tmp/root/job.jar 2 \");\n",
    "\n",
    "        // Apply health checker\n",
    "        List<Boolean> returnValue = Utils.launch_actions_with_return(health_checks);\n",
    "\n",
    "        // Check all machine are alive and deploy jar\n",
    "        boolean isNodesOk = returnValue.stream().allMatch(x -> x);\n",
    "        if (isNodesOk) {\n",
    "            Utils.launch_actions_without_return(create_dirs);\n",
    "\n",
    "            // wait for directories creation and check the creation\n",
    "            Thread.sleep(3000);\n",
    "            returnValue = Utils.launch_actions_with_return(check_dir);\n",
    "\n",
    "            // if all directories are created, deploy jar file\n",
    "            if (returnValue.stream().allMatch(x -> x)) {\n",
    "                Utils.launch_actions_without_return(run_copy);\n",
    "            } else {\n",
    "                System.out.println(\"Something went wrong during the directories creation\");\n",
    "            }\n",
    "        } else {\n",
    "            System.out.println(\"Not all nodes are safe, please check connection\");\n",
    "        }\n",
    "\n",
    "        // Map\n",
    "        double start_map_time = System.currentTimeMillis();\n",
    "        Deploy.deploy(hostnames,\n",
    "                \"jar/job.jar\", \"/tmp/root/\");\n",
    "        Utils.launch_actions_without_return(run_map);\n",
    "        System.out.println(\"MAP FINISHED\");\n",
    "        double end_map_time = System.currentTimeMillis();\n",
    "        double total_map_time = end_map_time - start_map_time;\n",
    "        System.out.println(String.format(\"map time: %f\", total_map_time/1000));\n",
    "\n",
    "        // copy hostnames file\n",
    "        Utils.launch_actions_without_return(copy_hostnames_file);\n",
    "    }\n",
    "}"
   ]
  },
  {
   "cell_type": "markdown",
   "metadata": {},
   "source": [
    "__2. Le SLAVE qui prépare la phase de shuffle.__\n",
    "\n",
    "Modifiez le SLAVE pour qu’il prépare la phase de shuffle en regroupant les clés, en calculant le “hash” pour chacune des clés et en créant un fichier ayant pour nom <hash>-<hostname>.txt dans le dossier shuffles. De la même manière que précédemment, le dossier shuffles doit être créé avant de pouvoir écrire des fichiers dedans. Vous devez attendre que le dossier shuffles soit créé avant de travailler avec. Comment attendez-vous que le dossier shuffles soit bien créé avant de travailler avec?\n",
    "Le nom du fichier sera donné comme argument args du main:public static void main (String[] args)\n",
    "\n",
    "Attention: si le fichier <hash>-<hostname>.txt existe déjà, il ne faut pas l’écraser mais plutôt continuer d’écrire dedans.\n",
    "Ce nom de fichier correspond au hash, obtenu grâce à la fonction de hashage de la classe String, explications ici https://fr.wikipedia.org/wiki/Java_hashCode()#La_fonction_de_hachage_de_la_classe_java.lang.String , calculé à partir de la clé; Le nom de la machine, lui, est obtenu grâce à l’instruction java suivante:  java.net.InetAddress.getLocalHost().getHostName()  \n",
    "\n",
    "Pour cela, votre SLAVE prend un mode de fonctionnement en argument: 1 , qui correspond au calcul du hash , puis un nom de fichier “UMx.txt” en entrée depuis le dossier maps et calcule un fichier “<hash>-<hostname>.txt ” en sortie dans le dossier shuffles. Gardez le mode précédent: 0 pour la phase de map. \n",
    "\n",
    "Testez le fonctionnement de votre SLAVE avec le fichier UM1.txt contenant\n",
    "    - Car 1\n",
    "    - Car 1\n",
    "    - River 1\n",
    "Testez dans un terminal le JAR comme suit:\n",
    "    \n",
    "```sh\n",
    "cd /tmp/<votre nom d’utilisateur>/java -jar slave.jar 1 /tmp/<votre nom d’utilisateur>/maps/UM1.txt\n",
    "```\n",
    "    \n",
    "Les fichiers suivants doivent être créés:\n",
    "\n",
    "`/tmp/<votre nom d’utilisateur>/shuffles/67508-c127-12.txt` créé contenant\n",
    "- Car 1\n",
    "- Car 1\n",
    "\n",
    "`/tmp/<votre nom d’utilisateur>/shuffles/78973420-c127-12.txt` créé contenant\n",
    "- River 1"
   ]
  },
  {
   "cell_type": "markdown",
   "metadata": {},
   "source": [
    "__3. Le SLAVE qui exécute la phase de shuffle.__\n",
    "\n",
    "Modifiez le SLAVE pour qu’il exécute la phase de shuffle.\n",
    "\n",
    "Pour cela, pour chaque clé calculée lors du map, en plus de créer le fichier dans le dossier shuffles, il faut envoyer ce fichier dans le dossier shufflesreceived d’une des machines du fichier `/tmp/<votre nom d’utilisateur>/machines.txt`\n",
    "\n",
    "Pour savoir sur quelle machine il faut l’envoyer, on utilise le hash calculé à partir de la clé (une valeur entière) et le nombre de machines du fichier. Il suffit de calculer le hash modulo le nombre de machine en considérant que la première machine du fichier a pour numéro 0, la deuxième 1 etc... La formule utilisée pour trouver la machine sur laquelle sera envoyée le shuffle sera donc `numeroMachine = hash % nbMachines`"
   ]
  },
  {
   "cell_type": "markdown",
   "metadata": {},
   "source": [
    "__Activer le kernel python3__"
   ]
  },
  {
   "cell_type": "code",
   "execution_count": 1,
   "metadata": {},
   "outputs": [],
   "source": [
    "!cp data/hostnames.txt /tmp/root"
   ]
  },
  {
   "cell_type": "markdown",
   "metadata": {},
   "source": [
    "__Activer le kernel java et recompiler les classes (Slaves, Master, Deploy, Clean et Utils)__"
   ]
  },
  {
   "cell_type": "markdown",
   "metadata": {},
   "source": [
    "Reprennons la classe `Slave` déjà implémentée précédemment et changeons ses paramètres d'entrées. Les implémentations de la partie __2__ et __3__ sont déjà développées."
   ]
  },
  {
   "cell_type": "code",
   "execution_count": 6,
   "metadata": {},
   "outputs": [
    {
     "name": "stdout",
     "output_type": "stream",
     "text": [
      "worker-3\n",
      "ssh root@worker-3 if test ! -d /tmp/root/shuffle; then mkdir -p /tmp/root/shuffle; fi\n",
      "Warning: Permanently added 'worker-3,172.21.0.2' (ECDSA) to the list of known hosts.\n",
      "bash: warning: setlocale: LC_ALL: cannot change locale (en_US.UTF-8)\n",
      "job.jar\n",
      "maps\n",
      "shuffle\n",
      "splits\n",
      "scp -r /tmp/root/shuffle/3079406_2_-1081267614.txt root@worker-3:/tmp/root/shuffle\n",
      "Warning: Permanently added 'worker-3,172.21.0.2' (ECDSA) to the list of known hosts.\n",
      "bash: warning: setlocale: LC_ALL: cannot change locale (en_US.UTF-8)\n",
      "worker-1\n",
      "ssh root@worker-1 if test ! -d /tmp/root/shuffle; then mkdir -p /tmp/root/shuffle; fi\n",
      "Warning: Permanently added 'worker-1,172.21.0.3' (ECDSA) to the list of known hosts.\n",
      "bash: warning: setlocale: LC_ALL: cannot change locale (en_US.UTF-8)\n",
      "job.jar\n",
      "shuffle\n",
      "splits\n",
      "scp -r /tmp/root/shuffle/3019824_0_-1081267614.txt root@worker-1:/tmp/root/shuffle\n",
      "Warning: Permanently added 'worker-1,172.21.0.3' (ECDSA) to the list of known hosts.\n",
      "bash: warning: setlocale: LC_ALL: cannot change locale (en_US.UTF-8)\n",
      "worker-1\n",
      "ssh root@worker-1 if test ! -d /tmp/root/shuffle; then mkdir -p /tmp/root/shuffle; fi\n",
      "Warning: Permanently added 'worker-1,172.21.0.3' (ECDSA) to the list of known hosts.\n",
      "bash: warning: setlocale: LC_ALL: cannot change locale (en_US.UTF-8)\n",
      "job.jar\n",
      "shuffle\n",
      "splits\n",
      "scp -r /tmp/root/shuffle/108526092_0_-1081267614.txt root@worker-1:/tmp/root/shuffle\n",
      "Warning: Permanently added 'worker-1,172.21.0.3' (ECDSA) to the list of known hosts.\n",
      "bash: warning: setlocale: LC_ALL: cannot change locale (en_US.UTF-8)\n",
      "worker-3\n",
      "ssh root@worker-3 if test ! -d /tmp/root/shuffle; then mkdir -p /tmp/root/shuffle; fi\n",
      "Warning: Permanently added 'worker-3,172.21.0.2' (ECDSA) to the list of known hosts.\n",
      "bash: warning: setlocale: LC_ALL: cannot change locale (en_US.UTF-8)\n",
      "job.jar\n",
      "maps\n",
      "shuffle\n",
      "splits\n",
      "scp -r /tmp/root/shuffle/3079406_2_-1081267614.txt root@worker-3:/tmp/root/shuffle\n",
      "Warning: Permanently added 'worker-3,172.21.0.2' (ECDSA) to the list of known hosts.\n",
      "bash: warning: setlocale: LC_ALL: cannot change locale (en_US.UTF-8)\n",
      "worker-2\n",
      "ssh root@worker-2 if test ! -d /tmp/root/shuffle; then mkdir -p /tmp/root/shuffle; fi\n",
      "Warning: Permanently added 'worker-2,172.21.0.4' (ECDSA) to the list of known hosts.\n",
      "bash: warning: setlocale: LC_ALL: cannot change locale (en_US.UTF-8)\n",
      "job.jar\n",
      "maps\n",
      "shuffle\n",
      "splits\n",
      "scp -r /tmp/root/shuffle/98260_1_-1081267614.txt root@worker-2:/tmp/root/shuffle\n",
      "Warning: Permanently added 'worker-2,172.21.0.4' (ECDSA) to the list of known hosts.\n",
      "bash: warning: setlocale: LC_ALL: cannot change locale (en_US.UTF-8)\n",
      "worker-1\n",
      "ssh root@worker-1 if test ! -d /tmp/root/shuffle; then mkdir -p /tmp/root/shuffle; fi\n",
      "Warning: Permanently added 'worker-1,172.21.0.3' (ECDSA) to the list of known hosts.\n",
      "bash: warning: setlocale: LC_ALL: cannot change locale (en_US.UTF-8)\n",
      "job.jar\n",
      "shuffle\n",
      "splits\n",
      "scp -r /tmp/root/shuffle/3019824_0_-1081267614.txt root@worker-1:/tmp/root/shuffle\n",
      "Warning: Permanently added 'worker-1,172.21.0.3' (ECDSA) to the list of known hosts.\n",
      "bash: warning: setlocale: LC_ALL: cannot change locale (en_US.UTF-8)\n",
      "worker-2\n",
      "ssh root@worker-2 if test ! -d /tmp/root/shuffle; then mkdir -p /tmp/root/shuffle; fi\n",
      "Warning: Permanently added 'worker-2,172.21.0.4' (ECDSA) to the list of known hosts.\n",
      "bash: warning: setlocale: LC_ALL: cannot change locale (en_US.UTF-8)\n",
      "job.jar\n",
      "maps\n",
      "shuffle\n",
      "splits\n",
      "scp -r /tmp/root/shuffle/98260_1_-1081267614.txt root@worker-2:/tmp/root/shuffle\n",
      "Warning: Permanently added 'worker-2,172.21.0.4' (ECDSA) to the list of known hosts.\n",
      "bash: warning: setlocale: LC_ALL: cannot change locale (en_US.UTF-8)\n",
      "worker-2\n",
      "ssh root@worker-2 if test ! -d /tmp/root/shuffle; then mkdir -p /tmp/root/shuffle; fi\n",
      "Warning: Permanently added 'worker-2,172.21.0.4' (ECDSA) to the list of known hosts.\n",
      "bash: warning: setlocale: LC_ALL: cannot change locale (en_US.UTF-8)\n",
      "job.jar\n",
      "maps\n",
      "shuffle\n",
      "splits\n",
      "scp -r /tmp/root/shuffle/98260_1_-1081267614.txt root@worker-2:/tmp/root/shuffle\n",
      "Warning: Permanently added 'worker-2,172.21.0.4' (ECDSA) to the list of known hosts.\n",
      "bash: warning: setlocale: LC_ALL: cannot change locale (en_US.UTF-8)\n",
      "worker-1\n",
      "ssh root@worker-1 if test ! -d /tmp/root/shuffle; then mkdir -p /tmp/root/shuffle; fi\n",
      "Warning: Permanently added 'worker-1,172.21.0.3' (ECDSA) to the list of known hosts.\n",
      "bash: warning: setlocale: LC_ALL: cannot change locale (en_US.UTF-8)\n",
      "job.jar\n",
      "shuffle\n",
      "splits\n",
      "scp -r /tmp/root/shuffle/108526092_0_-1081267614.txt root@worker-1:/tmp/root/shuffle\n",
      "Warning: Permanently added 'worker-1,172.21.0.3' (ECDSA) to the list of known hosts.\n",
      "bash: warning: setlocale: LC_ALL: cannot change locale (en_US.UTF-8)\n"
     ]
    }
   ],
   "source": [
    "String[] args = {\"1\"};\n",
    "\n",
    "Slave.main(args);"
   ]
  },
  {
   "cell_type": "markdown",
   "metadata": {},
   "source": [
    "__4. Un MASTER qui lance et attend la fin de la phase de shuffle.__\n",
    "\n",
    "Modifiez le MASTER pour qu’il lance la phase de shuffle une fois que la phase de map est terminée, sur plusieurs machines et affiche “SHUFFLE FINISHED”. Pour cela vous utiliserez le fichier précédemment créé qui contient la liste des machines que vous voulez utiliser pour votre projet. \n",
    "Pour bien synchroniser le MASTER avec les SLAVES, veillez à afficher “SHUFFLE FINISHED” qu’une fois tous les SLAVEs terminés et uniquement quand tous les SLAVEs sont terminés, PAS AVANT! Le MASTER doit donc attendre que SLAVEs se terminent correctement.\n",
    "Comment faites-vous pour qu’un process lancé avec ProcessBuilder en Java attende la fin de l’exécution du processus ? \n",
    "Votre programme MASTER lance-t-il les SLAVE de manière séquentielle (les uns après les autres) ou de manière parallèle?"
   ]
  },
  {
   "cell_type": "code",
   "execution_count": 7,
   "metadata": {},
   "outputs": [],
   "source": [
    "import java.util.*;\n",
    "\n",
    "public class Master {\n",
    "    public static void main(String[] args) throws InterruptedException {\n",
    "        ArrayList<String> hostnames = Utils.read_file(args[0]);\n",
    "        Set<String> slaves = new HashSet<>();\n",
    "        List<String> files = Utils.list_directory(args[1]);\n",
    "        ArrayList<String> health_checks = new ArrayList<>();\n",
    "        ArrayList<String> create_dirs = new ArrayList<>();\n",
    "        ArrayList<String> check_dir = new ArrayList<>();\n",
    "        ArrayList<String> run_copy = new ArrayList<>();\n",
    "        ArrayList<String> run_map = new ArrayList<>();\n",
    "        ArrayList<String> run_shuffle = new ArrayList<>();\n",
    "        ArrayList<String> run_reduce = new ArrayList<>();\n",
    "        ArrayList<String> copy_hostnames_file = new ArrayList<>();\n",
    "        Random rand = new Random();\n",
    "\n",
    "        for (String file:files){\n",
    "            assert hostnames != null;\n",
    "            String slave = hostnames.get(rand.nextInt(hostnames.size()));\n",
    "            slaves.add(slave);\n",
    "            health_checks.add(\"ssh -o StrictHostKeyChecking=no root@\" + slave + \" hostname\");\n",
    "            create_dirs.add(\"ssh root@\" + slave + \" if test ! -d \" + args[2] + \"; then mkdir -p \" + args[2] + \"; fi\");\n",
    "            run_copy.add(\"scp -r \" + file + \" root@\" + slave + \":\" + args[2]);\n",
    "            check_dir.add(\"ssh root@\" + slave + \" ls \" + args[2]);\n",
    "            run_map.add(\"ssh root@\" + slave + \" java -jar /tmp/root/job.jar 0 \" + file);\n",
    "            copy_hostnames_file.add(\"scp \" + args[0] + \" root@\" + slave + \":/tmp/root\");\n",
    "\n",
    "        }\n",
    "        for (String slave:slaves)\n",
    "            run_shuffle.add(\"ssh root@\" + slave + \" java -jar /tmp/root/job.jar 1 \");\n",
    "\n",
    "        assert hostnames != null;\n",
    "        for (String slave:hostnames)\n",
    "            run_reduce.add(\"ssh root@\" + slave + \" java -jar /tmp/root/job.jar 2 \");\n",
    "\n",
    "        // Apply health checker\n",
    "        List<Boolean> returnValue = Utils.launch_actions_with_return(health_checks);\n",
    "\n",
    "        // Check all machine are alive and deploy jar\n",
    "        boolean isNodesOk = returnValue.stream().allMatch(x -> x);\n",
    "        if (isNodesOk) {\n",
    "            Utils.launch_actions_without_return(create_dirs);\n",
    "\n",
    "            // wait for directories creation and check the creation\n",
    "            Thread.sleep(3000);\n",
    "            returnValue = Utils.launch_actions_with_return(check_dir);\n",
    "\n",
    "            // if all directories are created, deploy jar file\n",
    "            if (returnValue.stream().allMatch(x -> x)) {\n",
    "                Utils.launch_actions_without_return(run_copy);\n",
    "            } else {\n",
    "                System.out.println(\"Something went wrong during the directories creation\");\n",
    "            }\n",
    "        } else {\n",
    "            System.out.println(\"Not all nodes are safe, please check connection\");\n",
    "        }\n",
    "\n",
    "        // Map\n",
    "        double start_map_time = System.currentTimeMillis();\n",
    "        Deploy.deploy(hostnames,\n",
    "                \"jar/job.jar\", \"/tmp/root/\");\n",
    "        Utils.launch_actions_without_return(run_map);\n",
    "        System.out.println(\"MAP FINISHED\");\n",
    "        double end_map_time = System.currentTimeMillis();\n",
    "        double total_map_time = end_map_time - start_map_time;\n",
    "        System.out.println(String.format(\"map time: %f\", total_map_time/1000));\n",
    "\n",
    "        // shuffle\n",
    "        double start_shuffle_time = System.currentTimeMillis();\n",
    "        Utils.launch_actions_without_return(copy_hostnames_file);\n",
    "        Utils.launch_actions_without_return(run_shuffle);\n",
    "        System.out.println(\"SHUFFLE FINISHED\");\n",
    "        double end_shuffle_time = System.currentTimeMillis();\n",
    "        double total_shuffle_time = end_shuffle_time - start_shuffle_time;\n",
    "        System.out.println(String.format(\"shuffle time: %f\", total_shuffle_time/1000));\n",
    "    }\n",
    "}"
   ]
  },
  {
   "cell_type": "code",
   "execution_count": 8,
   "metadata": {},
   "outputs": [
    {
     "name": "stdout",
     "output_type": "stream",
     "text": [
      "worker-1\n",
      "worker-1\n",
      "worker-2\n",
      "ssh root@worker-1 if test ! -d /tmp/root/splits; then mkdir -p /tmp/root/splits; fi\n",
      "ssh root@worker-1 if test ! -d /tmp/root/splits; then mkdir -p /tmp/root/splits; fi\n",
      "ssh root@worker-2 if test ! -d /tmp/root/splits; then mkdir -p /tmp/root/splits; fi\n",
      "Warning: Permanently added 'worker-1,172.21.0.3' (ECDSA) to the list of known hosts.\n",
      "bash: warning: setlocale: LC_ALL: cannot change locale (en_US.UTF-8)\n",
      "Warning: Permanently added 'worker-1,172.21.0.3' (ECDSA) to the list of known hosts.\n",
      "bash: warning: setlocale: LC_ALL: cannot change locale (en_US.UTF-8)\n",
      "Warning: Permanently added 'worker-2,172.21.0.4' (ECDSA) to the list of known hosts.\n",
      "bash: warning: setlocale: LC_ALL: cannot change locale (en_US.UTF-8)\n",
      "S0.txt\n",
      "S1.txt\n",
      "S0.txt\n",
      "S0.txt\n",
      "scp -r /tmp/root/splits/S0.txt root@worker-1:/tmp/root/splits\n",
      "scp -r /tmp/root/splits/S1.txt root@worker-1:/tmp/root/splits\n",
      "scp -r /tmp/root/splits/S2.txt root@worker-2:/tmp/root/splits\n",
      "Warning: Permanently added 'worker-1,172.21.0.3' (ECDSA) to the list of known hosts.\n",
      "bash: warning: setlocale: LC_ALL: cannot change locale (en_US.UTF-8)\n",
      "Warning: Permanently added 'worker-2,172.21.0.4' (ECDSA) to the list of known hosts.\n",
      "bash: warning: setlocale: LC_ALL: cannot change locale (en_US.UTF-8)\n",
      "Warning: Permanently added 'worker-1,172.21.0.3' (ECDSA) to the list of known hosts.\n",
      "bash: warning: setlocale: LC_ALL: cannot change locale (en_US.UTF-8)\n",
      "worker-1\n",
      "worker-2\n",
      "worker-3\n",
      "ssh root@worker-1 if test ! -d /tmp/root/; then mkdir -p /tmp/root/; fi\n",
      "ssh root@worker-2 if test ! -d /tmp/root/; then mkdir -p /tmp/root/; fi\n",
      "ssh root@worker-3 if test ! -d /tmp/root/; then mkdir -p /tmp/root/; fi\n",
      "Warning: Permanently added 'worker-1,172.21.0.3' (ECDSA) to the list of known hosts.\n",
      "bash: warning: setlocale: LC_ALL: cannot change locale (en_US.UTF-8)\n",
      "Warning: Permanently added 'worker-2,172.21.0.4' (ECDSA) to the list of known hosts.\n",
      "bash: warning: setlocale: LC_ALL: cannot change locale (en_US.UTF-8)\n",
      "Warning: Permanently added 'worker-3,172.21.0.2' (ECDSA) to the list of known hosts.\n",
      "bash: warning: setlocale: LC_ALL: cannot change locale (en_US.UTF-8)\n",
      "job.jar\n",
      "shuffle\n",
      "splits\n",
      "job.jar\n",
      "maps\n",
      "shuffle\n",
      "splits\n",
      "job.jar\n",
      "maps\n",
      "shuffle\n",
      "splits\n",
      "scp -r jar/job.jar root@worker-1:/tmp/root/\n",
      "scp -r jar/job.jar root@worker-2:/tmp/root/\n",
      "scp -r jar/job.jar root@worker-3:/tmp/root/\n",
      "Warning: Permanently added 'worker-2,172.21.0.4' (ECDSA) to the list of known hosts.\n",
      "bash: warning: setlocale: LC_ALL: cannot change locale (en_US.UTF-8)\n",
      "Warning: Permanently added 'worker-1,172.21.0.3' (ECDSA) to the list of known hosts.\n",
      "bash: warning: setlocale: LC_ALL: cannot change locale (en_US.UTF-8)\n",
      "Warning: Permanently added 'worker-3,172.21.0.2' (ECDSA) to the list of known hosts.\n",
      "bash: warning: setlocale: LC_ALL: cannot change locale (en_US.UTF-8)\n",
      "ssh root@worker-1 java -jar /tmp/root/job.jar 0 /tmp/root/splits/S0.txt\n",
      "ssh root@worker-1 java -jar /tmp/root/job.jar 0 /tmp/root/splits/S1.txt\n",
      "ssh root@worker-2 java -jar /tmp/root/job.jar 0 /tmp/root/splits/S2.txt\n",
      "Something goes wrong when creating maps folder\n",
      "Warning: Permanently added 'worker-2,172.21.0.4' (ECDSA) to the list of known hosts.\n",
      "bash: warning: setlocale: LC_ALL: cannot change locale (en_US.UTF-8)\n",
      "Warning: Permanently added 'worker-1,172.21.0.3' (ECDSA) to the list of known hosts.\n",
      "bash: warning: setlocale: LC_ALL: cannot change locale (en_US.UTF-8)\n",
      "MAP FINISHED\n",
      "map time: 4.099000\n",
      "scp data/hostnames.txt root@worker-1:/tmp/root\n",
      "scp data/hostnames.txt root@worker-1:/tmp/root\n",
      "scp data/hostnames.txt root@worker-2:/tmp/root\n",
      "Warning: Permanently added 'worker-2,172.21.0.4' (ECDSA) to the list of known hosts.\n",
      "bash: warning: setlocale: LC_ALL: cannot change locale (en_US.UTF-8)\n",
      "Warning: Permanently added 'worker-1,172.21.0.3' (ECDSA) to the list of known hosts.\n",
      "bash: warning: setlocale: LC_ALL: cannot change locale (en_US.UTF-8)\n",
      "Warning: Permanently added 'worker-1,172.21.0.3' (ECDSA) to the list of known hosts.\n",
      "bash: warning: setlocale: LC_ALL: cannot change locale (en_US.UTF-8)\n",
      "ssh root@worker-2 java -jar /tmp/root/job.jar 1 \n",
      "ssh root@worker-1 java -jar /tmp/root/job.jar 1 \n",
      "worker-2\n",
      "ssh root@worker-2 if test ! -d /tmp/root/shuffle; then mkdir -p /tmp/root/shuffle; fi\n",
      "bash: warning: setlocale: LC_ALL: cannot change locale (en_US.UTF-8)\n",
      "hostnames.txt\n",
      "job.jar\n",
      "maps\n",
      "shuffle\n",
      "splits\n",
      "scp -r /tmp/root/shuffle/98260_1_35352994.txt root@worker-2:/tmp/root/shuffle\n",
      "bash: warning: setlocale: LC_ALL: cannot change locale (en_US.UTF-8)\n",
      "worker-2\n",
      "ssh root@worker-2 if test ! -d /tmp/root/shuffle; then mkdir -p /tmp/root/shuffle; fi\n",
      "bash: warning: setlocale: LC_ALL: cannot change locale (en_US.UTF-8)\n",
      "worker-3\n",
      "ssh root@worker-3 if test ! -d /tmp/root/shuffle; then mkdir -p /tmp/root/shuffle; fi\n",
      "bash: warning: setlocale: LC_ALL: cannot change locale (en_US.UTF-8)\n",
      "job.jar\n",
      "maps\n",
      "shuffle\n",
      "splits\n",
      "scp -r /tmp/root/shuffle/3079406_2_35352995.txt root@worker-3:/tmp/root/shuffle\n",
      "bash: warning: setlocale: LC_ALL: cannot change locale (en_US.UTF-8)\n",
      "worker-1\n",
      "ssh root@worker-1 if test ! -d /tmp/root/shuffle; then mkdir -p /tmp/root/shuffle; fi\n",
      "bash: warning: setlocale: LC_ALL: cannot change locale (en_US.UTF-8)\n",
      "hostnames.txt\n",
      "job.jar\n",
      "maps\n",
      "shuffle\n",
      "splits\n",
      "scp -r /tmp/root/shuffle/98260_1_35352994.txt root@worker-2:/tmp/root/shuffle\n",
      "bash: warning: setlocale: LC_ALL: cannot change locale (en_US.UTF-8)\n",
      "hostnames.txt\n",
      "job.jar\n",
      "maps\n",
      "shuffle\n",
      "splits\n",
      "scp -r /tmp/root/shuffle/3019824_0_35352995.txt root@worker-1:/tmp/root/shuffle\n",
      "bash: warning: setlocale: LC_ALL: cannot change locale (en_US.UTF-8)\n",
      "worker-1\n",
      "ssh root@worker-1 if test ! -d /tmp/root/shuffle; then mkdir -p /tmp/root/shuffle; fi\n",
      "bash: warning: setlocale: LC_ALL: cannot change locale (en_US.UTF-8)\n",
      "hostnames.txt\n",
      "job.jar\n",
      "maps\n",
      "shuffle\n",
      "splits\n",
      "scp -r /tmp/root/shuffle/108526092_0_35352995.txt root@worker-1:/tmp/root/shuffle\n",
      "bash: warning: setlocale: LC_ALL: cannot change locale (en_US.UTF-8)\n",
      "worker-3\n",
      "ssh root@worker-3 if test ! -d /tmp/root/shuffle; then mkdir -p /tmp/root/shuffle; fi\n",
      "bash: warning: setlocale: LC_ALL: cannot change locale (en_US.UTF-8)\n",
      "job.jar\n",
      "maps\n",
      "shuffle\n",
      "splits\n",
      "scp -r /tmp/root/shuffle/3079406_2_35352995.txt root@worker-3:/tmp/root/shuffle\n",
      "bash: warning: setlocale: LC_ALL: cannot change locale (en_US.UTF-8)\n",
      "worker-1\n",
      "ssh root@worker-1 if test ! -d /tmp/root/shuffle; then mkdir -p /tmp/root/shuffle; fi\n",
      "bash: warning: setlocale: LC_ALL: cannot change locale (en_US.UTF-8)\n",
      "hostnames.txt\n",
      "job.jar\n",
      "maps\n",
      "shuffle\n",
      "splits\n",
      "scp -r /tmp/root/shuffle/3019824_0_35352995.txt root@worker-1:/tmp/root/shuffle\n",
      "bash: warning: setlocale: LC_ALL: cannot change locale (en_US.UTF-8)\n",
      "SHUFFLE FINISHED\n",
      "shuffle time: 19.055000\n"
     ]
    }
   ],
   "source": [
    "String[] args = {\"data/hostnames.txt\", \"/tmp/root/splits\", \"/tmp/root/splits\"};\n",
    "\n",
    "Master.main(args);"
   ]
  },
  {
   "cell_type": "markdown",
   "metadata": {},
   "source": [
    "Les fichiers sont maintenants présents sur les machines, dans le dossier `/tmp/root/shuffle`. Vous pouvez vérifier en vous connectant via la ligne de commande du jupyter notebook :\n",
    "\n",
    "```sh\n",
    "ssh root@worker-[1-2-3]\n",
    "```"
   ]
  },
  {
   "cell_type": "markdown",
   "metadata": {},
   "source": [
    "### <font color=\"red\">Etape 12</font> : REDUCE."
   ]
  },
  {
   "cell_type": "markdown",
   "metadata": {},
   "source": [
    "__1. Le SLAVE qui exécute la phase de reduce.__\n",
    "\n",
    "Modifiez le SLAVE pour qu’il prépare la phase de reduce en regroupant les fichiers avec le même hash, en calculant le reduce pour chacune des clés et en créant un fichier ayant pour nom <hash>.txt dans le dossier reduces. De la même manière que précédemment, le dossier reduces doit être créé avant de pouvoir écrire des fichiers dedans.\n",
    "\n",
    "Pour cela, votre SLAVE prend un mode de fonctionnement en argument: 2 , qui correspond au calcul du reduce. Gardez les modes précédents: 0 pour la phase de map, 1 pour la phase de shuffle. \n",
    "\n",
    "Testez le fonctionnement de votre SLAVE avec les fichiers dans le dossier `shuffle`. Par exemple, résultat devrait être similaire au suivant :\n",
    "\n",
    "`/tmp/root/shufflesreceived/67508-cxxx-12.txt` contenant\n",
    "- Car 1\n",
    "- Car 1\n",
    "\n",
    "`/tmp/root/shufflesreceived/67508-cxxx-13.txt` contenant\n",
    "- Car 1\n",
    "\n",
    "`/tmp/root/shufflesreceived/78973420-cxxx-12.txt` contenant \n",
    "- River 1\n",
    "\n",
    "Le dossier reduces doit contenir les fichiers suivants:\n",
    "\n",
    "`/tmp/root/reduces/67508.txt` contenant\n",
    "- Car 3\n",
    "\n",
    "`/tmp/root/reduces/78973420.txt` contenant\n",
    "- River 1"
   ]
  },
  {
   "cell_type": "markdown",
   "metadata": {},
   "source": [
    "Via la version finale de la classe `Master` ci-dessous, je réalise le reduce sur les différents noeuds."
   ]
  },
  {
   "cell_type": "code",
   "execution_count": 10,
   "metadata": {},
   "outputs": [],
   "source": [
    "import java.util.*;\n",
    "\n",
    "public class Master {\n",
    "    public static void main(String[] args) throws InterruptedException {\n",
    "        ArrayList<String> hostnames = Utils.read_file(args[0]);\n",
    "        Set<String> slaves = new HashSet<>();\n",
    "        List<String> files = Utils.list_directory(args[1]);\n",
    "        ArrayList<String> health_checks = new ArrayList<>();\n",
    "        ArrayList<String> create_dirs = new ArrayList<>();\n",
    "        ArrayList<String> check_dir = new ArrayList<>();\n",
    "        ArrayList<String> run_copy = new ArrayList<>();\n",
    "        ArrayList<String> run_map = new ArrayList<>();\n",
    "        ArrayList<String> run_shuffle = new ArrayList<>();\n",
    "        ArrayList<String> run_reduce = new ArrayList<>();\n",
    "        ArrayList<String> copy_hostnames_file = new ArrayList<>();\n",
    "        Random rand = new Random();\n",
    "\n",
    "        for (String file:files){\n",
    "            assert hostnames != null;\n",
    "            String slave = hostnames.get(rand.nextInt(hostnames.size()));\n",
    "            slaves.add(slave);\n",
    "            health_checks.add(\"ssh -o StrictHostKeyChecking=no root@\" + slave + \" hostname\");\n",
    "            create_dirs.add(\"ssh root@\" + slave + \" if test ! -d \" + args[2] + \"; then mkdir -p \" + args[2] + \"; fi\");\n",
    "            run_copy.add(\"scp -r \" + file + \" root@\" + slave + \":\" + args[2]);\n",
    "            check_dir.add(\"ssh root@\" + slave + \" ls \" + args[2]);\n",
    "            run_map.add(\"ssh root@\" + slave + \" java -jar /tmp/root/job.jar 0 \" + file);\n",
    "            copy_hostnames_file.add(\"scp \" + args[0] + \" root@\" + slave + \":/tmp/root\");\n",
    "\n",
    "        }\n",
    "        for (String slave:slaves)\n",
    "            run_shuffle.add(\"ssh root@\" + slave + \" java -jar /tmp/root/job.jar 1 \");\n",
    "\n",
    "        assert hostnames != null;\n",
    "        for (String slave:hostnames)\n",
    "            run_reduce.add(\"ssh root@\" + slave + \" java -jar /tmp/root/job.jar 2 \");\n",
    "\n",
    "        // Apply health checker\n",
    "        List<Boolean> returnValue = Utils.launch_actions_with_return(health_checks);\n",
    "\n",
    "        // Check all machine are alive and deploy jar\n",
    "        boolean isNodesOk = returnValue.stream().allMatch(x -> x);\n",
    "        if (isNodesOk) {\n",
    "            Utils.launch_actions_without_return(create_dirs);\n",
    "\n",
    "            // wait for directories creation and check the creation\n",
    "            Thread.sleep(3000);\n",
    "            returnValue = Utils.launch_actions_with_return(check_dir);\n",
    "\n",
    "            // if all directories are created, deploy jar file\n",
    "            if (returnValue.stream().allMatch(x -> x)) {\n",
    "                Utils.launch_actions_without_return(run_copy);\n",
    "            } else {\n",
    "                System.out.println(\"Something went wrong during the directories creation\");\n",
    "            }\n",
    "        } else {\n",
    "            System.out.println(\"Not all nodes are safe, please check connection\");\n",
    "        }\n",
    "\n",
    "        // Map\n",
    "        double start_map_time = System.currentTimeMillis();\n",
    "        Deploy.deploy(hostnames,\n",
    "                \"jar/job.jar\", \"/tmp/root/\");\n",
    "        Utils.launch_actions_without_return(run_map);\n",
    "        System.out.println(\"MAP FINISHED\");\n",
    "        double end_map_time = System.currentTimeMillis();\n",
    "        double total_map_time = end_map_time - start_map_time;\n",
    "        System.out.println(String.format(\"map time: %f\", total_map_time/1000));\n",
    "\n",
    "        // shuffle\n",
    "        double start_shuffle_time = System.currentTimeMillis();\n",
    "        Utils.launch_actions_without_return(copy_hostnames_file);\n",
    "        Utils.launch_actions_without_return(run_shuffle);\n",
    "        System.out.println(\"SHUFFLE FINISHED\");\n",
    "        double end_shuffle_time = System.currentTimeMillis();\n",
    "        double total_shuffle_time = end_shuffle_time - start_shuffle_time;\n",
    "        System.out.println(String.format(\"shuffle time: %f\", total_shuffle_time/1000));\n",
    "\n",
    "        // reduce\n",
    "        double start_reduce_time = System.currentTimeMillis();\n",
    "        Utils.launch_actions_without_return(run_reduce);\n",
    "        System.out.println(\"REDUCE FINISHED\");\n",
    "        double end_reduce_time = System.currentTimeMillis();\n",
    "        double total_reduce_time = end_reduce_time - start_reduce_time;\n",
    "        System.out.println(String.format(\"reduce time: %f\", total_reduce_time/1000));\n",
    "    }\n",
    "}"
   ]
  },
  {
   "cell_type": "code",
   "execution_count": 30,
   "metadata": {},
   "outputs": [
    {
     "name": "stdout",
     "output_type": "stream",
     "text": [
      "worker-1\n",
      "worker-2\n",
      "worker-2\n",
      "ssh root@worker-1 if test ! -d /tmp/root/splits; then mkdir -p /tmp/root/splits; fi\n",
      "ssh root@worker-2 if test ! -d /tmp/root/splits; then mkdir -p /tmp/root/splits; fi\n",
      "ssh root@worker-2 if test ! -d /tmp/root/splits; then mkdir -p /tmp/root/splits; fi\n",
      "Warning: Permanently added 'worker-1,172.20.0.4' (ECDSA) to the list of known hosts.\n",
      "bash: warning: setlocale: LC_ALL: cannot change locale (en_US.UTF-8)\n",
      "Warning: Permanently added 'worker-2,172.20.0.3' (ECDSA) to the list of known hosts.\n",
      "bash: warning: setlocale: LC_ALL: cannot change locale (en_US.UTF-8)\n",
      "Warning: Permanently added 'worker-2,172.20.0.3' (ECDSA) to the list of known hosts.\n",
      "bash: warning: setlocale: LC_ALL: cannot change locale (en_US.UTF-8)\n",
      "Warning: Permanently added 'worker-1,172.20.0.4' (ECDSA) to the list of known hosts.\n",
      "bash: warning: setlocale: LC_ALL: cannot change locale (en_US.UTF-8)\n",
      "Warning: Permanently added 'worker-2,172.20.0.3' (ECDSA) to the list of known hosts.\n",
      "bash: warning: setlocale: LC_ALL: cannot change locale (en_US.UTF-8)\n",
      "Warning: Permanently added 'worker-2,172.20.0.3' (ECDSA) to the list of known hosts.\n",
      "bash: warning: setlocale: LC_ALL: cannot change locale (en_US.UTF-8)\n",
      "scp -r /tmp/root/splits/S0.txt root@worker-1:/tmp/root/splits\n",
      "scp -r /tmp/root/splits/S1.txt root@worker-2:/tmp/root/splits\n",
      "scp -r /tmp/root/splits/S2.txt root@worker-2:/tmp/root/splits\n",
      "Warning: Permanently added 'worker-2,172.20.0.3' (ECDSA) to the list of known hosts.\n",
      "bash: warning: setlocale: LC_ALL: cannot change locale (en_US.UTF-8)\n",
      "Warning: Permanently added 'worker-1,172.20.0.4' (ECDSA) to the list of known hosts.\n",
      "bash: warning: setlocale: LC_ALL: cannot change locale (en_US.UTF-8)\n",
      "Warning: Permanently added 'worker-2,172.20.0.3' (ECDSA) to the list of known hosts.\n",
      "bash: warning: setlocale: LC_ALL: cannot change locale (en_US.UTF-8)\n",
      "worker-2\n",
      "worker-1\n",
      "worker-3\n",
      "ssh root@worker-1 if test ! -d /tmp/root/; then mkdir -p /tmp/root/; fi\n",
      "ssh root@worker-2 if test ! -d /tmp/root/; then mkdir -p /tmp/root/; fi\n",
      "ssh root@worker-3 if test ! -d /tmp/root/; then mkdir -p /tmp/root/; fi\n",
      "Warning: Permanently added 'worker-3,172.20.0.2' (ECDSA) to the list of known hosts.\n",
      "bash: warning: setlocale: LC_ALL: cannot change locale (en_US.UTF-8)\n",
      "Warning: Permanently added 'worker-2,172.20.0.3' (ECDSA) to the list of known hosts.\n",
      "Warning: Permanently added 'worker-1,172.20.0.4' (ECDSA) to the list of known hosts.\n",
      "bash: warning: setlocale: LC_ALL: cannot change locale (en_US.UTF-8)\n",
      "bash: warning: setlocale: LC_ALL: cannot change locale (en_US.UTF-8)\n",
      "Warning: Permanently added 'worker-3,172.20.0.2' (ECDSA) to the list of known hosts.\n",
      "bash: warning: setlocale: LC_ALL: cannot change locale (en_US.UTF-8)\n",
      "splits\n",
      "splits\n",
      "scp -r jar/job.jar root@worker-1:/tmp/root/\n",
      "scp -r jar/job.jar root@worker-2:/tmp/root/\n",
      "scp -r jar/job.jar root@worker-3:/tmp/root/\n",
      "Warning: Permanently added 'worker-2,172.20.0.3' (ECDSA) to the list of known hosts.\n",
      "bash: warning: setlocale: LC_ALL: cannot change locale (en_US.UTF-8)\n",
      "Warning: Permanently added 'worker-1,172.20.0.4' (ECDSA) to the list of known hosts.\n",
      "bash: warning: setlocale: LC_ALL: cannot change locale (en_US.UTF-8)\n",
      "Warning: Permanently added 'worker-3,172.20.0.2' (ECDSA) to the list of known hosts.\n",
      "bash: warning: setlocale: LC_ALL: cannot change locale (en_US.UTF-8)\n",
      "ssh root@worker-1 java -jar /tmp/root/job.jar 0 /tmp/root/splits/S0.txt\n",
      "ssh root@worker-2 java -jar /tmp/root/job.jar 0 /tmp/root/splits/S1.txt\n",
      "ssh root@worker-2 java -jar /tmp/root/job.jar 0 /tmp/root/splits/S2.txt\n",
      "Warning: Permanently added 'worker-2,172.20.0.3' (ECDSA) to the list of known hosts.\n",
      "bash: warning: setlocale: LC_ALL: cannot change locale (en_US.UTF-8)\n",
      "Warning: Permanently added 'worker-1,172.20.0.4' (ECDSA) to the list of known hosts.\n",
      "bash: warning: setlocale: LC_ALL: cannot change locale (en_US.UTF-8)\n",
      "Warning: Permanently added 'worker-2,172.20.0.3' (ECDSA) to the list of known hosts.\n",
      "bash: warning: setlocale: LC_ALL: cannot change locale (en_US.UTF-8)\n",
      "MAP FINISHED\n",
      "map time: 3.988000\n",
      "scp data/hostnames.txt root@worker-1:/tmp/root\n",
      "scp data/hostnames.txt root@worker-2:/tmp/root\n",
      "scp data/hostnames.txt root@worker-2:/tmp/root\n",
      "Warning: Permanently added 'worker-1,172.20.0.4' (ECDSA) to the list of known hosts.\n",
      "bash: warning: setlocale: LC_ALL: cannot change locale (en_US.UTF-8)\n",
      "Warning: Permanently added 'worker-2,172.20.0.3' (ECDSA) to the list of known hosts.\n",
      "bash: warning: setlocale: LC_ALL: cannot change locale (en_US.UTF-8)\n",
      "Warning: Permanently added 'worker-2,172.20.0.3' (ECDSA) to the list of known hosts.\n",
      "bash: warning: setlocale: LC_ALL: cannot change locale (en_US.UTF-8)\n",
      "ssh root@worker-2 java -jar /tmp/root/job.jar 1 \n",
      "ssh root@worker-1 java -jar /tmp/root/job.jar 1 \n",
      "worker-3\n",
      "ssh root@worker-3 if test ! -d /tmp/root/shuffle; then mkdir -p /tmp/root/shuffle; fi\n",
      "bash: warning: setlocale: LC_ALL: cannot change locale (en_US.UTF-8)\n",
      "job.jar\n",
      "shuffle\n",
      "scp -r /tmp/root/shuffle/3079406_2_35352994.txt root@worker-3:/tmp/root/shuffle\n",
      "bash: warning: setlocale: LC_ALL: cannot change locale (en_US.UTF-8)\n",
      "worker-3\n",
      "ssh root@worker-3 if test ! -d /tmp/root/shuffle; then mkdir -p /tmp/root/shuffle; fi\n",
      "bash: warning: setlocale: LC_ALL: cannot change locale (en_US.UTF-8)\n",
      "job.jar\n",
      "shuffle\n",
      "scp -r /tmp/root/shuffle/3079406_2_35352995.txt root@worker-3:/tmp/root/shuffle\n",
      "bash: warning: setlocale: LC_ALL: cannot change locale (en_US.UTF-8)\n",
      "worker-1\n",
      "ssh root@worker-1 if test ! -d /tmp/root/shuffle; then mkdir -p /tmp/root/shuffle; fi\n",
      "bash: warning: setlocale: LC_ALL: cannot change locale (en_US.UTF-8)\n",
      "hostnames.txt\n",
      "job.jar\n",
      "maps\n",
      "shuffle\n",
      "splits\n",
      "scp -r /tmp/root/shuffle/3019824_0_35352995.txt root@worker-1:/tmp/root/shuffle\n",
      "bash: warning: setlocale: LC_ALL: cannot change locale (en_US.UTF-8)\n",
      "worker-1\n",
      "ssh root@worker-1 if test ! -d /tmp/root/shuffle; then mkdir -p /tmp/root/shuffle; fi\n",
      "bash: warning: setlocale: LC_ALL: cannot change locale (en_US.UTF-8)\n",
      "hostnames.txt\n",
      "job.jar\n",
      "maps\n",
      "shuffle\n",
      "splits\n",
      "scp -r /tmp/root/shuffle/108526092_0_35352995.txt root@worker-1:/tmp/root/shuffle\n",
      "bash: warning: setlocale: LC_ALL: cannot change locale (en_US.UTF-8)\n",
      "SHUFFLE FINISHED\n",
      "shuffle time: 11.685000\n",
      "ssh root@worker-1 java -jar /tmp/root/job.jar 2 \n",
      "ssh root@worker-2 java -jar /tmp/root/job.jar 2 \n",
      "ssh root@worker-3 java -jar /tmp/root/job.jar 2 \n",
      "Warning: Permanently added 'worker-3,172.20.0.2' (ECDSA) to the list of known hosts.\n",
      "bash: warning: setlocale: LC_ALL: cannot change locale (en_US.UTF-8)\n",
      "Warning: Permanently added 'worker-1,172.20.0.4' (ECDSA) to the list of known hosts.\n",
      "bash: warning: setlocale: LC_ALL: cannot change locale (en_US.UTF-8)\n",
      "Warning: Permanently added 'worker-2,172.20.0.3' (ECDSA) to the list of known hosts.\n",
      "bash: warning: setlocale: LC_ALL: cannot change locale (en_US.UTF-8)\n",
      "REDUCE FINISHED\n",
      "reduce time: 0.277000\n"
     ]
    }
   ],
   "source": [
    "String[] args = {\"data/hostnames.txt\", \"/tmp/root/splits\", \"/tmp/root/splits\"};\n",
    "\n",
    "Master.main(args);"
   ]
  },
  {
   "cell_type": "markdown",
   "metadata": {},
   "source": [
    "Ci-dessous le temps de calcul pour charque étape:\n",
    "\n",
    "- map : 3.988000 secondes\n",
    "- shuffle : 11.685000 secondes\n",
    "- reduce : 0.27700 secondes\n",
    "\n",
    "Bien évidemment, la partie shuffle prend le plus de temps. C'est normal au vu de tous les transfets réseau nécessaire pour envoyer les clés sur les bons noeuds."
   ]
  },
  {
   "cell_type": "markdown",
   "metadata": {},
   "source": [
    "__Activer le kernel python3__"
   ]
  },
  {
   "cell_type": "markdown",
   "metadata": {},
   "source": [
    "La cellule ci-dessous afficher les fichiers présents dans le dossier reduce de chaque worker. Le résultat attendu est donc :\n",
    "\n",
    "- beer 2\n",
    "- river 2\n",
    "- car 3\n",
    "- deer 2"
   ]
  },
  {
   "cell_type": "code",
   "execution_count": 4,
   "metadata": {},
   "outputs": [
    {
     "name": "stdout",
     "output_type": "stream",
     "text": [
      "worker-1\n",
      "Warning: Permanently added 'worker-1,172.20.0.4' (ECDSA) to the list of known hosts.\n",
      "bash: warning: setlocale: LC_ALL: cannot change locale (en_US.UTF-8)\n",
      "beer 2.0\n",
      "river 2.0\n",
      "worker-2\n",
      "Warning: Permanently added 'worker-2,172.20.0.3' (ECDSA) to the list of known hosts.\n",
      "bash: warning: setlocale: LC_ALL: cannot change locale (en_US.UTF-8)\n",
      "car 3.0\n",
      "worker-3\n",
      "Warning: Permanently added 'worker-3,172.20.0.2' (ECDSA) to the list of known hosts.\n",
      "bash: warning: setlocale: LC_ALL: cannot change locale (en_US.UTF-8)\n",
      "deer 2.0\n"
     ]
    }
   ],
   "source": [
    "!echo worker-1 && ssh root@worker-1 find /tmp/root/reduce -type f -exec cat {} +\n",
    "!echo worker-2 && ssh root@worker-2 find /tmp/root/reduce -type f -exec cat {} +\n",
    "!echo worker-3 && ssh root@worker-3 find /tmp/root/reduce -type f -exec cat {} +"
   ]
  }
 ],
 "metadata": {
  "kernelspec": {
   "display_name": "Java",
   "language": "java",
   "name": "java"
  },
  "language_info": {
   "codemirror_mode": "java",
   "file_extension": ".jshell",
   "mimetype": "text/x-java-source",
   "name": "Java",
   "pygments_lexer": "java",
   "version": "11.0.4+11-post-Ubuntu-1ubuntu218.04.3"
  }
 },
 "nbformat": 4,
 "nbformat_minor": 4
}
