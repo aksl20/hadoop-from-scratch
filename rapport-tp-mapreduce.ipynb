{
 "cells": [
  {
   "cell_type": "markdown",
   "metadata": {},
   "source": [
    "# <center>Rapport de TP - implémentation de Hadoop MapReduce \"from scratch\" en Java\"</center>"
   ]
  },
  {
   "cell_type": "markdown",
   "metadata": {},
   "source": [
    "### <font color=\"red\">Etape 1</font> : Faire un programme séquentiel non parallélisé qui compte le nombre d'occurrences des mots dans un fichier. "
   ]
  },
  {
   "cell_type": "code",
   "execution_count": 9,
   "metadata": {},
   "outputs": [],
   "source": [
    "import java.io.IOException;\n",
    "import java.nio.file.Files;\n",
    "import java.nio.file.Paths;\n",
    "import java.util.ArrayList;\n",
    "import java.util.Collections;\n",
    "import java.util.Comparator;\n",
    "import java.util.HashMap;\n",
    "import java.util.LinkedHashMap;\n",
    "import java.util.Map;\n",
    "import java.util.Map.Entry;\n",
    "\n",
    "import static java.util.stream.Collectors.*;\n",
    "\n",
    "public class WordsCount{\n",
    "    \n",
    "    public static ArrayList<String> read_file(String filename){\n",
    "        ArrayList<String> lines = new ArrayList<>();\n",
    "        try {\n",
    "            lines = (ArrayList<String>) Files.readAllLines(Paths.get(filename));\n",
    "        } catch (IOException e) {\n",
    "            System.out.println(\"Problem when loading file\");\n",
    "            return null;\n",
    "        }\n",
    "        return lines;\n",
    "    }\n",
    "    \n",
    "    public static ArrayList<String[]> tokenize(ArrayList<String> lines){\n",
    "        ArrayList<String[]> tokenize_corpus = new ArrayList<>();\n",
    "        for (String line : lines) {\n",
    "            // removes punctuations\n",
    "            line = line.replaceAll(\"\\\\p{Punct}\",\"\").toLowerCase().trim();\n",
    "\n",
    "            tokenize_corpus.add(line.split(\" \"));\n",
    "        }\n",
    "        return tokenize_corpus;\n",
    "    }\n",
    "    \n",
    "    public static HashMap<String, Double> words_count(String filename){\n",
    "        // Function for the question 1\n",
    "        ArrayList<String> lines = WordsCount.read_file(filename);\n",
    "        ArrayList<String[]> lines_tokenized = WordsCount.tokenize(lines);\n",
    "        HashMap<String, Double> words_count = new HashMap<>();\n",
    "\n",
    "        for (String[] line_tokenized: lines_tokenized) {\n",
    "            for (String word:line_tokenized) {\n",
    "                if (word.isEmpty() != true){\n",
    "                    if (words_count.get(word) == null) {\n",
    "                            words_count.put(word, 1.0);\n",
    "                    } else {\n",
    "                            words_count.put(word, words_count.get(word)+1);\n",
    "                    }\n",
    "                }\n",
    "            }\n",
    "        }\n",
    "        return words_count;\n",
    "    }\n",
    "    \n",
    "    public static HashMap<String, Double> sorted_map_by_numeric_value(HashMap<String, Double> hash_map){\n",
    "        // Function for question 2\n",
    "        HashMap<String, Double> sorted_map = hash_map\n",
    "                                            .entrySet()\n",
    "                                            .stream()\n",
    "                                            .sorted(Collections.reverseOrder(Map.Entry.comparingByValue()))\n",
    "                                            .collect(toMap(Map.Entry::getKey, Map.Entry::getValue, (e1, e2) -> e2,\n",
    "                                                    LinkedHashMap::new));\n",
    "        return sorted_map;\n",
    "    }\n",
    "    \n",
    "    public static HashMap<String, Double> sort(HashMap<String, Double> hash_map){\n",
    "        // Function for question 3\n",
    "        HashMap<String, Double> sorted_map = hash_map\n",
    "                                                .entrySet()\n",
    "                                                .stream()\n",
    "                                                .sorted(new Comparator<Entry<String, Double>>() {\n",
    "                                                    @Override\n",
    "                                                    public int compare(Entry<String, Double> e1, Entry<String, Double> e2) {\n",
    "                                                        if (e1.getValue().equals(e2.getValue())) {\n",
    "                                                                return e1.getKey().compareTo(e2.getKey());\n",
    "                                                        } else {\n",
    "                                                            return e2.getValue().compareTo(e1.getValue());\n",
    "                                                        }\n",
    "                                                    }\n",
    "                                                }).collect(toMap(Map.Entry::getKey, Map.Entry::getValue, (e1, e2) -> e1,\n",
    "                                                        LinkedHashMap::new));\n",
    "        return sorted_map;\n",
    "    }\n",
    "    \n",
    "    public static void print_map(Map<String, Double> hash_map) {\n",
    "        for (Entry<String, Double> el:hash_map.entrySet()) {\n",
    "                System.out.println(el.getKey() + \" \" + el.getValue());\n",
    "        }\n",
    "    }\n",
    "    \n",
    "    public static void print_map(Map<String, Double> hash_map, Integer n) {\n",
    "        Integer count = 0;\n",
    "        for (Entry<String, Double> el:hash_map.entrySet()) {\n",
    "            if(count == n){\n",
    "                break;\n",
    "            } else {\n",
    "              System.out.println(el.getKey() + \" \" + el.getValue());\n",
    "                count++;\n",
    "            }\n",
    "        }\n",
    "    }\n",
    "    \n",
    "    public static void main(String[] args){\n",
    "        System.out.print(\"Hello Jupyter from java\");\n",
    "    }\n",
    "}"
   ]
  },
  {
   "cell_type": "markdown",
   "metadata": {},
   "source": [
    "__1. Premier comptage en séquentiel pur__\n",
    "\n",
    "Implémentez un logiciel en java qui compte le nombre d’occurrences des mots d’un fichier d’entrée de manière non parallélisée (monothread, une seul thread), en utilisant un seul processeur.<br> \n",
    "Quelle structure de donnée est la plus pertinente pour stocker les résultats: List, HashMap ou HashSet ou une autre ? Pour quelle raison ? \n",
    "\n",
    " \n",
    "\n",
    "Testez votre programme avec un fichier d’entrée input.txt avec comme contenu: \n",
    "```sh \n",
    "Deer Beer River \n",
    "Car Car River \n",
    "Deer Car Beer\n",
    "```\n",
    "\n",
    "Résultat: \n",
    "```sh \n",
    "Deer 2 \n",
    "Beer 2 \n",
    "River 2 \n",
    "Car 3\n",
    "```"
   ]
  },
  {
   "cell_type": "code",
   "execution_count": 21,
   "metadata": {},
   "outputs": [
    {
     "name": "stdout",
     "output_type": "stream",
     "text": [
      "deer 2.0\n",
      "car 3.0\n",
      "river 2.0\n",
      "beer 2.0\n"
     ]
    }
   ],
   "source": [
    "WordsCount.print_map(WordsCount.words_count(\"data/input.txt\"));"
   ]
  },
  {
   "cell_type": "markdown",
   "metadata": {},
   "source": [
    "__2. Premier tri en séquentiel pur__\n",
    "\n",
    "Modifiez votre programme pour trier par nombre d'occurrences: \n",
    "\n",
    "Résultat: \n",
    "```sh\n",
    "Car 3 \n",
    "Deer 2 \n",
    "Beer 2 \n",
    "River 2\n",
    "```"
   ]
  },
  {
   "cell_type": "code",
   "execution_count": 17,
   "metadata": {},
   "outputs": [
    {
     "name": "stdout",
     "output_type": "stream",
     "text": [
      "car 3.0\n",
      "deer 2.0\n",
      "river 2.0\n",
      "beer 2.0\n"
     ]
    }
   ],
   "source": [
    "HashMap<String, Double> words_count = WordsCount.words_count(\"data/input.txt\");\n",
    "WordsCount.print_map(WordsCount.sorted_map_by_numeric_value(words_count));"
   ]
  },
  {
   "cell_type": "markdown",
   "metadata": {},
   "source": [
    "__3. Deuxième tri alphabétique en séquentiel pur__\n",
    "\n",
    "Modifiez le programme pour trier alphabétiquement pour les mots à égalité du nombre d’occurrences: \n",
    "\n",
    "Résultat: \n",
    "```sh\n",
    "Car 3 \n",
    "Beer 2 \n",
    "Deer 2\n",
    "River 2 \n",
    "```"
   ]
  },
  {
   "cell_type": "code",
   "execution_count": 22,
   "metadata": {},
   "outputs": [
    {
     "name": "stdout",
     "output_type": "stream",
     "text": [
      "car 3.0\n",
      "beer 2.0\n",
      "deer 2.0\n",
      "river 2.0\n"
     ]
    }
   ],
   "source": [
    "HashMap<String, Double> words_count = WordsCount.words_count(\"data/input.txt\");\n",
    "WordsCount.print_map(WordsCount.sort(words_count));"
   ]
  },
  {
   "cell_type": "markdown",
   "metadata": {},
   "source": [
    "__4. Test du programme séquentiel sur le code forestier de Mayotte__\n",
    "\n",
    "Testez ensuite votre programme avec le code forestier de Mayotte disponible sur github forestier_mayotte.txt :  \n",
    "https://github.com/legifrance/Les-codes-en-vigueur \n",
    "\n",
    "Votre programme a-t-il fonctionné du premier coup ?\n",
    "\n",
    "Vérifiez en ouvrant le fichier texte qu’il contient bien du texte et non du code HTML. \n",
    "\n",
    "Ne perdez pas de temps à corriger les éventuelles erreurs dues aux caractères spéciaux ou à des mots suspects ou illisibles (de toutes façons par la suite il y aura du chinois dans le texte)."
   ]
  },
  {
   "cell_type": "markdown",
   "metadata": {},
   "source": [
    "Le programme à fonctionné du premier coup, cependant les caractères spéciaux et la ponctuation faussaient les résultats. Comme demandé dans l'énoncé, je n'ai pas passé beaucoup de temps sur le nettoyage des données. J'ai seulement ajouté une regex spéciale Java afin de supprimer la ponctuation."
   ]
  },
  {
   "cell_type": "code",
   "execution_count": 10,
   "metadata": {},
   "outputs": [
    {
     "name": "stdout",
     "output_type": "stream",
     "text": [
      "de 12.0\n",
      "biens 8.0\n",
      "ou 8.0\n",
      "forestier 6.0\n",
      "code 5.0\n",
      "des 5.0\n",
      "partie 5.0\n",
      "agroforestiers 4.0\n",
      "aux 4.0\n",
      "communes 4.0\n",
      "dispositions 4.0\n",
      "forestiers 4.0\n",
      "gestion 4.0\n",
      "le 4.0\n",
      "les 4.0\n"
     ]
    }
   ],
   "source": [
    "HashMap<String, Double> words_count = WordsCount.words_count(\"data/forestier_mayotte.txt\");\n",
    "WordsCount.print_map(WordsCount.sort(words_count), 15);"
   ]
  },
  {
   "cell_type": "markdown",
   "metadata": {},
   "source": [
    "__5. Les 50 mots du code de la déontologie de la police nationale__\n",
    "\n",
    "Testez votre programme avec le code de déontologie de la police nationale disponible sur github deontologie_police_nationale.txt : https://github.com/legifrance/Les-codes-en-vigueur \n",
    "\n",
    "De même ne perdez pas de temps à filtrer les caractères spéciaux ou autres mots bizarres. Pourquoi ? Car nous travaillerons ensuite sur des textes en chinois, japonais, arabe et d’autres langues. Si vous implémentez une étape de filtrage ici en français elle ne servira à rien par la suite. Quels sont les 5 premiers mots (qui ressemblent à des mots) parmi les 50 premiers de la liste triée résultat ? Gardez la réponse pour l’intégrer au rapport."
   ]
  },
  {
   "cell_type": "markdown",
   "metadata": {},
   "source": [
    "Les 5 premiers mots parmi les 50 premiers de la liste triée sont \"de, la, police, et, des\""
   ]
  },
  {
   "cell_type": "code",
   "execution_count": 11,
   "metadata": {},
   "outputs": [
    {
     "name": "stdout",
     "output_type": "stream",
     "text": [
      "de 98.0\n",
      "la 51.0\n",
      "police 38.0\n",
      "et 36.0\n",
      "des 33.0\n",
      "le 27.0\n",
      "à 25.0\n",
      "les 24.0\n",
      "article 20.0\n",
      "nationale 20.0\n",
      "↬ 19.0\n",
      "en 13.0\n",
      "est 13.0\n",
      "titre 13.0\n",
      "ou 12.0\n",
      "qui 11.0\n",
      "fonctionnaires 10.0\n",
      "lautorité 10.0\n",
      "aux 9.0\n",
      "code 9.0\n",
      "fonctionnaire 9.0\n",
      "par 9.0\n",
      "commandement 8.0\n",
      "du 8.0\n",
      "leur 8.0\n",
      "ses 8.0\n",
      "au 7.0\n",
      "devoirs 7.0\n",
      "déontologie 7.0\n",
      "il 7.0\n",
      "ne 7.0\n",
      "a 6.0\n",
      "dans 6.0\n",
      "cas 5.0\n",
      "faire 5.0\n",
      "lordre 5.0\n",
      "ordres 5.0\n",
      "pour 5.0\n",
      "sa 5.0\n",
      "se 5.0\n",
      "si 5.0\n",
      "sont 5.0\n",
      "tout 5.0\n",
      "doit 4.0\n",
      "droits 4.0\n",
      "elle 4.0\n",
      "exécution 4.0\n",
      "missions 4.0\n",
      "pas 4.0\n",
      "personne 4.0\n"
     ]
    }
   ],
   "source": [
    "HashMap<String, Double> words_count = WordsCount.words_count(\"data/deontologie_police_nationale.txt\");\n",
    "WordsCount.print_map(WordsCount.sort(words_count), 50);"
   ]
  },
  {
   "cell_type": "markdown",
   "metadata": {},
   "source": [
    "__6. Les 50 mots du code du domaine public fluvial__\n",
    "\n",
    "Testez votre programme avec le code du domaine public fluvial domaine_public_fluvial.txt. \n",
    "\n",
    "Quels sont les 5 premiers mots (qui ressemblent à des mots) parmi les 50 premiers de la liste triée résultat ?  Gardez la réponse pour l’intégrer au rapport."
   ]
  },
  {
   "cell_type": "markdown",
   "metadata": {},
   "source": [
    "Les 5 premiers mots parmi les 50 premiers de la liste triée sont \"de, le, la, du, et\""
   ]
  },
  {
   "cell_type": "code",
   "execution_count": 12,
   "metadata": {},
   "outputs": [
    {
     "name": "stdout",
     "output_type": "stream",
     "text": [
      "de 630.0\n",
      "le 429.0\n",
      "la 370.0\n",
      "du 347.0\n",
      "et 295.0\n",
      "les 240.0\n",
      "des 222.0\n",
      "à 209.0\n",
      "est 173.0\n",
      "dans 150.0\n",
      "par 124.0\n",
      "sur 123.0\n",
      "ou 120.0\n",
      "en 109.0\n",
      "article 107.0\n",
      "bateau 106.0\n",
      "↬ 103.0\n",
      "au 97.0\n",
      "un 79.0\n",
      "pour 73.0\n",
      "tribunal 72.0\n",
      "lieu 69.0\n",
      "larticle 68.0\n",
      "aux 66.0\n",
      "il 66.0\n",
      "dimmatriculation 64.0\n",
      "qui 54.0\n",
      "bureau 50.0\n",
      "code 48.0\n",
      "titre 48.0\n",
      "navigation 46.0\n",
      "que 46.0\n",
      "dun 44.0\n",
      "bateaux 43.0\n",
      "où 43.0\n",
      "son 43.0\n",
      "domicile 42.0\n",
      "se 41.0\n",
      "créanciers 40.0\n",
      "juge 38.0\n",
      "a 37.0\n",
      "propriétaire 37.0\n",
      "commerce 36.0\n",
      "saisie 36.0\n",
      "intérieure 35.0\n",
      "délai 34.0\n",
      "nom 34.0\n",
      "prix 34.0\n",
      "sil 33.0\n",
      "cas 32.0\n"
     ]
    }
   ],
   "source": [
    "HashMap<String, Double> words_count = WordsCount.words_count(\"data/domaine_public_fluvial.txt\");\n",
    "WordsCount.print_map(WordsCount.sort(words_count), 50);"
   ]
  },
  {
   "cell_type": "markdown",
   "metadata": {},
   "source": [
    "__7. Les 50 mots du code de la santé publique__\n",
    "\n",
    "Testez votre programme avec le code de la santé publique sante_publique.txt. \n",
    "\n",
    "Quels sont les 5 premiers mots (qui ressemblent à des mots) parmi les 50 premiers de la liste triée résultat ?  Gardez la réponse pour l’intégrer au rapport. "
   ]
  },
  {
   "cell_type": "markdown",
   "metadata": {},
   "source": [
    "Les 5 premiers mots parmi les 50 premiers de la liste triée sont \"de, le, des, à, et\""
   ]
  },
  {
   "cell_type": "code",
   "execution_count": 13,
   "metadata": {},
   "outputs": [
    {
     "name": "stdout",
     "output_type": "stream",
     "text": [
      "de 190889.0\n",
      "la 82599.0\n",
      "des 67813.0\n",
      "à 65546.0\n",
      "et 62702.0\n",
      "les 62474.0\n",
      "le 56800.0\n",
      "du 48514.0\n",
      "ou 40848.0\n",
      "en 31742.0\n",
      "par 30718.0\n",
      "au 25730.0\n",
      "dans 25104.0\n",
      "article 23844.0\n",
      "larticle 22998.0\n",
      "↬ 21810.0\n",
      "est 21792.0\n",
      "un 20536.0\n",
      "santé 20197.0\n",
      "l 18762.0\n",
      "pour 16876.0\n",
      "aux 16144.0\n",
      "sont 15048.0\n",
      "une 13868.0\n",
      "sur 12624.0\n",
      "que 11348.0\n",
      "r 11236.0\n",
      "qui 10150.0\n",
      "dun 9672.0\n",
      "peut 8608.0\n",
      "directeur 8604.0\n",
      "lagence 8284.0\n",
      "conditions 8094.0\n",
      "être 8070.0\n",
      "cas 8040.0\n",
      "ne 7714.0\n",
      "a 7622.0\n",
      "conseil 7560.0\n",
      "dune 7374.0\n",
      "son 7298.0\n",
      "général 6912.0\n",
      "il 6666.0\n",
      "ce 6352.0\n",
      "ces 6188.0\n",
      "1° 6114.0\n",
      "dispositions 5926.0\n",
      "2° 5872.0\n",
      "leur 5766.0\n",
      "pas 5702.0\n",
      "sécurité 5282.0\n"
     ]
    }
   ],
   "source": [
    "HashMap<String, Double> words_count = WordsCount.words_count(\"data/sante_publique.txt\");\n",
    "WordsCount.print_map(WordsCount.sort(words_count), 50);"
   ]
  },
  {
   "cell_type": "markdown",
   "metadata": {},
   "source": [
    "### <font color=\"red\">Etape 4</font> : Lancer des programmes java à distance manuellement."
   ]
  },
  {
   "cell_type": "markdown",
   "metadata": {},
   "source": [
    "__Un premier programme SLAVE sous Eclipse__\n",
    "\n",
    "Faire un programme Java nommé “SLAVE” qui calcule 3+5, affiche le résultat, sous Eclipse (Pour lancer Eclipse: Menu applications>développement), lancer ce programme dans Eclipse (flèche verte “exécuter”)"
   ]
  },
  {
   "cell_type": "code",
   "execution_count": 1,
   "metadata": {},
   "outputs": [],
   "source": [
    "public class Slave {\n",
    "\n",
    "    public static void main() throws InterruptedException {\n",
    "        System.out.println(3 + 5);\n",
    "    }\n",
    "}"
   ]
  },
  {
   "cell_type": "code",
   "execution_count": 26,
   "metadata": {},
   "outputs": [
    {
     "name": "stdout",
     "output_type": "stream",
     "text": [
      "8\n"
     ]
    }
   ],
   "source": [
    "new Slave().main()"
   ]
  },
  {
   "cell_type": "markdown",
   "metadata": {},
   "source": [
    "__1. Exportation en JAR__\n",
    "\n",
    "Exporter le programme Java en slave.jar exécutable (Java ARchive dite Runnable) sous Eclipse. Attention de bien vérifier que le JAR est de type “Runnable”/”exécutable”."
   ]
  },
  {
   "cell_type": "markdown",
   "metadata": {},
   "source": [
    "Le fichier `slave.jar` se trouve dans dossier `hadoop-from-scratch/jar`"
   ]
  },
  {
   "cell_type": "markdown",
   "metadata": {},
   "source": [
    "__2. Exécution sur disque dur local__\n",
    "\n",
    "Créez le répertoire `/tmp/<votre nom d’utilisateur>/`\n",
    "Copiez  slave.jar exécutable dans le répertoire `/tmp/<votre nom d’utilisateur>/`\n",
    "Testez et Lancer le slave.jar en ligne de commande sur votre ordinateur local."
   ]
  },
  {
   "cell_type": "markdown",
   "metadata": {},
   "source": [
    "__Important__ : Veuillez activer le kernel python3"
   ]
  },
  {
   "cell_type": "code",
   "execution_count": 11,
   "metadata": {},
   "outputs": [
    {
     "name": "stdin",
     "output_type": "stream",
     "text": [
      "Voulez vous lancer la création du dossier /tmp/axel y/[n] y\n"
     ]
    }
   ],
   "source": [
    "user = !echo $USER\n",
    "choice = input('Voulez vous lancer la création du dossier /tmp/{} y/[n]'.format(user[0]))\n",
    "if choice == 'y':\n",
    "    !if test ! -d /tmp/$USER; then mkdir -p /tmp/$USER; fi"
   ]
  },
  {
   "cell_type": "code",
   "execution_count": 8,
   "metadata": {},
   "outputs": [
    {
     "name": "stdout",
     "output_type": "stream",
     "text": [
      "8\n"
     ]
    }
   ],
   "source": [
    "!cp jar/slave.jar /tmp/$USER && java -jar /tmp/$USER/slave.jar"
   ]
  },
  {
   "cell_type": "markdown",
   "metadata": {},
   "source": [
    "__3. Copie du JAR et exécution distante__\n",
    "\n",
    "Depuis la machine A contenant `/tmp/<votre nom d’utilisateur>/slave.jar` \n",
    "Créez à distance sur la machine B (s’il n’existe pas) un répertoire `/tmp/<votre nom d’utilisateur>/`\n",
    "Copiez slave.jar sur la machine B dans le répertoire `/tmp/<votre nom d’utilisateur>/`\n",
    "Exécutez à distance (depuis A sur la machine B) le slave.jar.\n",
    "Quelle est la commande tapée pour effectuer cette dernière action ?"
   ]
  },
  {
   "cell_type": "code",
   "execution_count": 50,
   "metadata": {},
   "outputs": [
    {
     "name": "stdout",
     "output_type": "stream",
     "text": [
      "slave.jar                                     100%   10KB   1.0MB/s   00:00    \n",
      "8\n"
     ]
    }
   ],
   "source": [
    "# Veuillez entrer nom d'une machine disponible sur le réseau et l'utilisateur\n",
    "# (la connexion sans mot de passe via ssh doit être configurée)\n",
    "remote_host = \"tp-tests.enst.fr\"\n",
    "remote_user = \"acamara\"\n",
    "\n",
    "!scp jar/slave.jar $remote_user@$remote_host:/tmp/$remote_user\n",
    "!ssh $remote_user@$remote_host java -jar /tmp/$remote_user/slave.jar"
   ]
  },
  {
   "cell_type": "markdown",
   "metadata": {},
   "source": [
    "__Important__ : Veuillez activer le kernel java"
   ]
  },
  {
   "cell_type": "markdown",
   "metadata": {},
   "source": [
    "### <font color=\"red\">Etape 5</font> : Lancer des programmes en ligne de commande depuis java et afficher la sortie standard et la sortie d’erreur."
   ]
  },
  {
   "cell_type": "markdown",
   "metadata": {},
   "source": [
    "__1. Un programme MASTER java qui lance un autre programme en ligne de commande!__\n",
    "\n",
    "Ecrire un programme java nommé “MASTER” qui lance la commande suivante en utilisant ProcessBuilder:\n",
    "```sh\n",
    "ls -al /tmp\n",
    "```\n",
    "(vous pouvez aussi tester cette commande dans un terminal avant)\n",
    "Récupérer et afficher la sortie de cette commande.\n",
    "Vous devez utiliser ProcessBuilder de cette façon:\n",
    "\n",
    "```java\n",
    "ProcessBuilder pb = new ProcessBuilder(\"ls\", “-al”, “/tmp”);\n",
    "```"
   ]
  },
  {
   "cell_type": "code",
   "execution_count": 18,
   "metadata": {},
   "outputs": [],
   "source": [
    "import java.io.BufferedReader;\n",
    "import java.io.IOException;\n",
    "import java.io.InputStreamReader;\n",
    "\n",
    "public class Master {\n",
    "    public static void run_shell_command(String[] command) {\n",
    "        ProcessBuilder pb = new ProcessBuilder(command);\n",
    "\n",
    "        try {\n",
    "            Process process = pb.start();\n",
    "            BufferedReader reader_input = new BufferedReader(new InputStreamReader(process.getInputStream()));\n",
    "\n",
    "            String line;\n",
    "            while ((line = reader_input.readLine()) != null) {\n",
    "                System.out.println(line);\n",
    "            }\n",
    "\n",
    "        } catch (IOException e) {\n",
    "            e.printStackTrace();\n",
    "        }\n",
    "    }\n",
    "\n",
    "    public static void main(String[] args) throws IOException {\n",
    "        Master.run_shell_command(args[0].split(\" \"));\n",
    "    }\n",
    "}"
   ]
  },
  {
   "cell_type": "code",
   "execution_count": 20,
   "metadata": {},
   "outputs": [
    {
     "name": "stdout",
     "output_type": "stream",
     "text": [
      "total 648\n",
      "drwxrwxrwt 17 root root   4096 Oct 13 16:39 .\n",
      "drwxr-xr-x 23 root root   4096 Oct 10 13:26 ..\n",
      "drwxrwxr-x  2 axel axel   4096 Oct 13 11:59 acamara\n",
      "-rw-rw-r--  1 axel axel    405 Oct  7 23:15 gradle-worker-classpath1054293946014425259txt\n",
      "-rw-r--r--  1 1000 1000    405 Sep 27 16:32 gradle-worker-classpath10796728312708717652txt\n",
      "-rw-r--r--  1 1000 1000    405 Sep 27 17:56 gradle-worker-classpath16526685033490323404txt\n",
      "-rw-r--r--  1 1000 1000    405 Sep 27 16:28 gradle-worker-classpath17730799258997419394txt\n",
      "drwxr-xr-x  2 1000 1000   4096 Oct  3 15:42 hsperfdata_aksl\n",
      "drwxr-xr-x  2 axel axel   4096 Oct 13 16:32 hsperfdata_axel\n",
      "drwxr-xr-x  2 root root   4096 Sep 27 15:28 hsperfdata_root\n",
      "-rw-rw-r--  1 axel axel   7273 Oct 12 16:06 kotlin-daemon.2019-10-12.14-52-46-710.00.log\n",
      "-rw-rw-r--  1 axel axel   1328 Oct 12 16:56 kotlin-daemon.2019-10-12.16-56-18-013.00.log\n",
      "-rw-rw-r--  1 axel axel   3451 Oct 12 17:08 kotlin-daemon.2019-10-12.16-59-57-526.00.log\n",
      "-rw-rw-r--  1 axel axel  27300 Oct 13 16:01 kotlin-daemon.2019-10-13.12-22-34-029.00.log\n",
      "-rw-rw-r--  1 axel axel      0 Oct 13 16:21 kotlin-idea-10545157169089265080-is-running\n",
      "-rw-rw-r--  1 axel axel      0 Oct 12 12:24 kotlin-idea-16692393433325272532-is-running\n",
      "drwx------  2 1000 1000   4096 Sep 26 13:50 pulse-PExnOPn6U12G\n",
      "drwxr-xr-x  2 1000 1000   4096 Sep 27 16:44 scijava-jupyter-kernel2325134602732832419.tmp\n",
      "drwxr-xr-x  2 1000 1000   4096 Sep 27 13:06 scijava-jupyter-kernel4156961003162864060.tmp\n",
      "drwxr-xr-x  2 1000 1000   4096 Sep 27 16:44 scijava-jupyter-kernel4589465637349644588.tmp\n",
      "drwxr-xr-x  2 1000 1000   4096 Sep 27 13:40 scijava-jupyter-kernel533801785109736498.tmp\n",
      "drwxr-xr-x  2 1000 1000   4096 Sep 27 13:40 scijava-jupyter-kernel6877102051137137698.tmp\n",
      "drwxr-xr-x  2 1000 1000   4096 Sep 27 13:06 scijava-jupyter-kernel9210686597063272602.tmp\n",
      "-rw-r--r--  1 1000 1000    137 Sep 27 13:05 scijava-script555083353303363494.py\n",
      "-rw-r--r--  1 1000 1000     14 Sep 27 16:42 scijava-script6862812591754358554.py\n",
      "-rw-r--r--  1 1000 1000    137 Sep 27 16:42 scijava-script8893828898862249628.py\n",
      "-rw-r--r--  1 1000 1000     14 Sep 27 13:05 scijava-script8939915651029555529.py\n",
      "drwx------  2 root root   4096 Sep 27 14:49 tmp9dp474t6\n",
      "-rw-------  1 1000 1000 511815 Sep 26 13:36 tmpaddon\n",
      "drwx------  2 root root   4096 Sep 11 14:50 tmphvnlq2_4\n",
      "drwx------  2 root root   4096 Sep 27 14:54 tmpleh2omwk\n",
      "drwx------  2 root root   4096 Sep 27 14:52 tmpxlohkzyr\n"
     ]
    }
   ],
   "source": [
    "new Master().main(new String[]{\"ls -al /tmp\"});"
   ]
  },
  {
   "cell_type": "markdown",
   "metadata": {},
   "source": [
    "__2. Un programme MASTER java qui gère les erreurs de lancement d’un autre programme en ligne de commande.__\n",
    "\n",
    "Modifiez votre programme”MASTER” pour qu’il affiche la sortie d’erreur en cas d’erreur lors de l’exécution de la commande. Testez la sortie d’erreur avec une commande qui échoue avec un sortie d’erreur. Essayez par exemple d’exécuter la commande “ls /jesuisunhero”.\n",
    "Explications: si on tape la commande “ls /jesuiunhero”, le dossier /jesuisunhero n’existant pas, on aura une erreur de type “impossible d’accéder à /jesuisunhero: aucun fichier ou dossier de ce type.” qui s’affiche dans la sortie d’erreur. En effet, il y a deux sorties: les sorties standards (sans erreur) et les sorties d’erreurs.\n",
    "Vous devez utiliser ProcessBuilder de cette façon:\n",
    "```java\n",
    "ProcessBuilder pb = new ProcessBuilder(\"ls\", \"/jesuisunhero”);\n",
    "```\n",
    "Sur `pb`, vous pouvez récupérer le flux de la sortie standard et le flux de la sortie d’erreur."
   ]
  },
  {
   "cell_type": "markdown",
   "metadata": {},
   "source": [
    "Afin de gérer les éventuelles erreurs lors du lancement du processus, nous pouvons utiliser la méthode `getErrorStream` de l'objet `Process`. Cette méthode revoie le flux de messages d'erreur du processus. "
   ]
  },
  {
   "cell_type": "code",
   "execution_count": 1,
   "metadata": {},
   "outputs": [],
   "source": [
    "import java.io.BufferedReader;\n",
    "import java.io.IOException;\n",
    "import java.io.InputStreamReader;\n",
    "\n",
    "public class Master {\n",
    "    public static void run_shell_command(String[] command) {\n",
    "        ProcessBuilder pb = new ProcessBuilder(command);\n",
    "\n",
    "        try {\n",
    "            Process process = pb.start();\n",
    "            BufferedReader reader_input = new BufferedReader(new InputStreamReader(process.getInputStream()));\n",
    "\n",
    "            String line;\n",
    "            while ((line = reader_input.readLine()) != null) {\n",
    "                System.out.println(line);\n",
    "            }\n",
    "            \n",
    "            BufferedReader reader_error = new BufferedReader(new InputStreamReader(process.getErrorStream()));\n",
    "\n",
    "            while ((line = reader_error.readLine()) != null) {\n",
    "                System.out.println(line);\n",
    "            }\n",
    "\n",
    "        } catch (IOException e) {\n",
    "            e.printStackTrace();\n",
    "        }\n",
    "    }\n",
    "\n",
    "    public static void main(String[] args) throws IOException {\n",
    "        Master.run_shell_command(args[0].split(\" \"));\n",
    "    }\n",
    "}"
   ]
  },
  {
   "cell_type": "code",
   "execution_count": 2,
   "metadata": {},
   "outputs": [
    {
     "name": "stdout",
     "output_type": "stream",
     "text": [
      "ls: cannot access '/fr': No such file or directory\n"
     ]
    }
   ],
   "source": [
    "new Master().main(new String[]{\"ls -al /fr\"});"
   ]
  },
  {
   "cell_type": "markdown",
   "metadata": {},
   "source": [
    "__3. Un programme MASTER java qui lance un slave.jar en ligne de commande.__\n",
    "\n",
    "Modifiez votre programme “MASTER” pour qu’il lance “SLAVE”, c’est à dire slave.jar situé sur la même machine que “MASTER” dans le dossier \n",
    "```sh\n",
    "/tmp/<votre nom d’utilisateur>/slave.jar\n",
    "```"
   ]
  },
  {
   "cell_type": "code",
   "execution_count": 4,
   "metadata": {},
   "outputs": [
    {
     "name": "stdout",
     "output_type": "stream",
     "text": [
      "8\n"
     ]
    }
   ],
   "source": [
    "new Master().main(new String[]{\"java -jar jar/slave.jar\"});"
   ]
  },
  {
   "cell_type": "markdown",
   "metadata": {},
   "source": [
    "### <font color=\"red\">Etape 6</font> : Gérer les timeout du MASTER."
   ]
  },
  {
   "cell_type": "markdown",
   "metadata": {},
   "source": [
    "__1. Un SLAVE qui simule un calcul de 10 secondes.__\n",
    "\n",
    "Modifiez votre programme SLAVE pour qu’il simule une attente de 10 secondes avant d’afficher le résultat du calcul 3+5. Pour cela utilisez\n",
    "`Thread.sleep(10000);` \n",
    "Vérifiez le bon fonctionnement du SLAVE et constatez qu’il y a 10 secondes entre le démarrage du SLAVE et l’affichage du résultat. Attention de ne rien afficher avant les 10 secondes pour que la question suivante fonctionne correctement.\n",
    "Générez de nouveau le slave.jar. Copiez-le en écrasant le slave.jar dans le dossier `/tmp/<votre nom d’utilisateur>/slave.jar`\n",
    "Testez le lancement à partir de MASTER."
   ]
  },
  {
   "cell_type": "code",
   "execution_count": 2,
   "metadata": {},
   "outputs": [],
   "source": [
    "public class Slave {\n",
    "\n",
    "    public static void main() throws InterruptedException {\n",
    "        Thread.sleep(10000);\n",
    "        System.out.println(3 + 5);\n",
    "    }\n",
    "}"
   ]
  },
  {
   "cell_type": "code",
   "execution_count": 3,
   "metadata": {},
   "outputs": [
    {
     "name": "stdout",
     "output_type": "stream",
     "text": [
      "8\n"
     ]
    }
   ],
   "source": [
    "new Slave().main()"
   ]
  },
  {
   "cell_type": "markdown",
   "metadata": {},
   "source": [
    "__2. Gérer les timeout au niveau du MASTER__\n",
    "\n",
    "Modifier le MASTER pour qu’il attende que quelque chose soit écrit dans la sortie standard (sans erreur) ou dans la sortie d’erreurs du SLAVE pendant un certain temps maximum. Au bout du temps imparti le MASTER considère un timeout.\n",
    "Il arrête les éventuels threads (si vous utilisez des threads - non obligatoire) s’occupant des sorties et/ou stoppe le processus créé avec ProcessBuilder.\n",
    "\n",
    "Vous devrez vérifier les TESTs suivants:\n",
    "- TEST1 : Testez le bon fonctionnement du timeout en lançant le SLAVE avec un timeout de 2 secondes sur les sorties (standard et d’erreur). Le timeout étant plus court (au niveau du MASTER 2 secondes) que le temps de calcul du SLAVE (10 secondes), le MASTER doit arrêter les éventuels threads (si vous en utilisez) et le processus.\n",
    "- TEST 2: Testez ensuite avec un timeout de 15 secondes, il ne devrait pas y avoir de timeout.\n",
    "- TEST 3: Testez ensuite en changeant le SLAVE pour qu’il écrive non plus dans la sortie standard (sans erreur) mais dans la sortie d’erreur. Pour cela, remplacez dans le Slave les System.out.print… par System.err.print…"
   ]
  },
  {
   "cell_type": "code",
   "execution_count": null,
   "metadata": {},
   "outputs": [],
   "source": [
    "import java.io.BufferedReader;\n",
    "import java.io.IOException;\n",
    "import java.io.InputStream;\n",
    "import java.io.InputStreamReader;\n",
    "import java.util.Arrays;\n",
    "import java.util.concurrent.LinkedBlockingQueue;\n",
    "import java.util.concurrent.TimeUnit;\n",
    "\n",
    "public class Master {\n",
    "\n",
    "    static class ProcessLauncher {\n",
    "        Process process;\n",
    "        Integer timeout;\n",
    "        String[] command;\n",
    "        boolean error = false;\n",
    "        ThreadReaderStream input_stream;\n",
    "        ThreadReaderStream error_stream;\n",
    "\n",
    "        ProcessLauncher(String command, Integer timeout) {\n",
    "            this.timeout = timeout;\n",
    "            this.command = command.split(\" \");\n",
    "            ProcessBuilder builder = new ProcessBuilder(this.command);\n",
    "            try {\n",
    "                this.process = builder.start();\n",
    "            } catch (IOException e1) {\n",
    "                e1.printStackTrace();\n",
    "            }\n",
    "            assert process != null;\n",
    "            input_stream = new ThreadReaderStream(process.getInputStream());\n",
    "            error_stream = new ThreadReaderStream(process.getErrorStream());\n",
    "            input_stream.start();\n",
    "            error_stream.start();\n",
    "        }\n",
    "\n",
    "        boolean launch_process() throws InterruptedException {\n",
    "            String line;\n",
    "            while (((line = input_stream.queue.poll(this.timeout, TimeUnit.SECONDS)) != null)) {\n",
    "                System.out.print(line + \"\\n\");\n",
    "            }\n",
    "            while (((line = error_stream.queue.poll()) != null)) {\n",
    "                System.out.print(line + \"\\n\");\n",
    "                error = true;\n",
    "            }\n",
    "            return !error;\n",
    "        }\n",
    "    }\n",
    "\n",
    "    static class ThreadReaderStream extends Thread {\n",
    "        LinkedBlockingQueue<String> queue = new LinkedBlockingQueue<>();\n",
    "        BufferedReader reader;\n",
    "\n",
    "        ThreadReaderStream(InputStream stream) {\n",
    "            this.reader = new BufferedReader(new InputStreamReader(stream));\n",
    "        }\n",
    "\n",
    "        @Override\n",
    "        public void run() {\n",
    "            try {\n",
    "                String line;\n",
    "                while ((line = reader.readLine()) != null) {\n",
    "                    queue.put(line);\n",
    "                }\n",
    "            } catch (IOException | InterruptedException e) {\n",
    "                e.printStackTrace();\n",
    "            }\n",
    "        }\n",
    "    }\n",
    "\n",
    "\n",
    "    public static void main(String[] args) throws InterruptedException {\n",
    "        // Deploy the\n",
    "        String[] pc = args;\n",
    "        // Une facon de lancer les threads, sans attendre de retour de leur part:\n",
    "        Arrays.asList(pc).parallelStream()\n",
    "                .forEach(command -> {\n",
    "                    try {\n",
    "                        new ProcessLauncher(command, 2).launch_process();\n",
    "                    } catch (InterruptedException e) {\n",
    "                        e.printStackTrace();\n",
    "                    }});\n",
    "    }\n",
    "}"
   ]
  },
  {
   "cell_type": "markdown",
   "metadata": {},
   "source": [
    "### <font color=\"red\">Etape 7</font> : Déployer automatiquement le programme SLAVE sur un ensemble de machines."
   ]
  },
  {
   "cell_type": "markdown",
   "metadata": {},
   "source": [
    "__1. Un programme DEPLOY : Test de connection SSH multiple__\n",
    "\n",
    "Créer un fichier texte à la main contenant : les adresses IP et/ou les noms des machines que nous voulons utiliser pour notre système réparti (par exemple toutes les machines de cette salle de TP), avec un nom ou une IP par ligne dans le fichier.\n",
    "Créer un nouveau programme java DEPLOY qui lit ce fichier ligne par ligne et teste si la connection SSH fonctionne bien sur chacune des machines. Attention, il s’agit bien d’un nouveau programme qui est séparé de MASTER ou SLAVE, vous ne l’exécuterez qu’en cas de mise à jour du SLAVE. Ceci permet de vérifier qu’une machine n’est pas éteinte ou qu’il y a un problème de connection (par exemple).\n",
    "Pour vérifier que la connection fonctionne bien, vous pouvez faire afficher le nom de la machine distante (en exécutant la commande hostname à distance) et vérifier que l’affichage a effectivement lieu, sans erreurs. Réutilisez des parties de codes de la cinquième étape.\n",
    "Votre programme DEPLOY lance-t-il les connections de manière séquentielle (les unes après les autres) ou de manière parallèle?"
   ]
  },
  {
   "cell_type": "code",
   "execution_count": null,
   "metadata": {},
   "outputs": [],
   "source": []
  }
 ],
 "metadata": {
  "kernelspec": {
   "display_name": "Java",
   "language": "java",
   "name": "java"
  },
  "language_info": {
   "codemirror_mode": "java",
   "file_extension": ".jshell",
   "mimetype": "text/x-java-source",
   "name": "Java",
   "pygments_lexer": "java",
   "version": "11.0.4+11-post-Ubuntu-1ubuntu218.04.3"
  }
 },
 "nbformat": 4,
 "nbformat_minor": 4
}
